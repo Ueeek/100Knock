{
 "cells": [
  {
   "cell_type": "markdown",
   "metadata": {},
   "source": [
    "# Chap5 係り受け解析"
   ]
  },
  {
   "cell_type": "code",
   "execution_count": 1,
   "metadata": {},
   "outputs": [],
   "source": [
    "import CaboCha\n",
    "import re\n",
    "import pydot_ng as pydot\n",
    "import graphviz"
   ]
  },
  {
   "cell_type": "code",
   "execution_count": 2,
   "metadata": {},
   "outputs": [],
   "source": [
    "def parse():\n",
    "    '''\n",
    "    neko.txt.cabochaを作る\n",
    "    '''\n",
    "    with open(\"./neko.txt\") as f:\n",
    "        with open(\"./neko.txt.cabocha\",\"w\") as outFile:\n",
    "            cabocha = CaboCha.Parser()\n",
    "            for line in f:\n",
    "                outFile.write(cabocha.parse(line).toString(CaboCha.FORMAT_LATTICE))\n",
    "            "
   ]
  },
  {
   "cell_type": "code",
   "execution_count": 3,
   "metadata": {},
   "outputs": [
    {
     "name": "stdout",
     "output_type": "stream",
     "text": [
      "* 0 -1D 0/0 0.000000\r\n",
      "一\t名詞,数,*,*,*,*,一,イチ,イチ\r\n",
      "EOS\r\n",
      "EOS\r\n",
      "* 0 2D 0/0 -0.764522\r\n",
      "　\t記号,空白,*,*,*,*,　,　,　\r\n",
      "* 1 2D 0/1 -0.764522\r\n",
      "吾輩\t名詞,代名詞,一般,*,*,*,吾輩,ワガハイ,ワガハイ\r\n",
      "は\t助詞,係助詞,*,*,*,*,は,ハ,ワ\r\n",
      "* 2 -1D 0/2 0.000000\r\n"
     ]
    }
   ],
   "source": [
    "! head -n 10 ./neko.txt.cabocha"
   ]
  },
  {
   "cell_type": "markdown",
   "metadata": {},
   "source": [
    "# 40 係り受け解析結果の読み込み"
   ]
  },
  {
   "cell_type": "code",
   "execution_count": 4,
   "metadata": {},
   "outputs": [],
   "source": [
    "class Morph:\n",
    "    '''\n",
    "    形態素を表すクラス\n",
    "    surface:表層系\n",
    "    base:基本形\n",
    "    pos:品詞\n",
    "    po1:品詞再分類\n",
    "    '''\n",
    "    def __init__(self,surface,base,pos,pos1):\n",
    "        self.surface=surface\n",
    "        self.base=base\n",
    "        self.pos=pos\n",
    "        self.pos1=pos1\n",
    "    \n",
    "    def __str__(self):\n",
    "        '''オブジェクトの文字列表現'''\n",
    "        return \"surface:{},base:{},pos:{},pos1:{}\".format(self.surface,self.base,self.pos,self.pos1)\n",
    "    \n"
   ]
  },
  {
   "cell_type": "markdown",
   "metadata": {},
   "source": [
    "表層形 （Tab区切り）\n",
    "品詞、品詞細分類1,品詞細分類2,品詞細分類3,活用形,活用型,原形,読み,発音"
   ]
  },
  {
   "cell_type": "code",
   "execution_count": 5,
   "metadata": {},
   "outputs": [],
   "source": [
    "def morph_lines():\n",
    "    '''\n",
    "    係り受け解析結果のジェネレータ\n",
    "    '''\n",
    "    with open(\"./neko.txt.cabocha\") as file:\n",
    "        morphs=[]\n",
    "        for line in file:\n",
    "            #文の終わりに、一文の形態素解析結果を yield\n",
    "            if line==\"EOS\\n\":\n",
    "                if len(morphs)>0:\n",
    "                    yield morphs\n",
    "                    morphs=[]\n",
    "            else:\n",
    "                if line[0]=='*':\n",
    "                    #解析結果のかかり先とかの情報。これは、結果に加えない。\n",
    "                    continue\n",
    "                else:\n",
    "                    cols = line.split('\\t')\n",
    "                    res_cols=cols[1].split(',')\n",
    "                    new_morph=Morph(cols[0],res_cols[6],res_cols[0],res_cols[1])\n",
    "                    morphs.append(\n",
    "                       new_morph\n",
    "                    )"
   ]
  },
  {
   "cell_type": "code",
   "execution_count": 6,
   "metadata": {},
   "outputs": [
    {
     "name": "stdout",
     "output_type": "stream",
     "text": [
      "3文め\n",
      "surface:　,base:　,pos:記号,pos1:空白\n",
      "surface:どこ,base:どこ,pos:名詞,pos1:代名詞\n",
      "surface:で,base:で,pos:助詞,pos1:格助詞\n",
      "surface:生れ,base:生れる,pos:動詞,pos1:自立\n",
      "surface:た,base:た,pos:助動詞,pos1:*\n",
      "surface:か,base:か,pos:助詞,pos1:副助詞／並立助詞／終助詞\n",
      "surface:とんと,base:とんと,pos:副詞,pos1:一般\n",
      "surface:見当,base:見当,pos:名詞,pos1:サ変接続\n",
      "surface:が,base:が,pos:助詞,pos1:格助詞\n",
      "surface:つか,base:つく,pos:動詞,pos1:自立\n",
      "surface:ぬ,base:ぬ,pos:助動詞,pos1:*\n",
      "surface:。,base:。,pos:記号,pos1:句点\n"
     ]
    }
   ],
   "source": [
    "for i,morphs in enumerate(morph_lines()):\n",
    "    if i==3:\n",
    "        print(\"{}文め\".format(i))\n",
    "        for morph in morphs:\n",
    "            print(morph)\n",
    "            \n",
    "        break"
   ]
  },
  {
   "cell_type": "markdown",
   "metadata": {},
   "source": [
    "# 41 Chunk　クラスの実装"
   ]
  },
  {
   "cell_type": "code",
   "execution_count": 7,
   "metadata": {},
   "outputs": [],
   "source": [
    "class Chunk:\n",
    "    '''\n",
    "    文節を表す\n",
    "    morphs:Morphのlist\n",
    "    dst: かかり先文節のインデックス番号\n",
    "    srcs:かかり元文節のインデックス番号のlist\n",
    "    \n",
    "    functions:\n",
    "    \n",
    "    remove_punctuation: 記号を取り除く\n",
    "    contain_pos_in_morph(pos): posを含むかをみる-> bool\n",
    "    '''\n",
    "    def __init__(self):\n",
    "        self.morphs=[]\n",
    "        self.srcs=[]\n",
    "        self.dst=-1\n",
    "    \n",
    "    def __str__(self):      \n",
    "        surface = ''\n",
    "        for morph in self.morphs:\n",
    "            surface += morph.surface\n",
    "        return 'surface:{}\\tsrcs:{}\\tdst:[{}]'.format(surface, self.srcs, self.dst)\n",
    "    \n",
    "    def remove_punctuation(self)->str:\n",
    "        '''\n",
    "        記号を取り除く'''\n",
    "        ret=''\n",
    "        for morph in self.morphs:\n",
    "            if morph.pos != '記号':\n",
    "                ret += morph.surface\n",
    "        return ret\n",
    "    \n",
    "    def contain_pos_in_morphs(self,searchPos)->bool:\n",
    "        '''\n",
    "        chunkのなかにseachPos(品詞名)を含むか\n",
    "        ret:bool\n",
    "        '''        \n",
    "        for morph in self.morphs:\n",
    "            if morph.pos==searchPos:\n",
    "                return True\n",
    "        return False\n",
    "    \n",
    "    def get_pos_in_morphs(self,pos)->list:\n",
    "        '''\n",
    "        morphsにposを含むchunkのlistをreturn'''\n",
    "        return [res for res in self.morphs if res.pos==pos]\n",
    "        \n",
    "    def get_kaku_frame(self)->list:\n",
    "        '''\n",
    "        助詞の格パターンとこうをreturn\n",
    "        '''\n",
    "        for m in reversed(self.morphs):\n",
    "            if m.pos==\"助詞\": \n",
    "                return [m.base,self.remove_punctuation()]\n",
    "        \n",
    "\n",
    "        \n",
    "    def get_sahen_wo(self)->list:\n",
    "        '''\n",
    "        [さ変接続名詞+を]を含む場合は、surfaceを返す\n",
    "        '''\n",
    "        for m1,m2 in zip(reversed(self.morphs[:-1]),reversed(self.morphs)):\n",
    "            if m1.pos==\"名詞\" and m1.pos1==\"サ変接続\":\n",
    "                if m2.pos==\"助詞\" and m2.surface==\"を\":\n",
    "                    return [m2.base,self.remove_punctuation()]\n",
    "                \n",
    "    def mask_noun(self,char)->str:\n",
    "        '''\n",
    "        一番最初の名詞をcharに置き換えてstrで返す'''\n",
    "        ret=\"\"\n",
    "        replaced=False\n",
    "        for m in self.morphs:\n",
    "            if (not replaced) and m.pos==\"名詞\":\n",
    "                ret+=char\n",
    "                replaced=True\n",
    "            elif m.pos==\"記号\":\n",
    "                continue\n",
    "            else:\n",
    "                ret+=m.surface\n",
    "        return ret"
   ]
  },
  {
   "cell_type": "markdown",
   "metadata": {},
   "source": [
    "\\*で始まる行  \n",
    "* \\* 文節番号 係り先の文節番号(係り先なし:-1) 主辞の形態素番号/機能語の形態素番号 係り関係のスコア(大きい方が係りやすい)\n"
   ]
  },
  {
   "cell_type": "code",
   "execution_count": 8,
   "metadata": {},
   "outputs": [],
   "source": [
    "def chunk_lines():\n",
    "    '''\n",
    "    係り受け解析\n",
    "    '''\n",
    "    with open(\"./neko.txt.cabocha\") as file:\n",
    "        chunks=dict() #すでにでてきた、文節番号\n",
    "        idx=-1 #文節番号\n",
    "        \n",
    "        for line in file:\n",
    "            if line==\"EOS\\n\": #一文づつの解析ー>一文の終わりでreturn\n",
    "                if len(chunks)>0:\n",
    "                    #chunksを文節番号順に並べる。\n",
    "                    sorted_tuple = sorted(chunks.items(),key=lambda x:x[0])\n",
    "                    ret=[]\n",
    "                    for chunk in sorted_tuple:\n",
    "                        ret.append(chunk[1])\n",
    "                    yield ret\n",
    "                    chunks.clear()\n",
    "                \n",
    "            elif line[0]==\"*\":#係り受けの情報\n",
    "                cols=line.split(' ')\n",
    "                idx=int(cols[1])\n",
    "                dst_reg = re.search(r'(.*?)D',cols[2])  #(num)Dのnumがかかり先dst\n",
    "                dst = int(dst_reg.group(1))\n",
    "                \n",
    "                if idx not in chunks:\n",
    "                    chunks[idx]=Chunk()\n",
    "                chunks[idx].dst=dst\n",
    "                \n",
    "                if dst != -1:\n",
    "                    if dst not in chunks:\n",
    "                        chunks[dst]=Chunk()\n",
    "                    chunks[dst].srcs.append(idx)\n",
    "            else:#morphの情報\n",
    "                cols = line.split(\"\\t\")\n",
    "                res_cols=cols[1].split(\",\")\n",
    "                \n",
    "                chunks[idx].morphs.append(\n",
    "                    Morph(\n",
    "                        cols[0],\n",
    "                        res_cols[6],\n",
    "                        res_cols[0],\n",
    "                        res_cols[1])\n",
    "                )"
   ]
  },
  {
   "cell_type": "code",
   "execution_count": 9,
   "metadata": {},
   "outputs": [
    {
     "name": "stdout",
     "output_type": "stream",
     "text": [
      "chunk 0\n",
      "surface:しかし\tsrcs:[]\tdst:[9]\n",
      "chunk 1\n",
      "surface:その\tsrcs:[]\tdst:[2]\n",
      "chunk 2\n",
      "surface:当時は\tsrcs:[1]\tdst:[5]\n",
      "chunk 3\n",
      "surface:何という\tsrcs:[]\tdst:[4]\n",
      "chunk 4\n",
      "surface:考も\tsrcs:[3]\tdst:[5]\n",
      "chunk 5\n",
      "surface:なかったから\tsrcs:[2, 4]\tdst:[9]\n",
      "chunk 6\n",
      "surface:別段\tsrcs:[]\tdst:[7]\n",
      "chunk 7\n",
      "surface:恐し\tsrcs:[6]\tdst:[9]\n",
      "chunk 8\n",
      "surface:いとも\tsrcs:[]\tdst:[9]\n",
      "chunk 9\n",
      "surface:思わなかった。\tsrcs:[0, 5, 7, 8]\tdst:[-1]\n"
     ]
    }
   ],
   "source": [
    "for i,chunks in enumerate(chunk_lines()):\n",
    "    if i==8:\n",
    "        for j,chunk in enumerate(chunks):\n",
    "            print(\"chunk {}\".format(j))\n",
    "            print(chunk)\n",
    "        break"
   ]
  },
  {
   "cell_type": "markdown",
   "metadata": {},
   "source": [
    "# 42 かかり元とかかり先の文節の表示"
   ]
  },
  {
   "cell_type": "code",
   "execution_count": 10,
   "metadata": {},
   "outputs": [
    {
     "name": "stdout",
     "output_type": "stream",
     "text": [
      "吾輩は\t猫である\n",
      "名前は\t無い\n",
      "まだ\t無い\n",
      "どこで\t生れたか\n",
      "生れたか\tつかぬ\n",
      "とんと\tつかぬ\n",
      "見当が\tつかぬ\n",
      "何でも\t薄暗い\n",
      "薄暗い\t所で\n",
      "じめじめした\t所で\n",
      "所で\t泣いて\n",
      "ニャーニャー\t泣いて\n",
      "泣いて\t記憶している\n",
      "いた事だけは\t記憶している\n",
      "吾輩は\t見た\n",
      "ここで\t始めて\n",
      "始めて\t人間という\n",
      "人間という\tものを\n",
      "ものを\t見た\n",
      "しかも\t種族であったそうだ\n",
      "あとで\t聞くと\n",
      "聞くと\t種族であったそうだ\n",
      "それは\t種族であったそうだ\n",
      "書生という\t人間中で\n",
      "人間中で\t種族であったそうだ\n",
      "一番\t獰悪な\n",
      "獰悪な\t種族であったそうだ\n",
      "この\t書生というのは\n",
      "書生というのは\t話である\n",
      "時々\t捕えて\n",
      "我々を\t捕えて\n",
      "捕えて\t煮て\n",
      "煮て\t食うという\n",
      "食うという\t話である\n",
      "しかし\t思わなかった\n",
      "その\t当時は\n",
      "当時は\tなかったから\n",
      "何という\t考も\n",
      "考も\tなかったから\n",
      "なかったから\t思わなかった\n",
      "別段\t恐し\n",
      "恐し\t思わなかった\n",
      "いとも\t思わなかった\n",
      "ただ\t載せられて\n",
      "彼の\t掌に\n",
      "掌に\t載せられて\n",
      "載せられて\t持ち上げられた\n",
      "スーと\t持ち上げられた\n",
      "持ち上げられた\t時\n",
      "時\tフワフワした\n",
      "何だか\tフワフワした\n",
      "フワフワした\t感じが\n",
      "感じが\tあったばかりである\n"
     ]
    }
   ],
   "source": [
    "for _,chunks in zip(range(10),chunk_lines()):\n",
    "    for chunk in chunks:\n",
    "        if chunk.dst != -1:#chunkのかかり先がある場合\n",
    "            src_str = chunk.remove_punctuation()\n",
    "            dst_str = chunks[chunk.dst].remove_punctuation()\n",
    "            if src_str != '' and dst_str != '':\n",
    "                print(\"{}\\t{}\".format(src_str,dst_str))"
   ]
  },
  {
   "cell_type": "markdown",
   "metadata": {},
   "source": [
    "# 43 名詞を含む文節が動詞を含む文節にかかるもの"
   ]
  },
  {
   "cell_type": "code",
   "execution_count": 11,
   "metadata": {},
   "outputs": [
    {
     "name": "stdout",
     "output_type": "stream",
     "text": [
      "n:どこで\tv:生れたか\n",
      "n:見当が\tv:つかぬ\n",
      "n:所で\tv:泣いて\n",
      "n:ニャーニャー\tv:泣いて\n",
      "n:いた事だけは\tv:記憶している\n",
      "n:吾輩は\tv:見た\n",
      "n:ここで\tv:始めて\n",
      "n:ものを\tv:見た\n",
      "n:あとで\tv:聞くと\n",
      "n:我々を\tv:捕えて\n",
      "n:掌に\tv:載せられて\n",
      "n:スーと\tv:持ち上げられた\n",
      "n:時\tv:フワフワした\n",
      "n:感じが\tv:あったばかりである\n"
     ]
    }
   ],
   "source": [
    "for _,chunks in zip(range(10),chunk_lines()):\n",
    "    for chunk in chunks:\n",
    "        if chunk.dst != -1:\n",
    "            src_chunk = chunk\n",
    "            dst_chunk = chunks[chunk.dst]\n",
    "            if src_chunk.contain_pos_in_morphs(\"名詞\") and dst_chunk.contain_pos_in_morphs(\"動詞\"):\n",
    "                src_str=src_chunk.remove_punctuation()\n",
    "                dst_str= dst_chunk.remove_punctuation()\n",
    "                if src_str!='':\n",
    "                    print(\"n:\"+src_str+\"\\t\"+\"v:\"+dst_str)\n",
    "            "
   ]
  },
  {
   "cell_type": "markdown",
   "metadata": {},
   "source": [
    "# 44 係り受け木の可視化"
   ]
  },
  {
   "cell_type": "code",
   "execution_count": 12,
   "metadata": {},
   "outputs": [],
   "source": [
    "from graphviz import Digraph\n",
    "def create_graph(edges):\n",
    "    graph = Digraph(format='png')\n",
    "    graph.attr('node',shape='circle')\n",
    "    \n",
    "    nodes=set()\n",
    "    #node の追加\n",
    "    for src,dst in edges:\n",
    "        if src[0] not in nodes:\n",
    "            graph.node(src[0],src[1])\n",
    "            nodes.add(src[0])\n",
    "        if dst[0] not in edges:\n",
    "            graph.node(dst[0],dst[1])\n",
    "            nodes.add(dst[0])\n",
    "        \n",
    "    #edge　の追加\n",
    "    for src,dst in edges:\n",
    "        graph.edge(src[0],dst[0])\n",
    "    graph.render(\"tree\")\n",
    "            \n",
    "    "
   ]
  },
  {
   "cell_type": "code",
   "execution_count": 13,
   "metadata": {},
   "outputs": [],
   "source": [
    "def create_edges(idx):\n",
    "    '''\n",
    "    chunkの係関係を、辺の形式でret src->dst'''\n",
    "    for i,chunks in enumerate(chunk_lines(),1):\n",
    "        if i==idx:\n",
    "            edges=[]\n",
    "            for i,chunk in enumerate(chunks):\n",
    "                if chunk.dst != -1:\n",
    "                    src_str = chunk.remove_punctuation()\n",
    "                    dst_str = chunks[chunk.dst].remove_punctuation()\n",
    "                    if src_str!='' and dst_str!= '':\n",
    "                        edges.append([[str(i),src_str],[str(chunk.dst),dst_str]])\n",
    "        \n",
    "            return edges\n",
    "        \n",
    "    "
   ]
  },
  {
   "cell_type": "code",
   "execution_count": 14,
   "metadata": {},
   "outputs": [],
   "source": [
    "edges=create_edges(10)"
   ]
  },
  {
   "cell_type": "code",
   "execution_count": 15,
   "metadata": {},
   "outputs": [],
   "source": [
    "if len(edges)>0:\n",
    "    graph = create_graph(edges)"
   ]
  },
  {
   "cell_type": "code",
   "execution_count": 16,
   "metadata": {},
   "outputs": [
    {
     "data": {
      "image/png": "[encoded data removed]"
     },
     "metadata": {},
     "output_type": "display_data"
    }
   ],
   "source": [
    "from IPython.display import Image,display_png\n",
    "display_png(Image('tree.png'))"
   ]
  },
  {
   "cell_type": "markdown",
   "metadata": {},
   "source": [
    "# 45 動詞の各パターンの抽出"
   ]
  },
  {
   "cell_type": "code",
   "execution_count": 17,
   "metadata": {},
   "outputs": [],
   "source": [
    "with open(\"res_45.txt\",\"w\") as outFile:\n",
    "    for chunks in chunk_lines():\n",
    "        for chunk in chunks:\n",
    "            chunk_with_verbs= chunk.get_pos_in_morphs(\"動詞\")\n",
    "            if len(chunk_with_verbs)==0:\n",
    "                #動詞を含まない\n",
    "                continue\n",
    "            #助詞で動詞へかかってるやつ\n",
    "            particles=[]\n",
    "            for src in chunk.srcs:\n",
    "                particles_in_chunk = chunks[src].get_pos_in_morphs(\"助詞\")\n",
    "                if len(particles_in_chunk)>0:\n",
    "                    particles.extend(particles_in_chunk)\n",
    "            verb=chunk_with_verbs[0]\n",
    "            if len(particles)>0:\n",
    "                outFile.write(\"{}\\t{}\\n\".format(verb.base,' '.join(sorted(prt.surface for prt in particles))))\n",
    "                \n",
    "            "
   ]
  },
  {
   "cell_type": "code",
   "execution_count": 18,
   "metadata": {},
   "outputs": [
    {
     "name": "stdout",
     "output_type": "stream",
     "text": [
      "生れる\tで\r\n",
      "つく\tか が\r\n",
      "泣く\tで\r\n",
      "する\tだけ て は\r\n",
      "始める\tで\r\n",
      "見る\tは を\r\n",
      "聞く\tで\r\n",
      "捕える\tを\r\n",
      "煮る\tて\r\n",
      "食う\tて\r\n"
     ]
    }
   ],
   "source": [
    "! head res_45.txt"
   ]
  },
  {
   "cell_type": "markdown",
   "metadata": {},
   "source": [
    "## Unix　確認"
   ]
  },
  {
   "cell_type": "code",
   "execution_count": 19,
   "metadata": {},
   "outputs": [
    {
     "name": "stdout",
     "output_type": "stream",
     "text": [
      "chap5.ipynb      res.txt          res_47.txt       result.png\r\n",
      "neko.txt         res_45.txt       res_48.txt       tree\r\n",
      "neko.txt.cabocha res_46.txt       res_49.txt       tree.png\r\n"
     ]
    }
   ],
   "source": [
    "! ls "
   ]
  },
  {
   "cell_type": "markdown",
   "metadata": {},
   "source": [
    "## 頻出する述語と格パターンの組み合わせ"
   ]
  },
  {
   "cell_type": "code",
   "execution_count": 20,
   "metadata": {},
   "outputs": [
    {
     "name": "stdout",
     "output_type": "stream",
     "text": [
      " 565 云う\tと\r\n",
      " 442 する\tを\r\n",
      " 249 思う\tと\r\n",
      " 199 ある\tが\r\n",
      " 189 なる\tに\r\n",
      " 174 する\tに\r\n",
      " 173 見る\tて\r\n",
      " 127 する\tと\r\n",
      " 117 する\tが\r\n",
      " 105 する\tに を\r\n",
      "sort: Broken pipe\r\n"
     ]
    }
   ],
   "source": [
    " ! sort res_45.txt | uniq -c | sort --numeric-sort --reverse | head"
   ]
  },
  {
   "cell_type": "markdown",
   "metadata": {},
   "source": [
    "## する という動詞の格パターン"
   ]
  },
  {
   "cell_type": "code",
   "execution_count": 21,
   "metadata": {},
   "outputs": [
    {
     "name": "stdout",
     "output_type": "stream",
     "text": [
      " 442 する\tを\r\n",
      " 174 する\tに\r\n",
      " 127 する\tと\r\n",
      " 117 する\tが\r\n",
      " 105 する\tに を\r\n",
      "  86 する\tて を\r\n",
      "  59 する\tは\r\n",
      "  58 する\tて\r\n",
      "  57 する\tが を\r\n",
      "  48 する\tから\r\n"
     ]
    }
   ],
   "source": [
    "! grep \"^する\\s\" res_45.txt | sort | uniq -c | sort --numeric-sort --reverse | head"
   ]
  },
  {
   "cell_type": "markdown",
   "metadata": {},
   "source": [
    "## 見る　という動詞の格パターン"
   ]
  },
  {
   "cell_type": "code",
   "execution_count": 22,
   "metadata": {},
   "outputs": [
    {
     "name": "stdout",
     "output_type": "stream",
     "text": [
      " 173 見る\tて\r\n",
      "  94 見る\tを\r\n",
      "  21 見る\tて て\r\n",
      "  20 見る\tから\r\n",
      "  18 見る\tて を\r\n",
      "  14 見る\tと\r\n",
      "  12 見る\tから て\r\n",
      "  12 見る\tで\r\n",
      "  11 見る\tて は\r\n",
      "   8 見る\tに\r\n"
     ]
    }
   ],
   "source": [
    "! grep \"^見る\\s\" res_45.txt | sort | uniq -c | sort --numeric-sort --reverse | head"
   ]
  },
  {
   "cell_type": "markdown",
   "metadata": {},
   "source": [
    "## 与える　という動詞の格パターンの"
   ]
  },
  {
   "cell_type": "code",
   "execution_count": 23,
   "metadata": {},
   "outputs": [
    {
     "name": "stdout",
     "output_type": "stream",
     "text": [
      "   3 与える\tに を\r\n",
      "   2 与える\tて に は を\r\n",
      "   1 与える\tけれども に は を\r\n",
      "   1 与える\tだけ で に を\r\n",
      "   1 与える\tたり て に を\r\n",
      "   1 与える\tに に対して のみ は は も\r\n",
      "   1 与える\tか じゃあ て と は を\r\n",
      "   1 与える\tか として を\r\n",
      "   1 与える\tが て て と に は は を\r\n",
      "   1 与える\tて に に は を\r\n"
     ]
    }
   ],
   "source": [
    "! grep \"^与える\\s\" res_45.txt | sort | uniq -c | sort --numeric-sort --reverse | head"
   ]
  },
  {
   "cell_type": "markdown",
   "metadata": {},
   "source": [
    "# 46 動詞の各フレーム情報の抽出"
   ]
  },
  {
   "cell_type": "code",
   "execution_count": 24,
   "metadata": {},
   "outputs": [],
   "source": [
    "with open(\"res_46.txt\",\"w\") as outFile:\n",
    "    for chunks in chunk_lines():\n",
    "        for chunk in chunks:\n",
    "            chunk_with_verbs= chunk.get_pos_in_morphs(\"動詞\")\n",
    "            if len(chunk_with_verbs)==0:\n",
    "                #動詞を含まない\n",
    "                continue\n",
    "            #助詞で動詞へかかってるやつ\n",
    "            particles=[]\n",
    "            for src in chunk.srcs:\n",
    "                #助詞のchunks_list\n",
    "                if chunks[src].contain_pos_in_morphs(\"助詞\"):\n",
    "                    src_chunk = chunks[src]\n",
    "                    ret=src_chunk.get_kaku_frame() #ret->{助詞,chunkのsurface}\n",
    "                    if ret:\n",
    "                        particles.append(ret)\n",
    "                        \n",
    "            if len(particles)>0:\n",
    "                particles = sorted(particles,key=lambda x:x[0])\n",
    "                outFile.write(\"{}\\t[助詞]{}\\t[chunk]{}\\n\".format(chunk_with_verbs[0].base,\n",
    "                                      \",\".join([v[0] for v in particles]),\n",
    "                                     \",\".join([v[1] for v in particles])))"
   ]
  },
  {
   "cell_type": "code",
   "execution_count": 25,
   "metadata": {},
   "outputs": [
    {
     "name": "stdout",
     "output_type": "stream",
     "text": [
      "生れる\t[助詞]で\t[chunk]どこで\r\n",
      "つく\t[助詞]か,が\t[chunk]生れたか,見当が\r\n",
      "泣く\t[助詞]で\t[chunk]所で\r\n",
      "する\t[助詞]て,は\t[chunk]泣いて,いた事だけは\r\n",
      "始める\t[助詞]で\t[chunk]ここで\r\n",
      "見る\t[助詞]は,を\t[chunk]吾輩は,ものを\r\n",
      "聞く\t[助詞]で\t[chunk]あとで\r\n",
      "捕える\t[助詞]を\t[chunk]我々を\r\n",
      "煮る\t[助詞]て\t[chunk]捕えて\r\n",
      "食う\t[助詞]て\t[chunk]煮て\r\n"
     ]
    }
   ],
   "source": [
    "! head -n 10 res_46.txt"
   ]
  },
  {
   "cell_type": "markdown",
   "metadata": {},
   "source": [
    "# 47 機能動詞構文のマイニング"
   ]
  },
  {
   "cell_type": "code",
   "execution_count": 26,
   "metadata": {},
   "outputs": [],
   "source": [
    "with open(\"res_47.txt\",\"w\") as outFile:\n",
    "    for _,chunks in zip(range(10**6),chunk_lines()):\n",
    "        for chunk in chunks:\n",
    "            chunk_with_verbs= chunk.get_pos_in_morphs(\"動詞\")\n",
    "            if len(chunk_with_verbs)==0:\n",
    "                #動詞を含まない\n",
    "                continue\n",
    "            #助詞で動詞へかかってるやつ\n",
    "            verb = chunk_with_verbs[0]\n",
    "            particles=[]\n",
    "            for src in chunk.srcs:\n",
    "                #助詞のchunks_list\n",
    "                if chunks[src].contain_pos_in_morphs(\"助詞\"):\n",
    "                    src_chunk = chunks[src]\n",
    "                    ret=src_chunk.get_kaku_frame()\n",
    "                    if ret:\n",
    "                        particles.append(ret)\n",
    "                \n",
    "            #さ変接続動詞を見つける\n",
    "            sahenwo=[]\n",
    "            for src in chunk.srcs:\n",
    "                if chunks[src].contain_pos_in_morphs(\"助詞\"):\n",
    "                    ret = chunks[src].get_sahen_wo()\n",
    "                    if ret:\n",
    "                        sahenwo.append(ret)\n",
    "                        break# 最左動詞のみ\n",
    "            if sahenwo:\n",
    "                for i in range(len(particles)):\n",
    "                    if particles[i][1]==sahenwo[0][1]:\n",
    "                        particles.remove(particles[i])\n",
    "                        break\n",
    "                    \n",
    "            if len(particles)>0 and sahenwo:\n",
    "                particles = sorted(particles,key=lambda x:x[0])\n",
    "                outFile.write(\"{}\\t[助詞]{}\\t[chunk]{}\\n\".format(sahenwo[0][1]+verb.base,\n",
    "                                      \",\".join([v[0] for v in particles]),\n",
    "                                     \",\".join([v[1] for v in particles])))"
   ]
  },
  {
   "cell_type": "code",
   "execution_count": 27,
   "metadata": {},
   "outputs": [
    {
     "name": "stdout",
     "output_type": "stream",
     "text": [
      "決心をする\t[助詞]と\t[chunk]こうと\r\n",
      "返報をする\t[助詞]んで\t[chunk]偸んで\r\n",
      "昼寝をする\t[助詞]が\t[chunk]彼が\r\n",
      "迫害を加える\t[助詞]て\t[chunk]追い廻して\r\n",
      "家族的生活をする\t[助詞]が,を\t[chunk]我等猫族が,愛を\r\n",
      "投書をする\t[助詞]て,へ\t[chunk]やって,ほととぎすへ\r\n",
      "話をする\t[助詞]に\t[chunk]時に\r\n",
      "昼寝をする\t[助詞]て\t[chunk]出て\r\n",
      "欠伸をする\t[助詞]から,て,て\t[chunk]なったから,して,押し出して\r\n",
      "報道をする\t[助詞]に\t[chunk]耳に\r\n",
      "御馳走を食う\t[助詞]と\t[chunk]見ると\r\n",
      "雑談をする\t[助詞]ながら,は\t[chunk]寝転びながら,黒は\r\n",
      "呼吸を飲み込む\t[助詞]から\t[chunk]なってから\r\n",
      "思案を定める\t[助詞]と,は\t[chunk]若くはないと,吾輩は\r\n",
      "御馳走をあるく\t[助詞]って,て\t[chunk]猟って,なって\r\n",
      "放蕩をする\t[助詞]が\t[chunk]ものだからが\r\n",
      "放蕩をする\t[助詞]も\t[chunk]云うよりも\r\n",
      "写生を力む\t[助詞]に従って\t[chunk]忠告に従って\r\n",
      "写生をする\t[助詞]から\t[chunk]しから\r\n",
      "対話を聞く\t[助詞]で\t[chunk]椽側で\r\n",
      "半分降参をする\t[助詞]と,は\t[chunk]相違ないなと,主人は\r\n",
      "苦心をする\t[助詞]から\t[chunk]さっきから\r\n",
      "勉強をする\t[助詞]たり,て,と\t[chunk]開いたり,行列して,見ると\r\n",
      "存在を認める\t[助詞]から,まで\t[chunk]世間から,今まで\r\n",
      "談話を聞く\t[助詞]が\t[chunk]牡蠣的主人が\r\n",
      "往来を通る\t[助詞]と\t[chunk]見ると\r\n",
      "決心をする\t[助詞]が\t[chunk]考え込んでいたが\r\n",
      "間食をする\t[助詞]で\t[chunk]忍んで\r\n",
      "我儘をする\t[助詞]が\t[chunk]他人が\r\n",
      "返事をする\t[助詞]と\t[chunk]利かないのだよと\r\n",
      "慰安を求める\t[助詞]に\t[chunk]遺書に\r\n",
      "喧嘩をする\t[助詞]で\t[chunk]独りで\r\n",
      "治療をうける\t[助詞]は,も\t[chunk]時々は,豪傑でも\r\n",
      "位置をする\t[助詞]とか,ば\t[chunk]癒らぬとか,揉まなければ\r\n",
      "挨拶をする\t[助詞]から\t[chunk]際だから\r\n",
      "晩酌を始める\t[助詞]から,て\t[chunk]今夜から,見えて\r\n",
      "遠征をする\t[助詞]に,まで\t[chunk]黒のように,肴屋まで\r\n",
      "始末をつける\t[助詞]で\t[chunk]あるだけで\r\n",
      "話をする\t[助詞]たり,て,は\t[chunk]見たり,訪問して,時は\r\n",
      "挨拶をする\t[助詞]で\t[chunk]吾等猫属間で\r\n",
      "返事をする\t[助詞]から,と\t[chunk]しないから,はいはいと\r\n",
      "返事をする\t[助詞]と,は\t[chunk]はあと,吾輩は\r\n",
      "降参をする\t[助詞]から\t[chunk]ないから\r\n",
      "欠伸をする\t[助詞]て,て,と\t[chunk]思って,して,出すとまた\r\n",
      "合図をする\t[助詞]て,と\t[chunk]して,聞いたかと\r\n",
      "形容をなさる\t[助詞]に\t[chunk]見て来たように\r\n",
      "返事をする\t[助詞]て\t[chunk]笑って\r\n",
      "同情を表する\t[助詞]て,と,は\t[chunk]始めて,御迷惑でしたろうと,主人は\r\n",
      "研究を続ける\t[助詞]て,て\t[chunk]組織しまして,会合して\r\n",
      "同情を持つ\t[助詞]に\t[chunk]人物に\r\n",
      "質問をする\t[助詞]が,て\t[chunk]したが,見えて\r\n",
      "御尽力を仰ぐ\t[助詞]で,ので,も\t[chunk]ためで,やるつもりなので,先生にも\r\n",
      "御捺印を願う\t[助詞]へ\t[chunk]これへ\r\n",
      "御馳走を致す\t[助詞]に\t[chunk]東風子に\r\n",
      "返事をする\t[助詞]と,に,は\t[chunk]及ばんさと,手紙に,主人は\r\n",
      "著述を居る\t[助詞]て,より\t[chunk]依て,此間中より\r\n",
      "厚遇を受ける\t[助詞]が,まで\t[chunk]猫が,かくまで\r\n",
      "返事をする\t[助詞]は\t[chunk]下女は\r\n",
      "含嗽をやる\t[助詞]で\t[chunk]毎朝風呂場で\r\n",
      "挨拶をする\t[助詞]と,も\t[chunk]そうですかと,これも\r\n",
      "講釈をする\t[助詞]か,は,も\t[chunk]そうですか,人には,行っても\r\n",
      "講釈をする\t[助詞]ね\t[chunk]癖でしてね\r\n",
      "苦心を買う\t[助詞]が,が,と\t[chunk]僕が,人が,読むと\r\n",
      "是非御臨席を願う\t[助詞]から,も\t[chunk]やるつもりだから,先生にも\r\n",
      "復讐をとる\t[助詞]と,に,は\t[chunk]大違いだと,一度に,主人は\r\n",
      "経験をする\t[助詞]から,が,は,も\t[chunk]ものだから,解さないのであるが,時には,社交上にも\r\n",
      "経験をする\t[助詞]に,は,ば\t[chunk]暮に,僕は,いえば\r\n",
      "息をつく\t[助詞]と,は\t[chunk]聞かし玉えと,主人は\r\n",
      "御在宿を願う\t[助詞]から\t[chunk]伺いたいから\r\n",
      "真似をする\t[助詞]で\t[chunk]席で\r\n",
      "ストライキを起す\t[助詞]が,て,に\t[chunk]活気が,なって,一度に\r\n",
      "返事をする\t[助詞]と,は\t[chunk]はーいと,私は\r\n",
      "談判をする\t[助詞]が,と\t[chunk]知らないが,いでしょうと\r\n",
      "見物をする\t[助詞]って\t[chunk]教師だからって\r\n",
      "降参をする\t[助詞]と\t[chunk]行こうと\r\n",
      "註釈を加える\t[助詞]が,と\t[chunk]迷亭が,急病だねと\r\n",
      "苦労をする\t[助詞]たり\t[chunk]聞かなかったり\r\n",
      "相談をする\t[助詞]と\t[chunk]細君と\r\n",
      "約束をする\t[助詞]て\t[chunk]全快して\r\n",
      "覚悟をする\t[助詞]と\t[chunk]考えると\r\n",
      "御化粧をする\t[助詞]で\t[chunk]脱いで\r\n",
      "妨害をする\t[助詞]が,と\t[chunk]ゲーが,つけると\r\n",
      "早死をする\t[助詞]は\t[chunk]よしは\r\n",
      "いたずらをする\t[助詞]で,は\t[chunk]達者で,野良猫は\r\n",
      "談話を聞く\t[助詞]で\t[chunk]中途で\r\n",
      "身震いをする\t[助詞]て,は\t[chunk]にたてて,吾輩は\r\n",
      "御回向を受ける\t[助詞]から,が,は\t[chunk]月桂寺さんから,御師匠さん自身が,今頃は\r\n",
      "虐待をする\t[助詞]て\t[chunk]知らずして\r\n",
      "同情を寄せる\t[助詞]から\t[chunk]人間から\r\n",
      "小供を可愛がる\t[助詞]て,に\t[chunk]てって,——たまに\r\n",
      "説教をやる\t[助詞]で,と,は\t[chunk]調子で,さあと,迷亭は\r\n",
      "返事をする\t[助詞]と\t[chunk]世の中だからねと\r\n",
      "同情を表す\t[助詞]に\t[chunk]細君に\r\n",
      "返答をする\t[助詞]が,て,と,は\t[chunk]促が,立てて,分りませんねと,細君は\r\n",
      "弁護をする\t[助詞]と\t[chunk]あんなですよと\r\n",
      "定義をする\t[助詞]て\t[chunk]開き直って\r\n",
      "挨拶をする\t[助詞]から\t[chunk]ものだから\r\n",
      "沈黙を守る\t[助詞]くらい,も\t[chunk]猫くらい,人間も\r\n",
      "演説をする\t[助詞]で,でも\t[chunk]理学協会で,何でも\r\n",
      "挨拶をする\t[助詞]て,ので\t[chunk]落ちつき払って,いうので\r\n"
     ]
    }
   ],
   "source": [
    "! head -n 100 res_47.txt"
   ]
  },
  {
   "cell_type": "code",
   "execution_count": 28,
   "metadata": {},
   "outputs": [
    {
     "name": "stdout",
     "output_type": "stream",
     "text": [
      "  25 返事をする\r\n",
      "  19 挨拶をする\r\n",
      "  11 話をする\r\n",
      "   8 質問をする\r\n",
      "   7 喧嘩をする\r\n",
      "   6 真似をする\r\n",
      "   5 質問をかける\r\n",
      "   5 相談をする\r\n",
      "   5 昼寝をする\r\n",
      "   4 御辞儀をする\r\n"
     ]
    }
   ],
   "source": [
    "! cut -f 1 res_47.txt | sort | uniq -c | sort --numeric-sort --reverse | head"
   ]
  },
  {
   "cell_type": "code",
   "execution_count": 29,
   "metadata": {},
   "outputs": [
    {
     "name": "stdout",
     "output_type": "stream",
     "text": [
      "   2 休養を要する\t[助詞]は\t[chunk]吾輩はまた\r\n",
      "   1 御遠慮なく御批評を願う\t[助詞]から\t[chunk]稽古ですから\r\n",
      "   1 ストライキをしでかす\t[助詞]から,て\t[chunk]云うから,なって\r\n",
      "   1 心的作用を描き出す\t[助詞]に\t[chunk]ありのままに\r\n",
      "   1 通り掃除をはじめる\t[助詞]で\t[chunk]畳んで\r\n",
      "   1 未遂入水をせしめる\t[助詞]て\t[chunk]して\r\n",
      "   1 かような御話を致す\t[助詞]が\t[chunk]私が\r\n",
      "   1 御馳走を食わせる\t[助詞]から,て,に\t[chunk]してやるから,大事にして,晩に\r\n",
      "   1 うんと返事をする\t[助詞]から,て,で\t[chunk]聞えたから,して,声で\r\n",
      "   1 是非御臨席を願う\t[助詞]から,も\t[chunk]やるつもりだから,先生にも\r\n"
     ]
    }
   ],
   "source": [
    " ! sort res_47.txt | uniq -c | sort --numeric-sort --reverse | head "
   ]
  },
  {
   "cell_type": "markdown",
   "metadata": {},
   "source": [
    "# 48 名詞から根へのパスの抽出"
   ]
  },
  {
   "cell_type": "code",
   "execution_count": 30,
   "metadata": {},
   "outputs": [],
   "source": [
    "with open(\"res_48.txt\",\"w\") as out_file:\n",
    "    for chunks in chunk_lines():\n",
    "        for chunk in chunks:\n",
    "            if len(chunk.get_pos_in_morphs('名詞'))>0:\n",
    "                out_file.write(chunk.remove_punctuation())\n",
    "                dst = chunk.dst\n",
    "                while dst != -1:\n",
    "                    out_file.write(' ->' + chunks[dst].remove_punctuation())\n",
    "                    dst = chunks[dst].dst\n",
    "                out_file.write(\"\\n\")"
   ]
  },
  {
   "cell_type": "code",
   "execution_count": 31,
   "metadata": {},
   "outputs": [
    {
     "name": "stdout",
     "output_type": "stream",
     "text": [
      "一\r\n",
      "吾輩は ->猫である\r\n",
      "猫である\r\n",
      "名前は ->無い\r\n",
      "どこで ->生れたか ->つかぬ\r\n",
      "見当が ->つかぬ\r\n",
      "何でも ->薄暗い ->所で ->泣いて ->記憶している\r\n",
      "所で ->泣いて ->記憶している\r\n",
      "ニャーニャー ->泣いて ->記憶している\r\n",
      "いた事だけは ->記憶している\r\n",
      "記憶している\r\n",
      "吾輩は ->見た\r\n",
      "ここで ->始めて ->人間という ->ものを ->見た\r\n",
      "人間という ->ものを ->見た\r\n",
      "ものを ->見た\r\n",
      "あとで ->聞くと ->種族であったそうだ\r\n",
      "それは ->種族であったそうだ\r\n",
      "書生という ->人間中で ->種族であったそうだ\r\n",
      "人間中で ->種族であったそうだ\r\n",
      "一番 ->獰悪な ->種族であったそうだ\r\n",
      "獰悪な ->種族であったそうだ\r\n",
      "種族であったそうだ\r\n",
      "書生というのは ->話である\r\n",
      "我々を ->捕えて ->煮て ->食うという ->話である\r\n",
      "話である\r\n",
      "当時は ->なかったから ->思わなかった\r\n",
      "何という ->考も ->なかったから ->思わなかった\r\n",
      "考も ->なかったから ->思わなかった\r\n",
      "彼の ->掌に ->載せられて ->持ち上げられた ->時 ->フワフワした ->感じが ->あったばかりである\r\n",
      "掌に ->載せられて ->持ち上げられた ->時 ->フワフワした ->感じが ->あったばかりである\r\n",
      "スーと ->持ち上げられた ->時 ->フワフワした ->感じが ->あったばかりである\r\n",
      "時 ->フワフワした ->感じが ->あったばかりである\r\n",
      "感じが ->あったばかりである\r\n",
      "掌の ->上で ->落ちついて ->見たのが ->人間という ->ものの ->見始であろう\r\n",
      "上で ->落ちついて ->見たのが ->人間という ->ものの ->見始であろう\r\n",
      "書生の ->顔を ->見たのが ->人間という ->ものの ->見始であろう\r\n",
      "顔を ->見たのが ->人間という ->ものの ->見始であろう\r\n",
      "見たのが ->人間という ->ものの ->見始であろう\r\n",
      "人間という ->ものの ->見始であろう\r\n",
      "ものの ->見始であろう\r\n"
     ]
    }
   ],
   "source": [
    "! head -n 40 res_48.txt"
   ]
  },
  {
   "cell_type": "markdown",
   "metadata": {},
   "source": [
    "# 49 名詞間の係り受けパスの抽出"
   ]
  },
  {
   "cell_type": "code",
   "execution_count": 32,
   "metadata": {},
   "outputs": [],
   "source": [
    "def isChild(i,j)->bool:\n",
    "    '''\n",
    "    return True if i is child of j\n",
    "    '''\n",
    "    dst=i\n",
    "    while dst!=-1:\n",
    "        if dst==j:\n",
    "            return True\n",
    "        else:\n",
    "            dst = chunks[dst].dst\n",
    "    return False"
   ]
  },
  {
   "cell_type": "code",
   "execution_count": 33,
   "metadata": {},
   "outputs": [],
   "source": [
    "def print_path_with_two_mask(i,j):\n",
    "    '''\n",
    "    print path from i to j\n",
    "    mask first and last noud with X,Y\n",
    "    return None\n",
    "    insetd,print path to j form i\n",
    "    '''\n",
    "    path=\"\"\n",
    "    dst = chunks[i].dst\n",
    "    path+=chunks[i].mask_noun(\"X\")\n",
    "    if i!=j:\n",
    "        while dst!=j:\n",
    "            path+=\" -> \"+ chunks[dst].remove_punctuation()\n",
    "            dst = chunks[dst].dst\n",
    "\n",
    "        path+=\"->\"+chunks[dst].mask_noun(\"Y\")\n",
    "    print(path,end=\"\")\n",
    "        "
   ]
  },
  {
   "cell_type": "code",
   "execution_count": 34,
   "metadata": {},
   "outputs": [],
   "source": [
    "def print_path_with_one_mask(i,j,ch=\"X\"):\n",
    "    '''\n",
    "    print path from i to j\n",
    "    first noun will be masked with ch(default X)\n",
    "    '''\n",
    "    path=\"\"\n",
    "    dst = chunks[i].dst\n",
    "    path+=chunks[i].mask_noun(ch)\n",
    "    if i!=j:\n",
    "        while dst!=j:\n",
    "            path+=\"->\"+ chunks[dst].remove_punctuation()\n",
    "            dst = chunks[dst].dst\n",
    "        path+=\"->\"+chunks[dst].remove_punctuation()\n",
    "    \n",
    "    print(path,end=\"\")"
   ]
  },
  {
   "cell_type": "code",
   "execution_count": 35,
   "metadata": {},
   "outputs": [],
   "source": [
    "def calc_lca(i,j)->int:\n",
    "    '''\n",
    "    chunk[i],chunk[j]のLCA(least common anscestor)\n",
    "    を見つける\n",
    "    そのindexを返す\n",
    "    '''\n",
    "    i_parents=set()\n",
    "    i_dst=chunks[i].dst\n",
    "  \n",
    "    while True:\n",
    "        i_parents.add(dst)\n",
    "        i_dst=chunks[dst].dst\n",
    "        if i_dst==-1:\n",
    "            break\n",
    "    \n",
    "    j_dst = chunks[j].dst\n",
    "  \n",
    "    while True:\n",
    "        if j_dst in i_parents:\n",
    "            return dst\n",
    "        elif j_dst==-1:\n",
    "            break\n",
    "        else:\n",
    "            j_dst = chunks[dst].dst\n",
    "   # print(\"NONE\")\n",
    "    return None\n",
    "        "
   ]
  },
  {
   "cell_type": "code",
   "execution_count": 36,
   "metadata": {},
   "outputs": [
    {
     "name": "stdout",
     "output_type": "stream",
     "text": [
      "---------new sentence--------------\n",
      "\n",
      "---------new sentence--------------\n",
      "Xは->Yである\n",
      "\n",
      "---------new sentence--------------\n",
      "\n",
      "---------new sentence--------------\n",
      "Xで->生れたか | Yが | つかぬ\n",
      "\n",
      "---------new sentence--------------\n",
      "Xでも -> 薄暗い->Yで\n",
      "Xでも->薄暗い->所で->泣いて | Y->泣いて | 記憶している\n",
      "Xでも->薄暗い->所で->泣いて | Yだけは | 記憶している\n",
      "Xでも -> 薄暗い -> 所で -> 泣いて->Yしている\n",
      "Xで->泣いて | Y->泣いて | 記憶している\n",
      "Xで->泣いて | Yだけは | 記憶している\n",
      "Xで -> 泣いて->Yしている\n",
      "X->泣いて | Yだけは | 記憶している\n",
      "X -> 泣いて->Yしている\n",
      "Xだけは->Yしている\n",
      "\n",
      "---------new sentence--------------\n",
      "Xは | Yで->始めて->人間という->ものを | 見た\n",
      "Xは | Yという->ものを | 見た\n",
      "Xは | Yを | 見た\n",
      "Xで -> 始めて->Yという\n",
      "Xで -> 始めて -> 人間という->Yを\n",
      "Xという->Yを\n",
      "\n",
      "---------new sentence--------------\n",
      "Xで->聞くと | Yは | 種族であったそうだ\n",
      "Xで->聞くと | Yという->人間中で | 種族であったそうだ\n",
      "Xで->聞くと | Y中で | 種族であったそうだ\n",
      "Xで->聞くと | Y->獰悪な | 種族であったそうだ\n",
      "Xで->聞くと | Yな | 種族であったそうだ\n",
      "Xで -> 聞くと->Yであったそうだ\n",
      "Xは | Yという->人間中で | 種族であったそうだ\n",
      "Xは | Y中で | 種族であったそうだ\n",
      "Xは | Y->獰悪な | 種族であったそうだ\n",
      "Xは | Yな | 種族であったそうだ\n",
      "Xは->Yであったそうだ\n",
      "Xという->Y中で\n",
      "Xという->人間中で | Y->獰悪な | 種族であったそうだ\n",
      "Xという->人間中で | Yな | 種族であったそうだ\n",
      "Xという -> 人間中で->Yであったそうだ\n",
      "X中で | Y->獰悪な | 種族であったそうだ\n",
      "X中で | Yな | 種族であったそうだ\n",
      "X中で->Yであったそうだ\n",
      "X->Yな\n",
      "X -> 獰悪な->Yであったそうだ\n",
      "Xな->Yであったそうだ\n",
      "\n",
      "---------new sentence--------------\n",
      "Xというのは | Yを->捕えて->煮て->食うという | 話である\n",
      "Xというのは->Yである\n",
      "Xを -> 捕えて -> 煮て -> 食うという->Yである\n",
      "\n",
      "---------new sentence--------------\n",
      "Xは->なかったから | Yという->考も->なかったから | 思わなかった\n",
      "Xは->なかったから | Yも->なかったから | 思わなかった\n",
      "Xという->Yも\n",
      "\n",
      "---------new sentence--------------\n",
      "Xの->Yに\n",
      "Xの->掌に->載せられて->持ち上げられた->時->フワフワした->感じが | Yと->持ち上げられた->時->フワフワした->感じが | あったばかりである\n",
      "Xの -> 掌に -> 載せられて -> 持ち上げられた->Y\n",
      "Xの -> 掌に -> 載せられて -> 持ち上げられた -> 時 -> フワフワした->Yが\n",
      "Xに->載せられて->持ち上げられた->時->フワフワした->感じが | Yと->持ち上げられた->時->フワフワした->感じが | あったばかりである\n",
      "Xに -> 載せられて -> 持ち上げられた->Y\n",
      "Xに -> 載せられて -> 持ち上げられた -> 時 -> フワフワした->Yが\n",
      "Xと -> 持ち上げられた->Y\n",
      "Xと -> 持ち上げられた -> 時 -> フワフワした->Yが\n",
      "X -> フワフワした->Yが\n",
      "\n"
     ]
    }
   ],
   "source": [
    "with open(\"res_49.txt\",\"w\") as out_file:                    \n",
    "    for _,chunks in zip(range(10),chunk_lines()):\n",
    "        print(\"---------new sentence--------------\")\n",
    "        for i in range(len(chunks)):\n",
    "            if chunks[i].contain_pos_in_morphs('名詞'):\n",
    "                for j in range(i+1,len(chunks)):\n",
    "                    if chunks[j].contain_pos_in_morphs('名詞'):\n",
    "                        if  isChild(i,j):\n",
    "                            print_path_with_two_mask(i,j)\n",
    "                        elif isChild(j,i):\n",
    "                            print_path_with_two_mask(j,i)\n",
    "                        else:\n",
    "                            lca = calc_lca(i,j)\n",
    "                            for sr in chunks[lca].srcs:\n",
    "                                if i==sr or isChild(i,sr):\n",
    "                                    #lcaの一つ前までのpath\n",
    "                                    print_path_with_one_mask(i,sr,ch=\"X\")\n",
    "                            \n",
    "                            print(\" | \",end=\"\")\n",
    "                            \n",
    "                            for sr in chunks[lca].srcs:\n",
    "                                if  j == sr or isChild(j,sr):\n",
    "                                    #lcaの一つ前までのpath\n",
    "                                    print_path_with_one_mask(j,sr,ch=\"Y\")\n",
    "                            \n",
    "                            print(\" | \",end=\"\")\n",
    "                            \n",
    "                            print(chunks[lca].remove_punctuation(),end=\"\")\n",
    "                        print()\n",
    "        print()"
   ]
  },
  {
   "cell_type": "code",
   "execution_count": null,
   "metadata": {},
   "outputs": [],
   "source": []
  },
  {
   "cell_type": "code",
   "execution_count": null,
   "metadata": {},
   "outputs": [],
   "source": []
  }
 ],
 "metadata": {
  "kernelspec": {
   "display_name": "Python 3",
   "language": "python",
   "name": "python3"
  },
  "language_info": {
   "codemirror_mode": {
    "name": "ipython",
    "version": 3
   },
   "file_extension": ".py",
   "mimetype": "text/x-python",
   "name": "python",
   "nbconvert_exporter": "python",
   "pygments_lexer": "ipython3",
   "version": "3.7.3"
  }
 },
 "nbformat": 4,
 "nbformat_minor": 2
}
