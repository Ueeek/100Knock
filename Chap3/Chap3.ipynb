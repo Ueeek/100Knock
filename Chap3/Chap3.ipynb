{
 "cells": [
  {
   "cell_type": "code",
   "execution_count": 1,
   "metadata": {},
   "outputs": [],
   "source": [
    "import json\n",
    "import gzip\n",
    "import re"
   ]
  },
  {
   "cell_type": "markdown",
   "metadata": {},
   "source": [
    "# 20. JSONデータの読み込み"
   ]
  },
  {
   "cell_type": "code",
   "execution_count": 2,
   "metadata": {},
   "outputs": [],
   "source": [
    "F_PATH=\"./jawiki-country.json.gz\""
   ]
  },
  {
   "cell_type": "code",
   "execution_count": 3,
   "metadata": {},
   "outputs": [],
   "source": [
    "def get_data_from_json(path:str,country_name:str)->str:\n",
    "    '''\n",
    "    path:読み込むファイルのpath\n",
    "    country_name:情報を抽出する国の名前\n",
    "    '''\n",
    "    with gzip.open(path,\"r\") as file:\n",
    "        for line in file:\n",
    "            data=json.loads(line)\n",
    "            if data['title']==country_name:\n",
    "                Text = data['text']\n",
    "    return Text"
   ]
  },
  {
   "cell_type": "code",
   "execution_count": 4,
   "metadata": {},
   "outputs": [],
   "source": [
    "#print(get_data_from_json(F_PATH,\"イギリス\"))"
   ]
  },
  {
   "cell_type": "markdown",
   "metadata": {},
   "source": [
    "# 21 カテゴリ名を含む行を抽出"
   ]
  },
  {
   "cell_type": "markdown",
   "metadata": {},
   "source": [
    "()->抜き出すところ  \n",
    "^->行の先頭  \n",
    "[[category: hoge]]って形になってる  "
   ]
  },
  {
   "cell_type": "code",
   "execution_count": 5,
   "metadata": {},
   "outputs": [],
   "source": [
    "pattern=re.compile(\n",
    "r'''\n",
    "(^\\[\\[Category.*\\]\\].*)$\n",
    "''',re.MULTILINE+re.VERBOSE)"
   ]
  },
  {
   "cell_type": "code",
   "execution_count": 6,
   "metadata": {},
   "outputs": [
    {
     "data": {
      "text/plain": [
       "['[[Category:イギリス|*]]',\n",
       " '[[Category:英連邦王国|*]]',\n",
       " '[[Category:G8加盟国]]',\n",
       " '[[Category:欧州連合加盟国]]',\n",
       " '[[Category:海洋国家]]',\n",
       " '[[Category:君主国]]',\n",
       " '[[Category:島国|くれいとふりてん]]',\n",
       " '[[Category:1801年に設立された州・地域]]']"
      ]
     },
     "execution_count": 6,
     "metadata": {},
     "output_type": "execute_result"
    }
   ],
   "source": [
    "Text=get_data_from_json(F_PATH,\"イギリス\")\n",
    "res = pattern.findall(Text)\n",
    "res"
   ]
  },
  {
   "cell_type": "markdown",
   "metadata": {},
   "source": [
    "# 22　カテゴリ名の抽出"
   ]
  },
  {
   "cell_type": "markdown",
   "metadata": {},
   "source": [
    "21とは行単位だったけど、名前のみ  \n",
    "()で囲む場所が変わっている.  \n",
    "(.*?) キャプチャしたいとこ  \n",
    "(?: ) キャプチャしたくないことろ  \n",
    "| はescapeしないと、AorBみたいに解釈されてしまう  "
   ]
  },
  {
   "cell_type": "code",
   "execution_count": 7,
   "metadata": {},
   "outputs": [],
   "source": [
    "pattern=re.compile(\n",
    "    r'''\n",
    "    ^\\[\\[Category:(.*?)(?:\\|.*)?\\]\\].*$\n",
    "    ''',re.MULTILINE+re.VERBOSE)"
   ]
  },
  {
   "cell_type": "code",
   "execution_count": 8,
   "metadata": {},
   "outputs": [
    {
     "data": {
      "text/plain": [
       "['イギリス', '英連邦王国', 'G8加盟国', '欧州連合加盟国', '海洋国家', '君主国', '島国', '1801年に設立された州・地域']"
      ]
     },
     "execution_count": 8,
     "metadata": {},
     "output_type": "execute_result"
    }
   ],
   "source": [
    "Text=get_data_from_json(F_PATH,\"イギリス\")\n",
    "res = pattern.findall(Text)\n",
    "res"
   ]
  },
  {
   "cell_type": "markdown",
   "metadata": {},
   "source": [
    "# 23 セクション構造"
   ]
  },
  {
   "cell_type": "markdown",
   "metadata": {},
   "source": [
    "={2,} 直前の正規表現(=の事)を2回以上出来るだけ多くマッチさせる  \n",
    "\\s スペース  \n",
    "(.+?)　セクション名を抜き出す  \n",
    "+は一回以上の繰り返し(*は０回以上の繰り返し)\n",
    "\\s スペース\n",
    "\\1 で一つ目のグループ(=^{2,])のことを指す(これは、まっちしない)"
   ]
  },
  {
   "cell_type": "code",
   "execution_count": 9,
   "metadata": {},
   "outputs": [],
   "source": [
    "pattern=re.compile(\n",
    "    r'''\n",
    "    ^(={2,})\\s*(.+?)\\s*\\1.*$\n",
    "    ''',re.MULTILINE+re.VERBOSE)"
   ]
  },
  {
   "cell_type": "code",
   "execution_count": 10,
   "metadata": {},
   "outputs": [
    {
     "name": "stdout",
     "output_type": "stream",
     "text": [
      "('==', '国名')\n",
      "('==', '歴史')\n",
      "('==', '地理')\n"
     ]
    }
   ],
   "source": [
    "res = pattern.findall(Text)\n",
    "for line in res[:3]:\n",
    "    print(line)"
   ]
  },
  {
   "cell_type": "code",
   "execution_count": 11,
   "metadata": {},
   "outputs": [
    {
     "name": "stdout",
     "output_type": "stream",
     "text": [
      "国名 1\n",
      "歴史 1\n",
      "地理 1\n",
      "--気候 2\n",
      "政治 1\n",
      "外交と軍事 1\n",
      "地方行政区分 1\n",
      "--主要都市 2\n",
      "科学技術 1\n",
      "経済 1\n",
      "--鉱業 2\n",
      "--農業 2\n",
      "--貿易 2\n",
      "--通貨 2\n",
      "--企業 2\n",
      "交通 1\n",
      "--道路 2\n",
      "--鉄道 2\n",
      "--海運 2\n",
      "--航空 2\n",
      "通信 1\n",
      "国民 1\n",
      "--言語 2\n",
      "--宗教 2\n",
      "--婚姻 2\n",
      "--教育 2\n",
      "文化 1\n",
      "--食文化 2\n",
      "--文学 2\n",
      "--哲学 2\n",
      "--音楽 2\n",
      "----イギリスのポピュラー音楽 3\n",
      "--映画 2\n",
      "--コメディ 2\n",
      "--国花 2\n",
      "--世界遺産 2\n",
      "--祝祭日 2\n",
      "スポーツ 1\n",
      "--サッカー 2\n",
      "--競馬 2\n",
      "--モータースポーツ 2\n",
      "脚注 1\n",
      "関連項目 1\n",
      "外部リンク 1\n"
     ]
    }
   ],
   "source": [
    "for line in res:\n",
    "    level = len(line[0])-1\n",
    "    print(\"--\"*(level-1)+line[1]+\" \"+str(level))"
   ]
  },
  {
   "cell_type": "markdown",
   "metadata": {},
   "source": [
    "# 24 ファイル参照の抽出"
   ]
  },
  {
   "cell_type": "markdown",
   "metadata": {},
   "source": [
    "* 抽出したいところは、File: hoge or ファイル: hogeってなってる"
   ]
  },
  {
   "cell_type": "markdown",
   "metadata": {},
   "source": [
    "(?:　マッチしても取り出さない\n",
    "(.+?)取り出したいところ(ファイル名)\n",
    "ファイル名の終わりは「｜]がついているから、そこが終わりになるようにファイル名を抜き出す"
   ]
  },
  {
   "cell_type": "code",
   "execution_count": 12,
   "metadata": {},
   "outputs": [],
   "source": [
    "pattern = re.compile(\n",
    "    r'''\n",
    "    (?:File|ファイル):(.+?)\\|\n",
    "    ''',re.MULTILINE+re.VERBOSE)"
   ]
  },
  {
   "cell_type": "code",
   "execution_count": 13,
   "metadata": {},
   "outputs": [],
   "source": [
    "res=pattern.findall(Text)"
   ]
  },
  {
   "cell_type": "code",
   "execution_count": 14,
   "metadata": {},
   "outputs": [
    {
     "data": {
      "text/plain": [
       "['Royal Coat of Arms of the United Kingdom.svg',\n",
       " 'Battle of Waterloo 1815.PNG',\n",
       " 'The British Empire.png',\n",
       " 'Uk topo en.jpg',\n",
       " 'BenNevis2005.jpg',\n",
       " 'Elizabeth II greets NASA GSFC employees, May 8, 2007 edit.jpg',\n",
       " 'Palace of Westminster, London - Feb 2007.jpg',\n",
       " 'David Cameron and Barack Obama at the G20 Summit in Toronto.jpg',\n",
       " 'Soldiers Trooping the Colour, 16th June 2007.jpg',\n",
       " 'Scotland Parliament Holyrood.jpg',\n",
       " 'London.bankofengland.arp.jpg',\n",
       " 'City of London skyline from London City Hall - Oct 2008.jpg',\n",
       " 'Oil platform in the North SeaPros.jpg',\n",
       " 'Eurostar at St Pancras Jan 2008.jpg',\n",
       " 'Heathrow T5.jpg',\n",
       " 'Anglospeak.svg',\n",
       " 'CHANDOS3.jpg',\n",
       " 'The Fabs.JPG',\n",
       " 'PalaceOfWestminsterAtNight.jpg',\n",
       " 'Westminster Abbey - West Door.jpg',\n",
       " 'Edinburgh Cockburn St dsc06789.jpg',\n",
       " 'Canterbury Cathedral - Portal Nave Cross-spire.jpeg',\n",
       " 'Kew Gardens Palm House, London - July 2009.jpg',\n",
       " '2005-06-27 - United Kingdom - England - London - Greenwich.jpg',\n",
       " 'Stonehenge2007 07 30.jpg',\n",
       " 'Yard2.jpg',\n",
       " 'Durham Kathedrale Nahaufnahme.jpg',\n",
       " 'Roman Baths in Bath Spa, England - July 2006.jpg',\n",
       " 'Fountains Abbey view02 2005-08-27.jpg',\n",
       " 'Blenheim Palace IMG 3673.JPG',\n",
       " 'Liverpool Pier Head by night.jpg',\n",
       " \"Hadrian's Wall view near Greenhead.jpg\",\n",
       " 'London Tower (1).JPG',\n",
       " 'Wembley Stadium, illuminated.jpg']"
      ]
     },
     "execution_count": 14,
     "metadata": {},
     "output_type": "execute_result"
    }
   ],
   "source": [
    "res"
   ]
  },
  {
   "cell_type": "markdown",
   "metadata": {},
   "source": [
    "# 25 テンプレートの抽出"
   ]
  },
  {
   "cell_type": "markdown",
   "metadata": {},
   "source": [
    "{{基礎情報   \n",
    "    hoge  \n",
    " }}の形  \n",
    "re.DOTALL .が改行も含むようになる。  \n",
    "*?　非貪欲マッチ  "
   ]
  },
  {
   "cell_type": "code",
   "execution_count": 15,
   "metadata": {},
   "outputs": [],
   "source": [
    "def get_template_content(Text):\n",
    "    '''\n",
    "    jsonから\n",
    "    {{基礎情報\n",
    "    hoge\n",
    "    }}\n",
    "    のhogeの部分を抜き出してくる。\n",
    "    hogeほげのことろは基礎情報が | 区切りで繋がっている\n",
    "    '''\n",
    "    \n",
    "    pattern = re.compile(\n",
    "    r'''\n",
    "    ^\\{\\{基礎情報.*?$\n",
    "    (.*?)\n",
    "    ^\\}\\}$\n",
    "    ''',re.MULTILINE+re.DOTALL+re.VERBOSE)\n",
    "    contents = pattern.findall(Text)\n",
    "    return contents"
   ]
  },
  {
   "cell_type": "markdown",
   "metadata": {},
   "source": [
    "見出し = valの形になっている。  \n",
    "(?=\\n\\|)で、取り出す部分の終わりを定めている。  \n",
    " (?=)を使うことで、\\n\\|が消費されずに、残る。  \n",
    " contentsはlistの形なので[0]で中身を取りだす"
   ]
  },
  {
   "cell_type": "code",
   "execution_count": 16,
   "metadata": {},
   "outputs": [],
   "source": [
    "def parse_templete_content(contents):\n",
    "    '''\n",
    "    基礎情報の中身が与えられるので\n",
    "    | 区切りになっているものを、辞書オブジェクトとして取り出す\n",
    "    '''\n",
    "    pattern = re.compile(r'''\n",
    "     ^\\|(.+?)\\s*=\\s*(.+?)\n",
    "    (?:(?=\\n\\|)| (?=\\n$))\n",
    "    ''', re.MULTILINE + re.VERBOSE + re.DOTALL)\n",
    "    ret = pattern.findall(contents[0])\n",
    "    return ret"
   ]
  },
  {
   "cell_type": "code",
   "execution_count": 17,
   "metadata": {},
   "outputs": [],
   "source": [
    "def extract_template():\n",
    "    '''\n",
    "    contentsから情報を抜き出す\n",
    "    基礎情報の部分を取り出してreturn\n",
    "    '''\n",
    "    Text=get_data_from_json(F_PATH,\"イギリス\")\n",
    "    contents = get_template_content(Text)\n",
    "    ret = parse_templete_content(contents)\n",
    "    return ret"
   ]
  },
  {
   "cell_type": "code",
   "execution_count": 18,
   "metadata": {},
   "outputs": [],
   "source": [
    "def create_template_dic(preprocess=(lambda x:x)):\n",
    "    '''\n",
    "    基礎情報を辞書にする\n",
    "    info=[(key_naem,val)]の形になっている\n",
    "    '''\n",
    "    info=extract_template()\n",
    "    dic={}\n",
    "    for key,val in info:\n",
    "        dic[key]=preprocess(val)\n",
    "    return dic"
   ]
  },
  {
   "cell_type": "code",
   "execution_count": 19,
   "metadata": {},
   "outputs": [],
   "source": [
    "dic=create_template_dic()"
   ]
  },
  {
   "cell_type": "code",
   "execution_count": 20,
   "metadata": {},
   "outputs": [
    {
     "name": "stdout",
     "output_type": "stream",
     "text": [
      "略名->イギリス\n",
      "\n",
      "日本語国名->グレートブリテン及び北アイルランド連合王国\n",
      "\n",
      "公式国名->{{lang|en|United Kingdom of Great Britain and Northern Ireland}}<ref>英語以外での正式国名:<br/>\n",
      "*{{lang|gd|An Rìoghachd Aonaichte na Breatainn Mhòr agus Eirinn mu Thuath}}（[[スコットランド・ゲール語]]）<br/>\n",
      "*{{lang|cy|Teyrnas Gyfunol Prydain Fawr a Gogledd Iwerddon}}（[[ウェールズ語]]）<br/>\n",
      "*{{lang|ga|Ríocht Aontaithe na Breataine Móire agus Tuaisceart na hÉireann}}（[[アイルランド語]]）<br/>\n",
      "*{{lang|kw|An Rywvaneth Unys a Vreten Veur hag Iwerdhon Glédh}}（[[コーンウォール語]]）<br/>\n",
      "*{{lang|sco|Unitit Kinrick o Great Breetain an Northren Ireland}}（[[スコットランド語]]）<br/>\n",
      "**{{lang|sco|Claught Kängrick o Docht Brätain an Norlin Airlann}}、{{lang|sco|Unitet Kängdom o Great Brittain an Norlin Airlann}}（アルスター・スコットランド語）</ref>\n",
      "\n",
      "国旗画像->Flag of the United Kingdom.svg\n",
      "\n",
      "国章画像->[[ファイル:Royal Coat of Arms of the United Kingdom.svg|85px|イギリスの国章]]\n",
      "\n",
      "国章リンク->（[[イギリスの国章|国章]]）\n",
      "\n",
      "標語->{{lang|fr|Dieu et mon droit}}<br/>（[[フランス語]]:神と私の権利）\n",
      "\n",
      "国歌->[[女王陛下万歳|神よ女王陛下を守り給え]]\n",
      "\n",
      "位置画像->Location_UK_EU_Europe_001.svg\n",
      "\n",
      "公用語->[[英語]]（事実上）\n",
      "\n",
      "首都->[[ロンドン]]\n",
      "\n",
      "最大都市->ロンドン\n",
      "\n",
      "元首等肩書->[[イギリスの君主|女王]]\n",
      "\n",
      "元首等氏名->[[エリザベス2世]]\n",
      "\n",
      "首相等肩書->[[イギリスの首相|首相]]\n",
      "\n",
      "首相等氏名->[[デーヴィッド・キャメロン]]\n",
      "\n",
      "面積順位->76\n",
      "\n",
      "面積大きさ->1 E11\n",
      "\n",
      "面積値->244,820\n",
      "\n",
      "水面積率->1.3%\n",
      "\n",
      "人口統計年->2011\n",
      "\n",
      "人口順位->22\n",
      "\n",
      "人口大きさ->1 E7\n",
      "\n",
      "人口値->63,181,775<ref>[http://esa.un.org/unpd/wpp/Excel-Data/population.htm United Nations Department of Economic and Social Affairs>Population Division>Data>Population>Total Population]</ref>\n",
      "\n",
      "人口密度値->246\n",
      "\n",
      "GDP統計年元->2012\n",
      "\n",
      "GDP値元->1兆5478億<ref name=\"imf-statistics-gdp\">[http://www.imf.org/external/pubs/ft/weo/2012/02/weodata/weorept.aspx?pr.x=70&pr.y=13&sy=2010&ey=2012&scsm=1&ssd=1&sort=country&ds=.&br=1&c=112&s=NGDP%2CNGDPD%2CPPPGDP%2CPPPPC&grp=0&a= IMF>Data and Statistics>World Economic Outlook Databases>By Countrise>United Kingdom]</ref>\n",
      "\n",
      "GDP統計年MER->2012\n",
      "\n",
      "GDP順位MER->5\n",
      "\n",
      "GDP値MER->2兆4337億<ref name=\"imf-statistics-gdp\" />\n",
      "\n",
      "GDP統計年->2012\n",
      "\n",
      "GDP順位->6\n",
      "\n",
      "GDP値->2兆3162億<ref name=\"imf-statistics-gdp\" />\n",
      "\n",
      "GDP/人->36,727<ref name=\"imf-statistics-gdp\" />\n",
      "\n",
      "建国形態->建国\n",
      "\n",
      "確立形態1->[[イングランド王国]]／[[スコットランド王国]]<br />（両国とも[[連合法 (1707年)|1707年連合法]]まで）\n",
      "\n",
      "確立年月日1->[[927年]]／[[843年]]\n",
      "\n",
      "確立形態2->[[グレートブリテン王国]]建国<br />（[[連合法 (1707年)|1707年連合法]]）\n",
      "\n",
      "確立年月日2->[[1707年]]\n",
      "\n",
      "確立形態3->[[グレートブリテン及びアイルランド連合王国]]建国<br />（[[連合法 (1800年)|1800年連合法]]）\n",
      "\n",
      "確立年月日3->[[1801年]]\n",
      "\n",
      "確立形態4->現在の国号「'''グレートブリテン及び北アイルランド連合王国'''」に変更\n",
      "\n",
      "確立年月日4->[[1927年]]\n",
      "\n",
      "通貨->[[スターリング・ポンド|UKポンド]] (&pound;)\n",
      "\n",
      "通貨コード->GBP\n",
      "\n",
      "時間帯->±0\n",
      "\n",
      "夏時間->+1\n",
      "\n",
      "ISO 3166-1->GB / GBR\n",
      "\n",
      "ccTLD->[[.uk]] / [[.gb]]<ref>使用は.ukに比べ圧倒的少数。</ref>\n",
      "\n",
      "国際電話番号->44\n",
      "\n",
      "注記-><references />\n",
      "\n"
     ]
    }
   ],
   "source": [
    "for key in dic.keys():\n",
    "    print(\"{}->{}\\n\".format(key,dic[key]))"
   ]
  },
  {
   "cell_type": "markdown",
   "metadata": {},
   "source": [
    "# 26 強調マークアップの除去"
   ]
  },
  {
   "cell_type": "markdown",
   "metadata": {},
   "source": [
    "強調の除去をする\n",
    "''がついているやつ。"
   ]
  },
  {
   "cell_type": "code",
   "execution_count": 21,
   "metadata": {},
   "outputs": [],
   "source": [
    "def remove_emph(Text):\n",
    "    '''\n",
    "    Text中で、single quoteで挟まれているやつをsubstractする'''\n",
    "    pattern = re.compile(\n",
    "    r'''\n",
    "    (\\'{2,5})\n",
    "    (.*?)\n",
    "    (\\1)\n",
    "    ''',re.MULTILINE+re.VERBOSE)\n",
    "    return pattern.sub(r'\\2',Text)\n",
    "    #\\2でキャプチャしたグループの二個目を取り出す。そうしないと、全部消されちゃう"
   ]
  },
  {
   "cell_type": "code",
   "execution_count": 22,
   "metadata": {},
   "outputs": [],
   "source": [
    "def preprocess(val):\n",
    "    '''\n",
    "    強調マークあっぷをのぞく\n",
    "    '''\n",
    "    return remove_emph(val)"
   ]
  },
  {
   "cell_type": "code",
   "execution_count": 23,
   "metadata": {},
   "outputs": [],
   "source": [
    "dic=create_template_dic(preprocess)"
   ]
  },
  {
   "cell_type": "code",
   "execution_count": 24,
   "metadata": {},
   "outputs": [
    {
     "name": "stdout",
     "output_type": "stream",
     "text": [
      "(略名-> イギリス)\n",
      "\n",
      "(日本語国名-> グレートブリテン及び北アイルランド連合王国)\n",
      "\n",
      "(公式国名-> {{lang|en|United Kingdom of Great Britain and Northern Ireland}}<ref>英語以外での正式国名:<br/>\n",
      "*{{lang|gd|An Rìoghachd Aonaichte na Breatainn Mhòr agus Eirinn mu Thuath}}（[[スコットランド・ゲール語]]）<br/>\n",
      "*{{lang|cy|Teyrnas Gyfunol Prydain Fawr a Gogledd Iwerddon}}（[[ウェールズ語]]）<br/>\n",
      "*{{lang|ga|Ríocht Aontaithe na Breataine Móire agus Tuaisceart na hÉireann}}（[[アイルランド語]]）<br/>\n",
      "*{{lang|kw|An Rywvaneth Unys a Vreten Veur hag Iwerdhon Glédh}}（[[コーンウォール語]]）<br/>\n",
      "*{{lang|sco|Unitit Kinrick o Great Breetain an Northren Ireland}}（[[スコットランド語]]）<br/>\n",
      "**{{lang|sco|Claught Kängrick o Docht Brätain an Norlin Airlann}}、{{lang|sco|Unitet Kängdom o Great Brittain an Norlin Airlann}}（アルスター・スコットランド語）</ref>)\n",
      "\n",
      "(国旗画像-> Flag of the United Kingdom.svg)\n",
      "\n",
      "(国章画像-> [[ファイル:Royal Coat of Arms of the United Kingdom.svg|85px|イギリスの国章]])\n",
      "\n",
      "(国章リンク-> （[[イギリスの国章|国章]]）)\n",
      "\n",
      "(標語-> {{lang|fr|Dieu et mon droit}}<br/>（[[フランス語]]:神と私の権利）)\n",
      "\n",
      "(国歌-> [[女王陛下万歳|神よ女王陛下を守り給え]])\n",
      "\n",
      "(位置画像-> Location_UK_EU_Europe_001.svg)\n",
      "\n",
      "(公用語-> [[英語]]（事実上）)\n",
      "\n",
      "(首都-> [[ロンドン]])\n",
      "\n",
      "(最大都市-> ロンドン)\n",
      "\n",
      "(元首等肩書-> [[イギリスの君主|女王]])\n",
      "\n",
      "(元首等氏名-> [[エリザベス2世]])\n",
      "\n",
      "(首相等肩書-> [[イギリスの首相|首相]])\n",
      "\n",
      "(首相等氏名-> [[デーヴィッド・キャメロン]])\n",
      "\n",
      "(面積順位-> 76)\n",
      "\n",
      "(面積大きさ-> 1 E11)\n",
      "\n",
      "(面積値-> 244,820)\n",
      "\n",
      "(水面積率-> 1.3%)\n",
      "\n",
      "(人口統計年-> 2011)\n",
      "\n",
      "(人口順位-> 22)\n",
      "\n",
      "(人口大きさ-> 1 E7)\n",
      "\n",
      "(人口値-> 63,181,775<ref>[http://esa.un.org/unpd/wpp/Excel-Data/population.htm United Nations Department of Economic and Social Affairs>Population Division>Data>Population>Total Population]</ref>)\n",
      "\n",
      "(人口密度値-> 246)\n",
      "\n",
      "(GDP統計年元-> 2012)\n",
      "\n",
      "(GDP値元-> 1兆5478億<ref name=\"imf-statistics-gdp\">[http://www.imf.org/external/pubs/ft/weo/2012/02/weodata/weorept.aspx?pr.x=70&pr.y=13&sy=2010&ey=2012&scsm=1&ssd=1&sort=country&ds=.&br=1&c=112&s=NGDP%2CNGDPD%2CPPPGDP%2CPPPPC&grp=0&a= IMF>Data and Statistics>World Economic Outlook Databases>By Countrise>United Kingdom]</ref>)\n",
      "\n",
      "(GDP統計年MER-> 2012)\n",
      "\n",
      "(GDP順位MER-> 5)\n",
      "\n",
      "(GDP値MER-> 2兆4337億<ref name=\"imf-statistics-gdp\" />)\n",
      "\n",
      "(GDP統計年-> 2012)\n",
      "\n",
      "(GDP順位-> 6)\n",
      "\n",
      "(GDP値-> 2兆3162億<ref name=\"imf-statistics-gdp\" />)\n",
      "\n",
      "(GDP/人-> 36,727<ref name=\"imf-statistics-gdp\" />)\n",
      "\n",
      "(建国形態-> 建国)\n",
      "\n",
      "(確立形態1-> [[イングランド王国]]／[[スコットランド王国]]<br />（両国とも[[連合法 (1707年)|1707年連合法]]まで）)\n",
      "\n",
      "(確立年月日1-> [[927年]]／[[843年]])\n",
      "\n",
      "(確立形態2-> [[グレートブリテン王国]]建国<br />（[[連合法 (1707年)|1707年連合法]]）)\n",
      "\n",
      "(確立年月日2-> [[1707年]])\n",
      "\n",
      "(確立形態3-> [[グレートブリテン及びアイルランド連合王国]]建国<br />（[[連合法 (1800年)|1800年連合法]]）)\n",
      "\n",
      "(確立年月日3-> [[1801年]])\n",
      "\n",
      "(確立形態4-> 現在の国号「グレートブリテン及び北アイルランド連合王国」に変更)\n",
      "\n",
      "(確立年月日4-> [[1927年]])\n",
      "\n",
      "(通貨-> [[スターリング・ポンド|UKポンド]] (&pound;))\n",
      "\n",
      "(通貨コード-> GBP)\n",
      "\n",
      "(時間帯-> ±0)\n",
      "\n",
      "(夏時間-> +1)\n",
      "\n",
      "(ISO 3166-1-> GB / GBR)\n",
      "\n",
      "(ccTLD-> [[.uk]] / [[.gb]]<ref>使用は.ukに比べ圧倒的少数。</ref>)\n",
      "\n",
      "(国際電話番号-> 44)\n",
      "\n",
      "(注記-> <references />)\n",
      "\n"
     ]
    }
   ],
   "source": [
    "for key in dic.keys():\n",
    "    print(\"({}-> {})\\n\".format(key,dic[key]))\n",
    "    "
   ]
  },
  {
   "cell_type": "markdown",
   "metadata": {},
   "source": [
    "# 27 内部リンクの削除"
   ]
  },
  {
   "cell_type": "markdown",
   "metadata": {},
   "source": [
    "内部リンクは、\n",
    "* [[ ___記事名___ ]]、\n",
    "* [[記事名 | ___表示文字___ ]] \n",
    "* [[記事名 # | ___表示文字___ ]]\n",
    "の形"
   ]
  },
  {
   "cell_type": "code",
   "execution_count": 25,
   "metadata": {},
   "outputs": [],
   "source": [
    "def remove_link(Text):\n",
    "    pattern = re.compile(r'''\n",
    "    \\[\\[\n",
    "    (?:\n",
    "    [^|]*?\\|\n",
    "    )        # キャプチャしないやつ( 記事名(#)|)のとこ\n",
    "    *? # ?のnon-greedy match\n",
    "    ([^|]*?) # キャプチャすることろ　non-greedy\n",
    "    \\]\\]\n",
    "    ''',re.MULTILINE+re.VERBOSE)\n",
    "    ret = pattern.sub(r'\\1',Text)\n",
    "    \n",
    "    return ret"
   ]
  },
  {
   "cell_type": "code",
   "execution_count": 26,
   "metadata": {},
   "outputs": [],
   "source": [
    "def preprocess(val):\n",
    "    '''\n",
    "    強調マークアップと内部リンク\n",
    "    '''\n",
    "    return remove_link(remove_emph(val))"
   ]
  },
  {
   "cell_type": "code",
   "execution_count": 27,
   "metadata": {},
   "outputs": [],
   "source": [
    "dic=create_template_dic(preprocess)"
   ]
  },
  {
   "cell_type": "code",
   "execution_count": 28,
   "metadata": {},
   "outputs": [
    {
     "name": "stdout",
     "output_type": "stream",
     "text": [
      "(略名-> イギリス)\n",
      "\n",
      "(日本語国名-> グレートブリテン及び北アイルランド連合王国)\n",
      "\n",
      "(公式国名-> {{lang|en|United Kingdom of Great Britain and Northern Ireland}}<ref>英語以外での正式国名:<br/>\n",
      "*{{lang|gd|An Rìoghachd Aonaichte na Breatainn Mhòr agus Eirinn mu Thuath}}（スコットランド・ゲール語）<br/>\n",
      "*{{lang|cy|Teyrnas Gyfunol Prydain Fawr a Gogledd Iwerddon}}（ウェールズ語）<br/>\n",
      "*{{lang|ga|Ríocht Aontaithe na Breataine Móire agus Tuaisceart na hÉireann}}（アイルランド語）<br/>\n",
      "*{{lang|kw|An Rywvaneth Unys a Vreten Veur hag Iwerdhon Glédh}}（コーンウォール語）<br/>\n",
      "*{{lang|sco|Unitit Kinrick o Great Breetain an Northren Ireland}}（スコットランド語）<br/>\n",
      "**{{lang|sco|Claught Kängrick o Docht Brätain an Norlin Airlann}}、{{lang|sco|Unitet Kängdom o Great Brittain an Norlin Airlann}}（アルスター・スコットランド語）</ref>)\n",
      "\n",
      "(国旗画像-> Flag of the United Kingdom.svg)\n",
      "\n",
      "(国章画像-> イギリスの国章)\n",
      "\n",
      "(国章リンク-> （国章）)\n",
      "\n",
      "(標語-> {{lang|fr|Dieu et mon droit}}<br/>（フランス語:神と私の権利）)\n",
      "\n",
      "(国歌-> 神よ女王陛下を守り給え)\n",
      "\n",
      "(位置画像-> Location_UK_EU_Europe_001.svg)\n",
      "\n",
      "(公用語-> 英語（事実上）)\n",
      "\n",
      "(首都-> ロンドン)\n",
      "\n",
      "(最大都市-> ロンドン)\n",
      "\n",
      "(元首等肩書-> 女王)\n",
      "\n",
      "(元首等氏名-> エリザベス2世)\n",
      "\n",
      "(首相等肩書-> 首相)\n",
      "\n",
      "(首相等氏名-> デーヴィッド・キャメロン)\n",
      "\n",
      "(面積順位-> 76)\n",
      "\n",
      "(面積大きさ-> 1 E11)\n",
      "\n",
      "(面積値-> 244,820)\n",
      "\n",
      "(水面積率-> 1.3%)\n",
      "\n",
      "(人口統計年-> 2011)\n",
      "\n",
      "(人口順位-> 22)\n",
      "\n",
      "(人口大きさ-> 1 E7)\n",
      "\n",
      "(人口値-> 63,181,775<ref>[http://esa.un.org/unpd/wpp/Excel-Data/population.htm United Nations Department of Economic and Social Affairs>Population Division>Data>Population>Total Population]</ref>)\n",
      "\n",
      "(人口密度値-> 246)\n",
      "\n",
      "(GDP統計年元-> 2012)\n",
      "\n",
      "(GDP値元-> 1兆5478億<ref name=\"imf-statistics-gdp\">[http://www.imf.org/external/pubs/ft/weo/2012/02/weodata/weorept.aspx?pr.x=70&pr.y=13&sy=2010&ey=2012&scsm=1&ssd=1&sort=country&ds=.&br=1&c=112&s=NGDP%2CNGDPD%2CPPPGDP%2CPPPPC&grp=0&a= IMF>Data and Statistics>World Economic Outlook Databases>By Countrise>United Kingdom]</ref>)\n",
      "\n",
      "(GDP統計年MER-> 2012)\n",
      "\n",
      "(GDP順位MER-> 5)\n",
      "\n",
      "(GDP値MER-> 2兆4337億<ref name=\"imf-statistics-gdp\" />)\n",
      "\n",
      "(GDP統計年-> 2012)\n",
      "\n",
      "(GDP順位-> 6)\n",
      "\n",
      "(GDP値-> 2兆3162億<ref name=\"imf-statistics-gdp\" />)\n",
      "\n",
      "(GDP/人-> 36,727<ref name=\"imf-statistics-gdp\" />)\n",
      "\n",
      "(建国形態-> 建国)\n",
      "\n",
      "(確立形態1-> イングランド王国／スコットランド王国<br />（両国とも1707年連合法まで）)\n",
      "\n",
      "(確立年月日1-> 927年／843年)\n",
      "\n",
      "(確立形態2-> グレートブリテン王国建国<br />（1707年連合法）)\n",
      "\n",
      "(確立年月日2-> 1707年)\n",
      "\n",
      "(確立形態3-> グレートブリテン及びアイルランド連合王国建国<br />（1800年連合法）)\n",
      "\n",
      "(確立年月日3-> 1801年)\n",
      "\n",
      "(確立形態4-> 現在の国号「グレートブリテン及び北アイルランド連合王国」に変更)\n",
      "\n",
      "(確立年月日4-> 1927年)\n",
      "\n",
      "(通貨-> UKポンド (&pound;))\n",
      "\n",
      "(通貨コード-> GBP)\n",
      "\n",
      "(時間帯-> ±0)\n",
      "\n",
      "(夏時間-> +1)\n",
      "\n",
      "(ISO 3166-1-> GB / GBR)\n",
      "\n",
      "(ccTLD-> .uk / .gb<ref>使用は.ukに比べ圧倒的少数。</ref>)\n",
      "\n",
      "(国際電話番号-> 44)\n",
      "\n",
      "(注記-> <references />)\n",
      "\n"
     ]
    }
   ],
   "source": [
    "for key in dic.keys():\n",
    "    print(\"({}-> {})\\n\".format(key,dic[key]))\n",
    "    "
   ]
  },
  {
   "cell_type": "markdown",
   "metadata": {},
   "source": [
    "# 28 MediaWiki マークアップの除去"
   ]
  },
  {
   "cell_type": "code",
   "execution_count": 29,
   "metadata": {},
   "outputs": [],
   "source": [
    "def remove_itemize(Text):\n",
    "    '''\n",
    "    *とかの箇条書きを取り除く\n",
    "    '''\n",
    "    pattern = re.compile(r'''\n",
    "    ^\n",
    "    (?:[\\*]{1,2} | [\\#]{1,2})\n",
    "    (.*)\n",
    "    $\n",
    "    ''',re.MULTILINE+re.VERBOSE)\n",
    "    ret = pattern.sub(r'\\1',Text)\n",
    "    return ret"
   ]
  },
  {
   "cell_type": "code",
   "execution_count": 30,
   "metadata": {},
   "outputs": [],
   "source": [
    "def remove_lang(Text):\n",
    "    '''\n",
    "    {{lang|hoge|info}}のやつ\n",
    "    infoの部分を取り出したい \n",
    "    '''\n",
    "    \n",
    "    pattern = re.compile(r'''\n",
    "    \\{\\{lang\n",
    "    \\|[^|]*?\n",
    "    \\|([^|]*?)\\}\\}(.*)\n",
    "    ''',re.MULTILINE+re.VERBOSE)\n",
    "    ret = pattern.sub(r'\\1\\2',Text)\n",
    "    return ret"
   ]
  },
  {
   "cell_type": "code",
   "execution_count": 31,
   "metadata": {},
   "outputs": [],
   "source": [
    "def remove_br_ref(Text):\n",
    "    '''\n",
    "    <ref>と<\\ref>\n",
    "    <br>と<\\br>\n",
    "    '''\n",
    "    pattern = re.compile(\n",
    "    r'''\n",
    "    <\n",
    "    \\/? #閉じるやつ(escape /を0 or 1)\n",
    "    [br|ref]\n",
    "    [^>]*? #^で〜以外。>以外を非貪欲で(>が次に来るまで) <>に囲まれた中\n",
    "    >\n",
    "    ''',re.MULTILINE+re.VERBOSE)\n",
    "    ret = pattern.sub('',Text)\n",
    "    #取り出すところがないから、''\n",
    "    return ret"
   ]
  },
  {
   "cell_type": "code",
   "execution_count": 32,
   "metadata": {},
   "outputs": [],
   "source": [
    "def remove_exLink(Text):\n",
    "    \"\"\"\n",
    "    http:// のやつを消す\n",
    "    \"\"\"\n",
    "    patter = re.compile(r'''\n",
    "    \\[http:\\/\\/\n",
    "    (?:\n",
    "    [^\\s]*?\n",
    "    \\s\n",
    "    )?\n",
    "    ([^]]*?)\n",
    "    \\]\n",
    "    ''',re.MULTILINE+re.VERBOSE)\n",
    "    ret = pattern.sub(r'',Text)\n",
    "    return ret"
   ]
  },
  {
   "cell_type": "code",
   "execution_count": 33,
   "metadata": {},
   "outputs": [],
   "source": [
    "def preprocess(val):\n",
    "    val = remove_itemize(val)\n",
    "    val = remove_link(val)\n",
    "    val = remove_br_ref(val)\n",
    "    val = remove_emph(val)\n",
    "    val = remove_lang(val)\n",
    "    val = remove_exLink(val)\n",
    "    return val"
   ]
  },
  {
   "cell_type": "code",
   "execution_count": 34,
   "metadata": {},
   "outputs": [],
   "source": [
    "dic = create_template_dic(preprocess)"
   ]
  },
  {
   "cell_type": "code",
   "execution_count": 35,
   "metadata": {},
   "outputs": [
    {
     "name": "stdout",
     "output_type": "stream",
     "text": [
      "略名->イギリス \n",
      "\n",
      "日本語国名->グレートブリテン及び北アイルランド連合王国 \n",
      "\n",
      "公式国名->United Kingdom of Great Britain and Northern Ireland英語以外での正式国名:\n",
      "An Rìoghachd Aonaichte na Breatainn Mhòr agus Eirinn mu Thuath（スコットランド・ゲール語）\n",
      "Teyrnas Gyfunol Prydain Fawr a Gogledd Iwerddon（ウェールズ語）\n",
      "Ríocht Aontaithe na Breataine Móire agus Tuaisceart na hÉireann（アイルランド語）\n",
      "An Rywvaneth Unys a Vreten Veur hag Iwerdhon Glédh（コーンウォール語）\n",
      "Unitit Kinrick o Great Breetain an Northren Ireland（スコットランド語）\n",
      "Claught Kängrick o Docht Brätain an Norlin Airlann、{{lang|sco|Unitet Kängdom o Great Brittain an Norlin Airlann}}（アルスター・スコットランド語） \n",
      "\n",
      "国旗画像->Flag of the United Kingdom.svg \n",
      "\n",
      "国章画像->イギリスの国章 \n",
      "\n",
      "国章リンク->（国章） \n",
      "\n",
      "標語->Dieu et mon droit（フランス語:神と私の権利） \n",
      "\n",
      "国歌->神よ女王陛下を守り給え \n",
      "\n",
      "位置画像->Location_UK_EU_Europe_001.svg \n",
      "\n",
      "公用語->英語（事実上） \n",
      "\n",
      "首都->ロンドン \n",
      "\n",
      "最大都市->ロンドン \n",
      "\n",
      "元首等肩書->女王 \n",
      "\n",
      "元首等氏名->エリザベス2世 \n",
      "\n",
      "首相等肩書->首相 \n",
      "\n",
      "首相等氏名->デーヴィッド・キャメロン \n",
      "\n",
      "面積順位->76 \n",
      "\n",
      "面積大きさ->1 E11 \n",
      "\n",
      "面積値->244,820 \n",
      "\n",
      "水面積率->1.3% \n",
      "\n",
      "人口統計年->2011 \n",
      "\n",
      "人口順位->22 \n",
      "\n",
      "人口大きさ->1 E7 \n",
      "\n",
      "人口値->63,181,775[http://esa.un.org/unpd/wpp/Excel-Data/population.htm United Nations Department of Economic and Social Affairs>Population Division>Data>Population>Total Population] \n",
      "\n",
      "人口密度値->246 \n",
      "\n",
      "GDP統計年元->2012 \n",
      "\n",
      "GDP値元->1兆5478億[http://www.imf.org/external/pubs/ft/weo/2012/02/weodata/weorept.aspx?pr.x=70&pr.y=13&sy=2010&ey=2012&scsm=1&ssd=1&sort=country&ds=.&br=1&c=112&s=NGDP%2CNGDPD%2CPPPGDP%2CPPPPC&grp=0&a= IMF>Data and Statistics>World Economic Outlook Databases>By Countrise>United Kingdom] \n",
      "\n",
      "GDP統計年MER->2012 \n",
      "\n",
      "GDP順位MER->5 \n",
      "\n",
      "GDP値MER->2兆4337億 \n",
      "\n",
      "GDP統計年->2012 \n",
      "\n",
      "GDP順位->6 \n",
      "\n",
      "GDP値->2兆3162億 \n",
      "\n",
      "GDP/人->36,727 \n",
      "\n",
      "建国形態->建国 \n",
      "\n",
      "確立形態1->イングランド王国／スコットランド王国（両国とも1707年連合法まで） \n",
      "\n",
      "確立年月日1->927年／843年 \n",
      "\n",
      "確立形態2->グレートブリテン王国建国（1707年連合法） \n",
      "\n",
      "確立年月日2->1707年 \n",
      "\n",
      "確立形態3->グレートブリテン及びアイルランド連合王国建国（1800年連合法） \n",
      "\n",
      "確立年月日3->1801年 \n",
      "\n",
      "確立形態4->現在の国号「グレートブリテン及び北アイルランド連合王国」に変更 \n",
      "\n",
      "確立年月日4->1927年 \n",
      "\n",
      "通貨->UKポンド (&pound;) \n",
      "\n",
      "通貨コード->GBP \n",
      "\n",
      "時間帯->±0 \n",
      "\n",
      "夏時間->+1 \n",
      "\n",
      "ISO 3166-1->GB / GBR \n",
      "\n",
      "ccTLD->.uk / .gb使用は.ukに比べ圧倒的少数。 \n",
      "\n",
      "国際電話番号->44 \n",
      "\n",
      "注記-> \n",
      "\n"
     ]
    }
   ],
   "source": [
    "for key in dic.keys():\n",
    "    print(\"{}->{} \\n\".format(key,dic[key]))"
   ]
  },
  {
   "cell_type": "markdown",
   "metadata": {},
   "source": [
    "# 29 国旗画像の取得"
   ]
  },
  {
   "cell_type": "code",
   "execution_count": 36,
   "metadata": {},
   "outputs": [],
   "source": [
    "import urllib.parse,urllib.request"
   ]
  },
  {
   "cell_type": "code",
   "execution_count": 37,
   "metadata": {},
   "outputs": [],
   "source": [
    "fname = dic['国旗画像']"
   ]
  },
  {
   "cell_type": "code",
   "execution_count": 38,
   "metadata": {},
   "outputs": [
    {
     "data": {
      "text/plain": [
       "'Flag of the United Kingdom.svg'"
      ]
     },
     "execution_count": 38,
     "metadata": {},
     "output_type": "execute_result"
    }
   ],
   "source": [
    "fname"
   ]
  },
  {
   "cell_type": "markdown",
   "metadata": {},
   "source": [
    "* prop 記事の構成要素を取得\n",
    "* titles 記事の名前\n",
    "* file のページのurlを取得"
   ]
  },
  {
   "cell_type": "code",
   "execution_count": 39,
   "metadata": {},
   "outputs": [],
   "source": [
    "req_url = 'https://www.mediawiki.org/w/api.php?' \\\n",
    "        + 'action=query' \\\n",
    "        + '&titles=File:' + urllib.parse.quote(fname) \\\n",
    "        + '&format=json' \\\n",
    "        + '&prop=imageinfo' \\\n",
    "        + '&iiprop=url'"
   ]
  },
  {
   "cell_type": "code",
   "execution_count": 40,
   "metadata": {},
   "outputs": [],
   "source": [
    "request = urllib.request.Request(req_url)#req objを作る\n",
    "connection = urllib.request.urlopen(request)# 開く\n"
   ]
  },
  {
   "cell_type": "code",
   "execution_count": 41,
   "metadata": {},
   "outputs": [],
   "source": [
    "img_json  = json.loads(connection.read().decode())"
   ]
  },
  {
   "cell_type": "code",
   "execution_count": 42,
   "metadata": {},
   "outputs": [
    {
     "name": "stdout",
     "output_type": "stream",
     "text": [
      "https://upload.wikimedia.org/wikipedia/commons/a/ae/Flag_of_the_United_Kingdom.svg\n"
     ]
    }
   ],
   "source": [
    "url = img_json['query']['pages'].popitem()[1]['imageinfo'][0]['url']\n",
    "print(url)"
   ]
  },
  {
   "cell_type": "code",
   "execution_count": null,
   "metadata": {},
   "outputs": [],
   "source": []
  }
 ],
 "metadata": {
  "kernelspec": {
   "display_name": "Python 3",
   "language": "python",
   "name": "python3"
  },
  "language_info": {
   "codemirror_mode": {
    "name": "ipython",
    "version": 3
   },
   "file_extension": ".py",
   "mimetype": "text/x-python",
   "name": "python",
   "nbconvert_exporter": "python",
   "pygments_lexer": "ipython3",
   "version": "3.6.1"
  }
 },
 "nbformat": 4,
 "nbformat_minor": 2
}
