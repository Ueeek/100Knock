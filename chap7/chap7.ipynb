{
 "cells": [
  {
   "cell_type": "code",
   "execution_count": 1,
   "metadata": {
    "colab": {},
    "colab_type": "code",
    "id": "m5kamdr1C7ae"
   },
   "outputs": [],
   "source": [
    "import os\n",
    "import sys\n",
    "import pandas as pd"
   ]
  },
  {
   "cell_type": "code",
   "execution_count": 2,
   "metadata": {},
   "outputs": [],
   "source": [
    "sys.path.append(\"/Users/ueki/.pyenv/versions/3.7.3/lib/python3.7/site-packages/\")"
   ]
  },
  {
   "cell_type": "markdown",
   "metadata": {
    "colab_type": "text",
    "id": "dKa2Jq6cBxES"
   },
   "source": [
    "# Chapter7 単語ベクトル"
   ]
  },
  {
   "cell_type": "markdown",
   "metadata": {
    "colab_type": "text",
    "id": "NO4BBsFKCFdB"
   },
   "source": [
    "## 60 単語ベクトルの埋め込みと表示"
   ]
  },
  {
   "cell_type": "code",
   "execution_count": 0,
   "metadata": {
    "colab": {},
    "colab_type": "code",
    "id": "UKOonK5kClHA"
   },
   "outputs": [],
   "source": [
    "base_dir =\"drive/My Drive/chap07/\".replace(\"/\",os.sep)"
   ]
  },
  {
   "cell_type": "code",
   "execution_count": 0,
   "metadata": {
    "colab": {},
    "colab_type": "code",
    "id": "wP6E0llVClAJ"
   },
   "outputs": [],
   "source": [
    "DATA_FILE =base_dir+\"data/GoogleNews-vectors-negative300.bin.gz\""
   ]
  },
  {
   "cell_type": "code",
   "execution_count": 0,
   "metadata": {
    "colab": {
     "base_uri": "https://localhost:8080/",
     "height": 71
    },
    "colab_type": "code",
    "id": "vfbd3LUuDjHb",
    "outputId": "0ba64d25-6400-4104-95c4-cce1509512e9"
   },
   "outputs": [
    {
     "name": "stderr",
     "output_type": "stream",
     "text": [
      "/usr/local/lib/python3.6/dist-packages/smart_open/smart_open_lib.py:398: UserWarning: This function is deprecated, use smart_open.open instead. See the migration notes for details: https://github.com/RaRe-Technologies/smart_open/blob/master/README.rst#migrating-to-the-new-open-function\n",
      "  'See the migration notes for details: %s' % _MIGRATION_NOTES_URL\n"
     ]
    }
   ],
   "source": [
    "from gensim.models import KeyedVectors\n",
    "data = KeyedVectors.load_word2vec_format(base_dir+'data/GoogleNews-vectors-negative300.bin.gz', binary=True)"
   ]
  },
  {
   "cell_type": "code",
   "execution_count": 0,
   "metadata": {
    "colab": {},
    "colab_type": "code",
    "id": "q2HnfwccGz67"
   },
   "outputs": [],
   "source": [
    "#data[\"United_States\"]"
   ]
  },
  {
   "cell_type": "markdown",
   "metadata": {
    "colab_type": "text",
    "id": "UwZKp1DwJgwQ"
   },
   "source": [
    "## 61 単語の類似度"
   ]
  },
  {
   "cell_type": "code",
   "execution_count": 0,
   "metadata": {
    "colab": {
     "base_uri": "https://localhost:8080/",
     "height": 88
    },
    "colab_type": "code",
    "id": "s8yR4PuNIMs0",
    "outputId": "6fcc1578-1873-4b29-e838-054940449b87"
   },
   "outputs": [
    {
     "name": "stderr",
     "output_type": "stream",
     "text": [
      "/usr/local/lib/python3.6/dist-packages/gensim/matutils.py:737: FutureWarning: Conversion of the second argument of issubdtype from `int` to `np.signedinteger` is deprecated. In future, it will be treated as `np.int64 == np.dtype(int).type`.\n",
      "  if np.issubdtype(vec.dtype, np.int):\n"
     ]
    },
    {
     "data": {
      "text/plain": [
       "0.73107743"
      ]
     },
     "execution_count": 7,
     "metadata": {
      "tags": []
     },
     "output_type": "execute_result"
    }
   ],
   "source": [
    "data.similarity(\"United_States\",\"U.S.\")"
   ]
  },
  {
   "cell_type": "markdown",
   "metadata": {
    "colab_type": "text",
    "id": "bkxdZL-vJmYr"
   },
   "source": [
    "## 62 類似度の高い単語10件"
   ]
  },
  {
   "cell_type": "code",
   "execution_count": 0,
   "metadata": {
    "colab": {
     "base_uri": "https://localhost:8080/",
     "height": 241
    },
    "colab_type": "code",
    "id": "r3AEaHyXYVLl",
    "outputId": "b41d7819-9da3-46a3-e800-a849d164fdcf"
   },
   "outputs": [
    {
     "name": "stderr",
     "output_type": "stream",
     "text": [
      "/usr/local/lib/python3.6/dist-packages/gensim/matutils.py:737: FutureWarning: Conversion of the second argument of issubdtype from `int` to `np.signedinteger` is deprecated. In future, it will be treated as `np.int64 == np.dtype(int).type`.\n",
      "  if np.issubdtype(vec.dtype, np.int):\n"
     ]
    },
    {
     "name": "stdout",
     "output_type": "stream",
     "text": [
      "1:word:Unites_States\tscore0.7877248525619507\n",
      "2:word:Untied_States\tscore0.7541370391845703\n",
      "3:word:United_Sates\tscore0.74007248878479\n",
      "4:word:U.S.\tscore0.7310774326324463\n",
      "5:word:theUnited_States\tscore0.6404393911361694\n",
      "6:word:America\tscore0.6178410053253174\n",
      "7:word:UnitedStates\tscore0.6167312264442444\n",
      "8:word:Europe\tscore0.6132988929748535\n",
      "9:word:countries\tscore0.6044804453849792\n",
      "10:word:Canada\tscore0.6019070148468018\n"
     ]
    }
   ],
   "source": [
    "top10=data.most_similar(positive=\"United_States\", negative=None, topn=10)\n",
    "for i,v in enumerate(top10):\n",
    "    word,score = v\n",
    "    print(\"{}:word:{}\\tscore{}\".format(i+1,word,score))"
   ]
  },
  {
   "cell_type": "markdown",
   "metadata": {
    "colab_type": "text",
    "id": "jrf6gFDMZSGT"
   },
   "source": [
    "## 63 　加法構成性によるアナロジー"
   ]
  },
  {
   "cell_type": "code",
   "execution_count": 0,
   "metadata": {
    "colab": {
     "base_uri": "https://localhost:8080/",
     "height": 241
    },
    "colab_type": "code",
    "id": "G0d6SeLcIizF",
    "outputId": "ba68e55e-f8f2-40c0-a08b-b9f121af107a"
   },
   "outputs": [
    {
     "name": "stderr",
     "output_type": "stream",
     "text": [
      "/usr/local/lib/python3.6/dist-packages/gensim/matutils.py:737: FutureWarning: Conversion of the second argument of issubdtype from `int` to `np.signedinteger` is deprecated. In future, it will be treated as `np.int64 == np.dtype(int).type`.\n",
      "  if np.issubdtype(vec.dtype, np.int):\n"
     ]
    },
    {
     "name": "stdout",
     "output_type": "stream",
     "text": [
      "1:word:Greece\tscore0.6898481249809265\n",
      "2:word:Aristeidis_Grigoriadis\tscore0.5606848001480103\n",
      "3:word:Ioannis_Drymonakos\tscore0.5552908778190613\n",
      "4:word:Greeks\tscore0.545068621635437\n",
      "5:word:Ioannis_Christou\tscore0.5400862693786621\n",
      "6:word:Hrysopiyi_Devetzi\tscore0.5248444676399231\n",
      "7:word:Heraklio\tscore0.5207759737968445\n",
      "8:word:Athens_Greece\tscore0.516880989074707\n",
      "9:word:Lithuania\tscore0.5166866183280945\n",
      "10:word:Iraklion\tscore0.5146791934967041\n"
     ]
    }
   ],
   "source": [
    "top10=data.most_similar(positive=[\"Spain\",\"Athens\"], negative=[\"Madrid\"], topn=10)\n",
    "for i,v in enumerate(top10):\n",
    "    word,score = v\n",
    "    print(\"{}:word:{}\\tscore{}\".format(i+1,word,score))"
   ]
  },
  {
   "cell_type": "markdown",
   "metadata": {
    "colab_type": "text",
    "id": "kQAcDJOHZ2NW"
   },
   "source": [
    "## 64 アナロジーデータでの実験"
   ]
  },
  {
   "cell_type": "code",
   "execution_count": 0,
   "metadata": {
    "colab": {},
    "colab_type": "code",
    "id": "IKr5VVqrKSJb"
   },
   "outputs": [],
   "source": [
    "FILE = \"/data/questions-words.txt\"\n",
    "OUT_FILE=\"/data/questions-words2.txt\""
   ]
  },
  {
   "cell_type": "code",
   "execution_count": 0,
   "metadata": {
    "colab": {
     "base_uri": "https://localhost:8080/",
     "height": 34
    },
    "colab_type": "code",
    "id": "C2bbwGbF6wmu",
    "outputId": "19e68021-6261-4356-ac5f-3de70ebad59e"
   },
   "outputs": [
    {
     "name": "stdout",
     "output_type": "stream",
     "text": [
      "19558\n"
     ]
    }
   ],
   "source": [
    "with open(base_dir+FILE) as f:\n",
    "    cnt=0\n",
    "    for line in f:\n",
    "        cnt +=1\n",
    "    print(cnt)"
   ]
  },
  {
   "cell_type": "code",
   "execution_count": 0,
   "metadata": {
    "colab": {},
    "colab_type": "code",
    "id": "SmzOm4eZaWsB"
   },
   "outputs": [],
   "source": [
    "cnt=0\n",
    "with open(base_dir+FILE) as f:\n",
    "    with open(base_dir+OUT_FILE,mode=\"w\") as f_out:\n",
    "        for line in f:\n",
    "            cnt+=1\n",
    "            items = line.split()\n",
    "            if len(items)!=4:#column名の説明の行はskipする\n",
    "                f_out.write(\" \".join(map(str,items))+\"\\n\")\n",
    "                continue\n",
    "            top=data.most_similar(positive=[items[1],items[2]], negative=[items[0]], topn=1)\n",
    "            f_out.write(\" \".join(map(str,items))+\" \"+str(top[0][0])+\" \"+str(top[0][1])+\"\\n\")\n",
    "            if cnt%100==0:\n",
    "                print(\"------{}------\".format(cnt))\n",
    "                                                        "
   ]
  },
  {
   "cell_type": "markdown",
   "metadata": {
    "colab_type": "text",
    "id": "G1cwxDLBgmgq"
   },
   "source": [
    "## 65 アナロジータスクでの正解率"
   ]
  },
  {
   "cell_type": "code",
   "execution_count": 0,
   "metadata": {
    "colab": {
     "base_uri": "https://localhost:8080/",
     "height": 34
    },
    "colab_type": "code",
    "id": "LsMaRVanacvb",
    "outputId": "fe7baeb5-a96e-4915-a27f-3108e2c63996"
   },
   "outputs": [
    {
     "data": {
      "text/plain": [
       "0.7358780188293083"
      ]
     },
     "execution_count": 13,
     "metadata": {
      "tags": []
     },
     "output_type": "execute_result"
    }
   ],
   "source": [
    "acc=0\n",
    "cnt=0\n",
    "with open(base_dir+OUT_FILE) as f:\n",
    "    for line in f:\n",
    "        items = line.split()\n",
    "        if len(items)!=6:#column名の説明をしてる行はskipする\n",
    "            continue\n",
    "        else:\n",
    "            cnt += 1\n",
    "            if items[3]==items[4]:\n",
    "                acc+=1\n",
    "acc/cnt\n",
    "        "
   ]
  },
  {
   "cell_type": "markdown",
   "metadata": {
    "colab_type": "text",
    "id": "SjA1_FzghK3W"
   },
   "source": [
    "## 66 WordSimilarity-353での評価"
   ]
  },
  {
   "cell_type": "code",
   "execution_count": 0,
   "metadata": {
    "colab": {},
    "colab_type": "code",
    "id": "SXUeRgXAhI4B"
   },
   "outputs": [],
   "source": [
    "WORDSIM_FILE=\"/data/wordsim353/combined.csv\""
   ]
  },
  {
   "cell_type": "code",
   "execution_count": 0,
   "metadata": {
    "colab": {
     "base_uri": "https://localhost:8080/",
     "height": 71
    },
    "colab_type": "code",
    "id": "_BrtX2X5i3cr",
    "outputId": "3e152032-4bea-4fe1-b1cc-710865544dee"
   },
   "outputs": [
    {
     "name": "stderr",
     "output_type": "stream",
     "text": [
      "/usr/local/lib/python3.6/dist-packages/gensim/matutils.py:737: FutureWarning: Conversion of the second argument of issubdtype from `int` to `np.signedinteger` is deprecated. In future, it will be treated as `np.int64 == np.dtype(int).type`.\n",
      "  if np.issubdtype(vec.dtype, np.int):\n"
     ]
    }
   ],
   "source": [
    "human_val=[]\n",
    "word2vec_val=[]\n",
    "first=True\n",
    "with open(base_dir+WORDSIM_FILE) as f:\n",
    "    for line in f:\n",
    "        if first:\n",
    "            first=False\n",
    "            continue\n",
    "        items = line.split(\",\")       \n",
    "        word1=items[0]\n",
    "        word2=items[1]\n",
    "        h_val = items[2]\n",
    "        w_val = data.similarity(word1,word2)         \n",
    "        human_val.append(float(h_val))\n",
    "        word2vec_val.append(float(w_val))   "
   ]
  },
  {
   "cell_type": "code",
   "execution_count": 0,
   "metadata": {
    "colab": {},
    "colab_type": "code",
    "id": "nsukEenrkEip"
   },
   "outputs": [],
   "source": [
    "from scipy.stats import spearmanr"
   ]
  },
  {
   "cell_type": "code",
   "execution_count": 0,
   "metadata": {
    "colab": {},
    "colab_type": "code",
    "id": "hQoezlvXkRgu"
   },
   "outputs": [],
   "source": [
    "cor = spearmanr(human_val,word2vec_val)"
   ]
  },
  {
   "cell_type": "code",
   "execution_count": 0,
   "metadata": {
    "colab": {
     "base_uri": "https://localhost:8080/",
     "height": 54
    },
    "colab_type": "code",
    "id": "4YGED03o52ut",
    "outputId": "0e4d2f40-8318-4a4d-95ec-f0a07dda4ec8"
   },
   "outputs": [
    {
     "data": {
      "text/plain": [
       "SpearmanrResult(correlation=0.7000166486272194, pvalue=2.86866666051422e-53)"
      ]
     },
     "execution_count": 18,
     "metadata": {
      "tags": []
     },
     "output_type": "execute_result"
    }
   ],
   "source": [
    "cor"
   ]
  },
  {
   "cell_type": "markdown",
   "metadata": {
    "colab_type": "text",
    "id": "LoJiaDJlkZN0"
   },
   "source": [
    "## 67 k-means クラスタリング"
   ]
  },
  {
   "cell_type": "markdown",
   "metadata": {
    "colab_type": "text",
    "id": "LXCZz8ERjn6Q"
   },
   "source": [
    "### 国名の抽出\n",
    "* questrin-wordに乗ってる国名を取ってくる"
   ]
  },
  {
   "cell_type": "code",
   "execution_count": 0,
   "metadata": {
    "colab": {
     "base_uri": "https://localhost:8080/",
     "height": 85
    },
    "colab_type": "code",
    "id": "-D8X1Q05jnCU",
    "outputId": "ebc8ca54-b965-4703-c193-fc714020f49c"
   },
   "outputs": [
    {
     "name": "stdout",
     "output_type": "stream",
     "text": [
      ": capital-common-countries\n",
      "\n",
      ": capital-world\n",
      "\n"
     ]
    }
   ],
   "source": [
    "countries=set()\n",
    "cnt=0\n",
    "with open(base_dir+OUT_FILE) as f:\n",
    "    for line in f:\n",
    "        items = line.split()\n",
    "        if len(items)==6:\n",
    "            countries.add(items[1])\n",
    "            countries.add(items[3])\n",
    "        else:\n",
    "            cnt+=1\n",
    "            if cnt==3:    \n",
    "                break\n",
    "            print(line)\n",
    "countries=list(countries)"
   ]
  },
  {
   "cell_type": "code",
   "execution_count": 0,
   "metadata": {
    "colab": {
     "base_uri": "https://localhost:8080/",
     "height": 34
    },
    "colab_type": "code",
    "id": "U7t0w8UTkId0",
    "outputId": "24d8765f-2261-4df9-ffc7-a0707bf8dc39"
   },
   "outputs": [
    {
     "data": {
      "text/plain": [
       "116"
      ]
     },
     "execution_count": 20,
     "metadata": {
      "tags": []
     },
     "output_type": "execute_result"
    }
   ],
   "source": [
    "len(countries)"
   ]
  },
  {
   "cell_type": "markdown",
   "metadata": {
    "colab_type": "text",
    "id": "mfNkLOAulYPx"
   },
   "source": [
    "### word Vector の用意"
   ]
  },
  {
   "cell_type": "code",
   "execution_count": 0,
   "metadata": {
    "colab": {},
    "colab_type": "code",
    "id": "8l3TEK03kWoQ"
   },
   "outputs": [],
   "source": [
    "word_vec=[]\n",
    "for c in countries:\n",
    "    word_vec.append(data[c])"
   ]
  },
  {
   "cell_type": "markdown",
   "metadata": {
    "colab_type": "text",
    "id": "x5TnayDhlrNn"
   },
   "source": [
    "### k means clustering"
   ]
  },
  {
   "cell_type": "code",
   "execution_count": 0,
   "metadata": {
    "colab": {},
    "colab_type": "code",
    "id": "-nceR7sGlwy7"
   },
   "outputs": [],
   "source": [
    "from sklearn.cluster import KMeans"
   ]
  },
  {
   "cell_type": "code",
   "execution_count": 0,
   "metadata": {
    "colab": {},
    "colab_type": "code",
    "id": "E5Bv0s8gl1v5"
   },
   "outputs": [],
   "source": [
    "NUM=5 #cluster数"
   ]
  },
  {
   "cell_type": "code",
   "execution_count": 0,
   "metadata": {
    "colab": {},
    "colab_type": "code",
    "id": "gz6wcVFdl4aM"
   },
   "outputs": [],
   "source": [
    "k_means = KMeans(n_clusters=NUM)\n",
    "idx = k_means.fit_predict(word_vec)"
   ]
  },
  {
   "cell_type": "code",
   "execution_count": 0,
   "metadata": {
    "colab": {
     "base_uri": "https://localhost:8080/",
     "height": 207
    },
    "colab_type": "code",
    "id": "g4hgTmXumDLH",
    "outputId": "190cb2c4-d4da-4cd0-f0ca-28037e66a83a"
   },
   "outputs": [
    {
     "name": "stdout",
     "output_type": "stream",
     "text": [
      "cluster 1\n",
      "Dominica\tBahamas\tFiji\tJamaica\tChile\tGuyana\tSamoa\tPhilippines\tUruguay\tHonduras\tPeru\tEcuador\tSuriname\tCuba\tVenezuela\tBelize\tNicaragua\tTuvalu\tAustralia\tCanada\tTaiwan\n",
      "cluster 2\n",
      "Namibia\tBurundi\tSudan\tUganda\tGabon\tMali\tRwanda\tGhana\tMalawi\tMozambique\tAngola\tSenegal\tGambia\tMauritania\tLiberia\tZambia\tZimbabwe\tMadagascar\tNiger\tBotswana\tGuinea\tTunisia\tEritrea\tKenya\tAlgeria\tNigeria\n",
      "cluster 3\n",
      "Vietnam\tBangladesh\tLaos\tChina\tLibya\tMorocco\tPakistan\tIraq\tSomalia\tAfghanistan\tThailand\tSyria\tBahrain\tIndonesia\tBhutan\tJapan\tIran\tJordan\tEgypt\tLebanon\tQatar\tOman\tNepal\n",
      "cluster 4\n",
      "Kazakhstan\tRussia\tUzbekistan\tUkraine\tBelarus\tTajikistan\tTurkmenistan\tArmenia\tKyrgyzstan\tMoldova\tAzerbaijan\n",
      "cluster 5\n",
      "Lithuania\tLatvia\tEstonia\tGreece\tPoland\tMalta\tAlbania\tGermany\tSerbia\tNorway\tFinland\tIreland\tSpain\tGeorgia\tBulgaria\tPortugal\tGreenland\tLiechtenstein\tHungary\tEngland\tMacedonia\tSlovakia\tAustria\tDenmark\tMontenegro\tSwitzerland\tTurkey\tSweden\tSlovenia\tItaly\tFrance\tBelgium\tRomania\tCyprus\tCroatia\n"
     ]
    }
   ],
   "source": [
    "clusters=[]\n",
    "for cluster in range(NUM):\n",
    "    print(\"cluster {}\".format(cluster+1))\n",
    "    words=[]\n",
    "    for i in range(len(idx)):\n",
    "        if cluster == idx[i]:\n",
    "            words.append(countries[i])\n",
    "    print(\"\\t\".join(words))\n",
    "    clusters.append(words)"
   ]
  },
  {
   "cell_type": "markdown",
   "metadata": {
    "colab_type": "text",
    "id": "ZAqAf5IhHKD9"
   },
   "source": [
    "### visualizing cluster"
   ]
  },
  {
   "cell_type": "code",
   "execution_count": 2,
   "metadata": {
    "colab": {
     "base_uri": "https://localhost:8080/",
     "height": 241
    },
    "colab_type": "code",
    "id": "z0vsmNYdolpp",
    "outputId": "51782f50-8cb0-402d-b210-02181eb48c49"
   },
   "outputs": [
    {
     "name": "stdout",
     "output_type": "stream",
     "text": [
      "Requirement already satisfied: pygal_maps_world in /Users/ueki/.pyenv/versions/3.7.3/lib/python3.7/site-packages (1.0.2)\n",
      "Requirement already satisfied: pygal>=1.9.9 in /Users/ueki/.pyenv/versions/3.7.3/lib/python3.7/site-packages (from pygal_maps_world) (2.4.0)\n",
      "\u001b[33mYou are using pip version 19.0.3, however version 19.1.1 is available.\n",
      "You should consider upgrading via the 'pip install --upgrade pip' command.\u001b[0m\n"
     ]
    }
   ],
   "source": [
    "! pip install pygal_maps_world"
   ]
  },
  {
   "cell_type": "code",
   "execution_count": 4,
   "metadata": {
    "colab": {},
    "colab_type": "code",
    "id": "hddGqzMDp09v"
   },
   "outputs": [],
   "source": [
    "from pygal_maps_world.maps import World"
   ]
  },
  {
   "cell_type": "code",
   "execution_count": 0,
   "metadata": {
    "colab": {},
    "colab_type": "code",
    "id": "oKzMHoNEp5j3"
   },
   "outputs": [],
   "source": [
    "wm = World()"
   ]
  },
  {
   "cell_type": "code",
   "execution_count": 0,
   "metadata": {
    "colab": {},
    "colab_type": "code",
    "id": "1IjlcdUyqMKc"
   },
   "outputs": [],
   "source": [
    "wm.title=\"Cluster res\""
   ]
  },
  {
   "cell_type": "code",
   "execution_count": 0,
   "metadata": {
    "colab": {},
    "colab_type": "code",
    "id": "1OlfkVeCslt7"
   },
   "outputs": [],
   "source": [
    "# world mapを使うときに国名は、省略した形で使う。それを行うdictを作る.(ex. japan->jp見たいな))\n",
    "cnt_to_code=dict()\n",
    "with open(base_dir+\"data/country.txt\") as f:\n",
    "    for line in f:\n",
    "        item = line.split()\n",
    "        cnt_to_code[item[1]]=item[0]"
   ]
  },
  {
   "cell_type": "code",
   "execution_count": 0,
   "metadata": {
    "colab": {
     "base_uri": "https://localhost:8080/",
     "height": 136
    },
    "colab_type": "code",
    "id": "G7jiXR_GtZnt",
    "outputId": "6477e2d2-eb25-4ca9-8afc-4bdd4b128f66"
   },
   "outputs": [
    {
     "name": "stdout",
     "output_type": "stream",
     "text": [
      "not found name:Bahamas\n",
      "not found name:Fiji\n",
      "not found name:Samoa\n",
      "not found name:Tuvalu\n",
      "not found name:Libya\n",
      "not found name:Qatar\n",
      "not found name:England\n"
     ]
    }
   ],
   "source": [
    "for i,cl in enumerate(clusters):\n",
    "    c_code=[]\n",
    "    for c in cl:\n",
    "        try:\n",
    "            c_code.append(cnt_to_code[c])\n",
    "        except KeyError: # world mapにない国名もあるので、error処理\n",
    "            print(\"not found name:{}\".format(c))\n",
    "            pass\n",
    "        \n",
    "    wm.add(\"{} Cluster\".format(i+1),c_code) # クラスタごとに国のリストを追加(同じクラスタの国は同じ色で塗られるようになる)\n",
    "    "
   ]
  },
  {
   "cell_type": "code",
   "execution_count": 5,
   "metadata": {
    "colab": {},
    "colab_type": "code",
    "id": "BNgwFeLFD3tr"
   },
   "outputs": [],
   "source": [
    "from IPython.display import SVG, display"
   ]
  },
  {
   "cell_type": "code",
   "execution_count": 11,
   "metadata": {
    "colab": {
     "base_uri": "https://localhost:8080/",
     "height": 473
    },
    "colab_type": "code",
    "id": "OqGYn8YYsIfI",
    "outputId": "41b26b1d-5d08-4901-ad81-aaa6eab67af0"
   },
   "outputs": [],
   "source": [
    "#SVG(wm.render())"
   ]
  },
  {
   "cell_type": "code",
   "execution_count": 20,
   "metadata": {},
   "outputs": [
    {
     "name": "stdout",
     "output_type": "stream",
     "text": [
      "shell-init: error retrieving current directory: getcwd: cannot access parent directories: No such file or directory\r\n"
     ]
    }
   ],
   "source": [
    "! ls"
   ]
  },
  {
   "cell_type": "code",
   "execution_count": 3,
   "metadata": {},
   "outputs": [
    {
     "data": {
      "image/png": "[encoded data removed]",
      "text/plain": [
       "<Figure size 432x288 with 1 Axes>"
      ]
     },
     "metadata": {
      "needs_background": "light"
     },
     "output_type": "display_data"
    }
   ],
   "source": [
    "from PIL import Image\n",
    "import matplotlib.pyplot as plt\n",
    "import numpy as np\n",
    "#Jupyterでインライン表示するための宣言\n",
    "%matplotlib inline\n",
    "#画像の読み込み\n",
    "im = Image.open(\"./cluster.png\")\n",
    "#画像をarrayに変換\n",
    "im_list = np.asarray(im)\n",
    "#貼り付け\n",
    "plt.imshow(im_list)\n",
    "#表示\n",
    "plt.show()"
   ]
  },
  {
   "cell_type": "markdown",
   "metadata": {
    "colab_type": "text",
    "id": "fK1ZhPZBk_OX"
   },
   "source": [
    "## 68 Ward法によるクラスタリング"
   ]
  },
  {
   "cell_type": "code",
   "execution_count": 0,
   "metadata": {
    "colab": {},
    "colab_type": "code",
    "id": "qwR43GkpzsCG"
   },
   "outputs": [],
   "source": [
    "from scipy.cluster.hierarchy import dendrogram, linkage, fcluster, set_link_color_palette\n",
    "import matplotlib.pyplot as plt"
   ]
  },
  {
   "cell_type": "code",
   "execution_count": 0,
   "metadata": {
    "colab": {},
    "colab_type": "code",
    "id": "IkSTxT85z-qM"
   },
   "outputs": [],
   "source": [
    "z = linkage(word_vec,method=\"ward\",)"
   ]
  },
  {
   "cell_type": "code",
   "execution_count": 0,
   "metadata": {
    "colab": {
     "base_uri": "https://localhost:8080/",
     "height": 268
    },
    "colab_type": "code",
    "id": "RhQJ3dNG0PuZ",
    "outputId": "afe2f07d-5d8c-41eb-e6d1-7f233464336f"
   },
   "outputs": [
    {
     "data": {
      "image/png": "[encoded data removed]",
      "text/plain": [
       "<Figure size 432x288 with 1 Axes>"
      ]
     },
     "metadata": {
      "tags": []
     },
     "output_type": "display_data"
    }
   ],
   "source": [
    "set_link_color_palette(['purple', 'lawngreen', 'green', 'blue', 'orange']) # 5クラスタまでの色を指定\n",
    "_=dendrogram(z,labels=None)"
   ]
  },
  {
   "cell_type": "markdown",
   "metadata": {
    "colab_type": "text",
    "id": "1pGPVqMblDd6"
   },
   "source": [
    "##  69 t-SNEによる可視化"
   ]
  },
  {
   "cell_type": "code",
   "execution_count": 0,
   "metadata": {
    "colab": {},
    "colab_type": "code",
    "id": "cR2zL2BFkVUm"
   },
   "outputs": [],
   "source": [
    "from sklearn.manifold import TSNE\n",
    "import seaborn as sns"
   ]
  },
  {
   "cell_type": "code",
   "execution_count": 0,
   "metadata": {
    "colab": {},
    "colab_type": "code",
    "id": "W_9y_Hqb1t7a"
   },
   "outputs": [],
   "source": [
    "model = TSNE(n_components=2, random_state=0)#n_component= dim"
   ]
  },
  {
   "cell_type": "code",
   "execution_count": 0,
   "metadata": {
    "colab": {
     "base_uri": "https://localhost:8080/",
     "height": 85
    },
    "colab_type": "code",
    "id": "67uxEwld1wHV",
    "outputId": "8810caa3-17a0-48d7-8b4f-47c53a169d4d"
   },
   "outputs": [
    {
     "data": {
      "text/plain": [
       "TSNE(angle=0.5, early_exaggeration=12.0, init='random', learning_rate=200.0,\n",
       "     method='barnes_hut', metric='euclidean', min_grad_norm=1e-07,\n",
       "     n_components=2, n_iter=1000, n_iter_without_progress=300, perplexity=30.0,\n",
       "     random_state=0, verbose=0)"
      ]
     },
     "execution_count": 44,
     "metadata": {
      "tags": []
     },
     "output_type": "execute_result"
    }
   ],
   "source": [
    "model.fit(word_vec) "
   ]
  },
  {
   "cell_type": "code",
   "execution_count": 0,
   "metadata": {
    "colab": {
     "base_uri": "https://localhost:8080/",
     "height": 605
    },
    "colab_type": "code",
    "id": "dRsd9N2L1zg1",
    "outputId": "3a7ef706-9aff-4765-ca2c-d4ddd177a137"
   },
   "outputs": [
    {
     "data": {
      "image/png": "[encoded data removed]",
      "text/plain": [
       "<Figure size 618.375x576 with 1 Axes>"
      ]
     },
     "metadata": {
      "tags": []
     },
     "output_type": "display_data"
    }
   ],
   "source": [
    "df = pd.DataFrame(model.embedding_[:,0],columns=[\"x\"])\n",
    "df['y'] = pd.DataFrame(model.embedding_[:,1])\n",
    "df[\"class\"] = idx\n",
    "graph = sns.lmplot(\n",
    "    data=df,x=\"x\",y=\"y\",hue=\"class\",fit_reg=False,height=8)"
   ]
  },
  {
   "cell_type": "code",
   "execution_count": 0,
   "metadata": {
    "colab": {},
    "colab_type": "code",
    "id": "eBAbCYUdfRqb"
   },
   "outputs": [],
   "source": []
  }
 ],
 "metadata": {
  "colab": {
   "collapsed_sections": [],
   "name": "chap7.ipynb",
   "provenance": [],
   "version": "0.3.2"
  },
  "kernelspec": {
   "display_name": "Python 3",
   "language": "python",
   "name": "python3"
  },
  "language_info": {
   "codemirror_mode": {
    "name": "ipython",
    "version": 3
   },
   "file_extension": ".py",
   "mimetype": "text/x-python",
   "name": "python",
   "nbconvert_exporter": "python",
   "pygments_lexer": "ipython3",
   "version": "3.7.3"
  }
 },
 "nbformat": 4,
 "nbformat_minor": 1
}
