{
 "cells": [
  {
   "cell_type": "markdown",
   "metadata": {
    "colab_type": "text",
    "id": "YrvYT31YM31I"
   },
   "source": [
    "# Chapter6 機械学習の基礎"
   ]
  },
  {
   "cell_type": "code",
   "execution_count": 0,
   "metadata": {
    "colab": {},
    "colab_type": "code",
    "id": "ysXDKRfPM31K"
   },
   "outputs": [],
   "source": [
    "import matplotlib.pyplot as plt\n",
    "import numpy as np\n",
    "import pandas as pd\n",
    "import re\n",
    "from nltk.stem.porter import PorterStemmer as PS\n",
    "import os\n",
    "import seaborn as sns"
   ]
  },
  {
   "cell_type": "code",
   "execution_count": 0,
   "metadata": {
    "colab": {},
    "colab_type": "code",
    "id": "oTu5mhrlM31P"
   },
   "outputs": [],
   "source": [
    "from sklearn.feature_extraction.text import CountVectorizer\n",
    "from sklearn.feature_extraction.text import TfidfTransformer\n",
    "from sklearn.feature_extraction import DictVectorizer"
   ]
  },
  {
   "cell_type": "code",
   "execution_count": 4,
   "metadata": {
    "colab": {
     "base_uri": "https://localhost:8080/",
     "height": 34
    },
    "colab_type": "code",
    "id": "N3okdMI1M31Y",
    "outputId": "9bf16149-a640-4dc6-d178-6b5bd221821c"
   },
   "outputs": [
    {
     "name": "stdout",
     "output_type": "stream",
     "text": [
      "'My Drive'\n"
     ]
    }
   ],
   "source": [
    "! ls drive"
   ]
  },
  {
   "cell_type": "code",
   "execution_count": 0,
   "metadata": {
    "colab": {},
    "colab_type": "code",
    "id": "l-EiPrtuNNnY"
   },
   "outputs": [],
   "source": [
    "base_dir = \"./drive/My Drive/chap06\".replace('/', os.sep)"
   ]
  },
  {
   "cell_type": "code",
   "execution_count": 0,
   "metadata": {
    "colab": {},
    "colab_type": "code",
    "id": "uIttHKR7M31q"
   },
   "outputs": [],
   "source": [
    "data = pd.read_csv(base_dir+\"/NewsAggregatorDataset/newsCorpora.csv\",sep=\"\\t\",header=None)"
   ]
  },
  {
   "cell_type": "code",
   "execution_count": 7,
   "metadata": {
    "colab": {
     "base_uri": "https://localhost:8080/",
     "height": 34
    },
    "colab_type": "code",
    "id": "eLvgM2toM312",
    "outputId": "4615d323-9b2c-4207-f1cd-fd270c43d985"
   },
   "outputs": [
    {
     "data": {
      "text/plain": [
       "Int64Index([0, 1, 2, 3, 4, 5, 6, 7], dtype='int64')"
      ]
     },
     "execution_count": 7,
     "metadata": {
      "tags": []
     },
     "output_type": "execute_result"
    }
   ],
   "source": [
    "data.columns"
   ]
  },
  {
   "cell_type": "markdown",
   "metadata": {
    "colab_type": "text",
    "id": "6yN7FSUhM32E"
   },
   "source": [
    "### column名の追加"
   ]
  },
  {
   "cell_type": "code",
   "execution_count": 0,
   "metadata": {
    "colab": {},
    "colab_type": "code",
    "id": "VbSX49J6M32G"
   },
   "outputs": [],
   "source": [
    "data.columns=['ID','TITLE','URL','PUBLISHER','CATEGORY','STORY','HOSTNAME','TIMESTAMP']"
   ]
  },
  {
   "cell_type": "code",
   "execution_count": 9,
   "metadata": {
    "colab": {
     "base_uri": "https://localhost:8080/",
     "height": 527
    },
    "colab_type": "code",
    "id": "uo9w76-4M32T",
    "outputId": "c2e351e4-cd42-42e4-ba9b-5a2616d6a7cf"
   },
   "outputs": [
    {
     "data": {
      "text/html": [
       "<div>\n",
       "<style scoped>\n",
       "    .dataframe tbody tr th:only-of-type {\n",
       "        vertical-align: middle;\n",
       "    }\n",
       "\n",
       "    .dataframe tbody tr th {\n",
       "        vertical-align: top;\n",
       "    }\n",
       "\n",
       "    .dataframe thead th {\n",
       "        text-align: right;\n",
       "    }\n",
       "</style>\n",
       "<table border=\"1\" class=\"dataframe\">\n",
       "  <thead>\n",
       "    <tr style=\"text-align: right;\">\n",
       "      <th></th>\n",
       "      <th>ID</th>\n",
       "      <th>TITLE</th>\n",
       "      <th>URL</th>\n",
       "      <th>PUBLISHER</th>\n",
       "      <th>CATEGORY</th>\n",
       "      <th>STORY</th>\n",
       "      <th>HOSTNAME</th>\n",
       "      <th>TIMESTAMP</th>\n",
       "    </tr>\n",
       "  </thead>\n",
       "  <tbody>\n",
       "    <tr>\n",
       "      <th>0</th>\n",
       "      <td>1</td>\n",
       "      <td>Fed official says weak data caused by weather,...</td>\n",
       "      <td>http://www.latimes.com/business/money/la-fi-mo...</td>\n",
       "      <td>Los Angeles Times</td>\n",
       "      <td>b</td>\n",
       "      <td>ddUyU0VZz0BRneMioxUPQVP6sIxvM</td>\n",
       "      <td>www.latimes.com</td>\n",
       "      <td>1394470370698</td>\n",
       "    </tr>\n",
       "    <tr>\n",
       "      <th>1</th>\n",
       "      <td>2</td>\n",
       "      <td>Fed's Charles Plosser sees high bar for change...</td>\n",
       "      <td>http://www.livemint.com/Politics/H2EvwJSK2VE6O...</td>\n",
       "      <td>Livemint</td>\n",
       "      <td>b</td>\n",
       "      <td>ddUyU0VZz0BRneMioxUPQVP6sIxvM</td>\n",
       "      <td>www.livemint.com</td>\n",
       "      <td>1394470371207</td>\n",
       "    </tr>\n",
       "    <tr>\n",
       "      <th>2</th>\n",
       "      <td>3</td>\n",
       "      <td>US open: Stocks fall after Fed official hints ...</td>\n",
       "      <td>http://www.ifamagazine.com/news/us-open-stocks...</td>\n",
       "      <td>IFA Magazine</td>\n",
       "      <td>b</td>\n",
       "      <td>ddUyU0VZz0BRneMioxUPQVP6sIxvM</td>\n",
       "      <td>www.ifamagazine.com</td>\n",
       "      <td>1394470371550</td>\n",
       "    </tr>\n",
       "    <tr>\n",
       "      <th>3</th>\n",
       "      <td>4</td>\n",
       "      <td>Fed risks falling 'behind the curve', Charles ...</td>\n",
       "      <td>http://www.ifamagazine.com/news/fed-risks-fall...</td>\n",
       "      <td>IFA Magazine</td>\n",
       "      <td>b</td>\n",
       "      <td>ddUyU0VZz0BRneMioxUPQVP6sIxvM</td>\n",
       "      <td>www.ifamagazine.com</td>\n",
       "      <td>1394470371793</td>\n",
       "    </tr>\n",
       "    <tr>\n",
       "      <th>4</th>\n",
       "      <td>5</td>\n",
       "      <td>Fed's Plosser: Nasty Weather Has Curbed Job Gr...</td>\n",
       "      <td>http://www.moneynews.com/Economy/federal-reser...</td>\n",
       "      <td>Moneynews</td>\n",
       "      <td>b</td>\n",
       "      <td>ddUyU0VZz0BRneMioxUPQVP6sIxvM</td>\n",
       "      <td>www.moneynews.com</td>\n",
       "      <td>1394470372027</td>\n",
       "    </tr>\n",
       "  </tbody>\n",
       "</table>\n",
       "</div>"
      ],
      "text/plain": [
       "   ID  ...      TIMESTAMP\n",
       "0   1  ...  1394470370698\n",
       "1   2  ...  1394470371207\n",
       "2   3  ...  1394470371550\n",
       "3   4  ...  1394470371793\n",
       "4   5  ...  1394470372027\n",
       "\n",
       "[5 rows x 8 columns]"
      ]
     },
     "execution_count": 9,
     "metadata": {
      "tags": []
     },
     "output_type": "execute_result"
    }
   ],
   "source": [
    "data.head()"
   ]
  },
  {
   "cell_type": "markdown",
   "metadata": {
    "colab_type": "text",
    "id": "OebSyxW5M32m"
   },
   "source": [
    "### 情報源の抽出"
   ]
  },
  {
   "cell_type": "code",
   "execution_count": 0,
   "metadata": {
    "colab": {},
    "colab_type": "code",
    "id": "V2Kd-RDoM32n"
   },
   "outputs": [],
   "source": [
    "publisher={'Reuters', 'Huffington Post', 'Businessweek', 'Contactmusic.com', 'Daily Mail'}"
   ]
  },
  {
   "cell_type": "code",
   "execution_count": 0,
   "metadata": {
    "colab": {},
    "colab_type": "code",
    "id": "OiiuYkYuM32s"
   },
   "outputs": [],
   "source": [
    "data = data[data['PUBLISHER'].isin(publisher)]"
   ]
  },
  {
   "cell_type": "code",
   "execution_count": 12,
   "metadata": {
    "colab": {
     "base_uri": "https://localhost:8080/",
     "height": 51
    },
    "colab_type": "code",
    "id": "owM0BqVRM32x",
    "outputId": "de6227c6-bd8f-40a4-e7ca-93df275439e9"
   },
   "outputs": [
    {
     "data": {
      "text/plain": [
       "array(['Reuters', 'Businessweek', 'Huffington Post', 'Daily Mail',\n",
       "       'Contactmusic.com'], dtype=object)"
      ]
     },
     "execution_count": 12,
     "metadata": {
      "tags": []
     },
     "output_type": "execute_result"
    }
   ],
   "source": [
    "data['PUBLISHER'].unique()"
   ]
  },
  {
   "cell_type": "markdown",
   "metadata": {
    "colab_type": "text",
    "id": "28MLRdrmM323"
   },
   "source": [
    "### ランダムな並び替え"
   ]
  },
  {
   "cell_type": "code",
   "execution_count": 0,
   "metadata": {
    "colab": {},
    "colab_type": "code",
    "id": "vcay7ruKM324"
   },
   "outputs": [],
   "source": [
    "data_shuffled = data.sample(frac=1, random_state=0)"
   ]
  },
  {
   "cell_type": "code",
   "execution_count": 14,
   "metadata": {
    "colab": {
     "base_uri": "https://localhost:8080/",
     "height": 615
    },
    "colab_type": "code",
    "id": "lqDa1xzTM32-",
    "outputId": "f0e325c0-2c3c-4b38-f9ec-d8c5f408d8dc"
   },
   "outputs": [
    {
     "data": {
      "text/html": [
       "<div>\n",
       "<style scoped>\n",
       "    .dataframe tbody tr th:only-of-type {\n",
       "        vertical-align: middle;\n",
       "    }\n",
       "\n",
       "    .dataframe tbody tr th {\n",
       "        vertical-align: top;\n",
       "    }\n",
       "\n",
       "    .dataframe thead th {\n",
       "        text-align: right;\n",
       "    }\n",
       "</style>\n",
       "<table border=\"1\" class=\"dataframe\">\n",
       "  <thead>\n",
       "    <tr style=\"text-align: right;\">\n",
       "      <th></th>\n",
       "      <th>ID</th>\n",
       "      <th>TITLE</th>\n",
       "      <th>URL</th>\n",
       "      <th>PUBLISHER</th>\n",
       "      <th>CATEGORY</th>\n",
       "      <th>STORY</th>\n",
       "      <th>HOSTNAME</th>\n",
       "      <th>TIMESTAMP</th>\n",
       "    </tr>\n",
       "  </thead>\n",
       "  <tbody>\n",
       "    <tr>\n",
       "      <th>310638</th>\n",
       "      <td>311098</td>\n",
       "      <td>RPT-Fitch Updates EMEA Consumer ABS Rating Cri...</td>\n",
       "      <td>http://in.reuters.com/article/2014/06/24/fitch...</td>\n",
       "      <td>Reuters</td>\n",
       "      <td>b</td>\n",
       "      <td>d3tIMfB2mg-9MZM4G_jGTEiRVl3jM</td>\n",
       "      <td>in.reuters.com</td>\n",
       "      <td>1403633888597</td>\n",
       "    </tr>\n",
       "    <tr>\n",
       "      <th>49197</th>\n",
       "      <td>49198</td>\n",
       "      <td>Gurlitt Wants to Return Nazi-Looted Art, Suedd...</td>\n",
       "      <td>http://www.businessweek.com/news/2014-03-26/gu...</td>\n",
       "      <td>Businessweek</td>\n",
       "      <td>e</td>\n",
       "      <td>dWeC4g3bvX-bI6MKAcxt43Jp7MzSM</td>\n",
       "      <td>www.businessweek.com</td>\n",
       "      <td>1395886231417</td>\n",
       "    </tr>\n",
       "    <tr>\n",
       "      <th>410059</th>\n",
       "      <td>410578</td>\n",
       "      <td>UPDATE 1-Fairfax Financial, CEO probed over po...</td>\n",
       "      <td>http://in.reuters.com/article/2014/08/01/fairf...</td>\n",
       "      <td>Reuters</td>\n",
       "      <td>b</td>\n",
       "      <td>d6s61cXf9rASExMO8inpkRujc9VTM</td>\n",
       "      <td>in.reuters.com</td>\n",
       "      <td>1406929609070</td>\n",
       "    </tr>\n",
       "    <tr>\n",
       "      <th>270222</th>\n",
       "      <td>270668</td>\n",
       "      <td>Angelina Jolie - Angelina Jolie Will Not Tight...</td>\n",
       "      <td>http://www.contactmusic.com/story/angelina-jol...</td>\n",
       "      <td>Contactmusic.com</td>\n",
       "      <td>e</td>\n",
       "      <td>d7SbUKanRaD34YMwE64lo09d_qCnM</td>\n",
       "      <td>www.contactmusic.com</td>\n",
       "      <td>1401828902205</td>\n",
       "    </tr>\n",
       "    <tr>\n",
       "      <th>301196</th>\n",
       "      <td>301656</td>\n",
       "      <td>Patent Officials Cancel the Washington Redskin...</td>\n",
       "      <td>http://www.businessweek.com/articles/2014-06-1...</td>\n",
       "      <td>Businessweek</td>\n",
       "      <td>b</td>\n",
       "      <td>dXVU3KhKpHSxleMNmc46pQj6e5zwM</td>\n",
       "      <td>www.businessweek.com</td>\n",
       "      <td>1403113194649</td>\n",
       "    </tr>\n",
       "  </tbody>\n",
       "</table>\n",
       "</div>"
      ],
      "text/plain": [
       "            ID  ...      TIMESTAMP\n",
       "310638  311098  ...  1403633888597\n",
       "49197    49198  ...  1395886231417\n",
       "410059  410578  ...  1406929609070\n",
       "270222  270668  ...  1401828902205\n",
       "301196  301656  ...  1403113194649\n",
       "\n",
       "[5 rows x 8 columns]"
      ]
     },
     "execution_count": 14,
     "metadata": {
      "tags": []
     },
     "output_type": "execute_result"
    }
   ],
   "source": [
    "data_shuffled.head()"
   ]
  },
  {
   "cell_type": "markdown",
   "metadata": {
    "colab_type": "text",
    "id": "bMUx4ZLPM33Y"
   },
   "source": [
    "### trainとtestにsplit"
   ]
  },
  {
   "cell_type": "code",
   "execution_count": 0,
   "metadata": {
    "colab": {},
    "colab_type": "code",
    "id": "7-baFSprM33a"
   },
   "outputs": [],
   "source": [
    "TRAIN_FILE=base_dir+\"/data/train.txt\"\n",
    "TEST_FILE=base_dir+\"/data/test.txt\""
   ]
  },
  {
   "cell_type": "code",
   "execution_count": 0,
   "metadata": {
    "colab": {},
    "colab_type": "code",
    "id": "u3OTcoLDM33f"
   },
   "outputs": [],
   "source": [
    "from sklearn.model_selection import train_test_split"
   ]
  },
  {
   "cell_type": "code",
   "execution_count": 0,
   "metadata": {
    "colab": {},
    "colab_type": "code",
    "id": "fukBJ4GVM33q"
   },
   "outputs": [],
   "source": [
    "train_data,test_data = train_test_split(data_shuffled,test_size=0.1)"
   ]
  },
  {
   "cell_type": "code",
   "execution_count": 0,
   "metadata": {
    "colab": {},
    "colab_type": "code",
    "id": "cjrE9pBsM33u"
   },
   "outputs": [],
   "source": [
    "#train_data.to_csv(TRAIN_FILE,sep=\"\\t\")\n",
    "#test_data.to_csv(TEST_FILE,sep=\"\\t\")"
   ]
  },
  {
   "cell_type": "code",
   "execution_count": 19,
   "metadata": {
    "colab": {
     "base_uri": "https://localhost:8080/",
     "height": 238
    },
    "colab_type": "code",
    "id": "8Xf57bxhM332",
    "outputId": "340fbea3-8526-47c6-d8cc-82281fa6fdc2"
   },
   "outputs": [
    {
     "name": "stdout",
     "output_type": "stream",
     "text": [
      "<class 'pandas.core.frame.DataFrame'>\n",
      "Int64Index: 12006 entries, 194066 to 404958\n",
      "Data columns (total 8 columns):\n",
      "ID           12006 non-null int64\n",
      "TITLE        12006 non-null object\n",
      "URL          12006 non-null object\n",
      "PUBLISHER    12006 non-null object\n",
      "CATEGORY     12006 non-null object\n",
      "STORY        12006 non-null object\n",
      "HOSTNAME     12006 non-null object\n",
      "TIMESTAMP    12006 non-null int64\n",
      "dtypes: int64(2), object(6)\n",
      "memory usage: 844.2+ KB\n"
     ]
    }
   ],
   "source": [
    "train_data.info()"
   ]
  },
  {
   "cell_type": "code",
   "execution_count": 20,
   "metadata": {
    "colab": {
     "base_uri": "https://localhost:8080/",
     "height": 238
    },
    "colab_type": "code",
    "id": "fwd9I43rM33-",
    "outputId": "6ed1cffe-bf89-411b-b46b-6aea8ac014f6"
   },
   "outputs": [
    {
     "name": "stdout",
     "output_type": "stream",
     "text": [
      "<class 'pandas.core.frame.DataFrame'>\n",
      "Int64Index: 1334 entries, 61060 to 276407\n",
      "Data columns (total 8 columns):\n",
      "ID           1334 non-null int64\n",
      "TITLE        1334 non-null object\n",
      "URL          1334 non-null object\n",
      "PUBLISHER    1334 non-null object\n",
      "CATEGORY     1334 non-null object\n",
      "STORY        1334 non-null object\n",
      "HOSTNAME     1334 non-null object\n",
      "TIMESTAMP    1334 non-null int64\n",
      "dtypes: int64(2), object(6)\n",
      "memory usage: 93.8+ KB\n"
     ]
    }
   ],
   "source": [
    "test_data.info()"
   ]
  },
  {
   "cell_type": "code",
   "execution_count": 21,
   "metadata": {
    "colab": {
     "base_uri": "https://localhost:8080/",
     "height": 170
    },
    "colab_type": "code",
    "id": "Mc6sE-xpM34E",
    "outputId": "98a16e91-9ed7-44d2-9260-cf5bb7440adc"
   },
   "outputs": [
    {
     "data": {
      "text/plain": [
       "ID           False\n",
       "TITLE        False\n",
       "URL          False\n",
       "PUBLISHER    False\n",
       "CATEGORY     False\n",
       "STORY        False\n",
       "HOSTNAME     False\n",
       "TIMESTAMP    False\n",
       "dtype: bool"
      ]
     },
     "execution_count": 21,
     "metadata": {
      "tags": []
     },
     "output_type": "execute_result"
    }
   ],
   "source": [
    "train_data.isnull().all()"
   ]
  },
  {
   "cell_type": "code",
   "execution_count": 22,
   "metadata": {
    "colab": {
     "base_uri": "https://localhost:8080/",
     "height": 170
    },
    "colab_type": "code",
    "id": "uzEmi4DpM34L",
    "outputId": "5504f15d-595c-4559-fbd9-b28da8b3a4ad"
   },
   "outputs": [
    {
     "data": {
      "text/plain": [
       "ID           False\n",
       "TITLE        False\n",
       "URL          False\n",
       "PUBLISHER    False\n",
       "CATEGORY     False\n",
       "STORY        False\n",
       "HOSTNAME     False\n",
       "TIMESTAMP    False\n",
       "dtype: bool"
      ]
     },
     "execution_count": 22,
     "metadata": {
      "tags": []
     },
     "output_type": "execute_result"
    }
   ],
   "source": [
    "test_data.isnull().all()"
   ]
  },
  {
   "cell_type": "code",
   "execution_count": 23,
   "metadata": {
    "colab": {
     "base_uri": "https://localhost:8080/",
     "height": 119
    },
    "colab_type": "code",
    "id": "WNLKIGAPhZYB",
    "outputId": "37bf64c4-efc0-44c9-80be-5bfd326d82b6"
   },
   "outputs": [
    {
     "data": {
      "text/plain": [
       "CATEGORY\n",
       "b    5065\n",
       "e    4763\n",
       "m     822\n",
       "t    1356\n",
       "Name: ID, dtype: int64"
      ]
     },
     "execution_count": 23,
     "metadata": {
      "tags": []
     },
     "output_type": "execute_result"
    }
   ],
   "source": [
    "category = train_data.groupby([\"CATEGORY\"]).count()[\"ID\"]\n",
    "category"
   ]
  },
  {
   "cell_type": "markdown",
   "metadata": {
    "code_folding": [],
    "colab_type": "text",
    "id": "ZeXEvjEEM34Q"
   },
   "source": [
    "# 51 特徴量抽出"
   ]
  },
  {
   "cell_type": "markdown",
   "metadata": {
    "colab_type": "text",
    "id": "kkF5kAQiM34R"
   },
   "source": [
    "使えそうなcolumn"
   ]
  },
  {
   "cell_type": "code",
   "execution_count": 0,
   "metadata": {
    "colab": {},
    "colab_type": "code",
    "id": "wIOvJnVRM34R"
   },
   "outputs": [],
   "source": [
    "features=[\"TITLE\",\"HOSTNAME\"]"
   ]
  },
  {
   "cell_type": "code",
   "execution_count": 0,
   "metadata": {
    "colab": {},
    "colab_type": "code",
    "id": "MI7vAGogM34V"
   },
   "outputs": [],
   "source": [
    "train_target = train_data[\"CATEGORY\"]\n",
    "train_feature = train_data[features]"
   ]
  },
  {
   "cell_type": "code",
   "execution_count": 26,
   "metadata": {
    "colab": {
     "base_uri": "https://localhost:8080/",
     "height": 34
    },
    "colab_type": "code",
    "id": "5ROCjrKdM34Y",
    "outputId": "3374c6f7-baa4-4352-83e0-ec4504ea3ef3"
   },
   "outputs": [
    {
     "data": {
      "text/plain": [
       "array(['e', 'b', 'm', 't'], dtype=object)"
      ]
     },
     "execution_count": 26,
     "metadata": {
      "tags": []
     },
     "output_type": "execute_result"
    }
   ],
   "source": [
    "train_target.unique() # categoryは4種類"
   ]
  },
  {
   "cell_type": "code",
   "execution_count": 27,
   "metadata": {
    "colab": {
     "base_uri": "https://localhost:8080/",
     "height": 68
    },
    "colab_type": "code",
    "id": "HQ4KRre9M34e",
    "outputId": "fadeb20f-ac1b-47fa-82f6-9f2b537163d3"
   },
   "outputs": [
    {
     "data": {
      "text/plain": [
       "array(['www.contactmusic.com', 'www.reuters.com', 'in.reuters.com',\n",
       "       'www.businessweek.com', 'www.huffingtonpost.com',\n",
       "       'www.dailymail.co.uk'], dtype=object)"
      ]
     },
     "execution_count": 27,
     "metadata": {
      "tags": []
     },
     "output_type": "execute_result"
    }
   ],
   "source": [
    "train_feature[\"HOSTNAME\"].unique()"
   ]
  },
  {
   "cell_type": "markdown",
   "metadata": {
    "colab_type": "text",
    "id": "Ecw8sSBaM348"
   },
   "source": [
    "## 出版社ごとのカテゴリ"
   ]
  },
  {
   "cell_type": "code",
   "execution_count": 0,
   "metadata": {
    "colab": {},
    "colab_type": "code",
    "id": "9YyCiRNUM349"
   },
   "outputs": [],
   "source": [
    "category_publisher_data = train_data[['PUBLISHER','CATEGORY',\"ID\"]]\n",
    "category_count = category_publisher_data.groupby([\"CATEGORY\",\"PUBLISHER\"]).count()"
   ]
  },
  {
   "cell_type": "code",
   "execution_count": 29,
   "metadata": {
    "colab": {
     "base_uri": "https://localhost:8080/",
     "height": 700
    },
    "colab_type": "code",
    "id": "rWo02n6TM35A",
    "outputId": "4aa6697e-3b45-4205-c5ed-79993c38b0a0"
   },
   "outputs": [
    {
     "data": {
      "text/html": [
       "<div>\n",
       "<style scoped>\n",
       "    .dataframe tbody tr th:only-of-type {\n",
       "        vertical-align: middle;\n",
       "    }\n",
       "\n",
       "    .dataframe tbody tr th {\n",
       "        vertical-align: top;\n",
       "    }\n",
       "\n",
       "    .dataframe thead th {\n",
       "        text-align: right;\n",
       "    }\n",
       "</style>\n",
       "<table border=\"1\" class=\"dataframe\">\n",
       "  <thead>\n",
       "    <tr style=\"text-align: right;\">\n",
       "      <th></th>\n",
       "      <th></th>\n",
       "      <th>ID</th>\n",
       "    </tr>\n",
       "    <tr>\n",
       "      <th>CATEGORY</th>\n",
       "      <th>PUBLISHER</th>\n",
       "      <th></th>\n",
       "    </tr>\n",
       "  </thead>\n",
       "  <tbody>\n",
       "    <tr>\n",
       "      <th rowspan=\"5\" valign=\"top\">b</th>\n",
       "      <th>Businessweek</th>\n",
       "      <td>1649</td>\n",
       "    </tr>\n",
       "    <tr>\n",
       "      <th>Contactmusic.com</th>\n",
       "      <td>2</td>\n",
       "    </tr>\n",
       "    <tr>\n",
       "      <th>Daily Mail</th>\n",
       "      <td>186</td>\n",
       "    </tr>\n",
       "    <tr>\n",
       "      <th>Huffington Post</th>\n",
       "      <td>385</td>\n",
       "    </tr>\n",
       "    <tr>\n",
       "      <th>Reuters</th>\n",
       "      <td>2843</td>\n",
       "    </tr>\n",
       "    <tr>\n",
       "      <th rowspan=\"5\" valign=\"top\">e</th>\n",
       "      <th>Businessweek</th>\n",
       "      <td>78</td>\n",
       "    </tr>\n",
       "    <tr>\n",
       "      <th>Contactmusic.com</th>\n",
       "      <td>2087</td>\n",
       "    </tr>\n",
       "    <tr>\n",
       "      <th>Daily Mail</th>\n",
       "      <td>1323</td>\n",
       "    </tr>\n",
       "    <tr>\n",
       "      <th>Huffington Post</th>\n",
       "      <td>1113</td>\n",
       "    </tr>\n",
       "    <tr>\n",
       "      <th>Reuters</th>\n",
       "      <td>162</td>\n",
       "    </tr>\n",
       "    <tr>\n",
       "      <th rowspan=\"5\" valign=\"top\">m</th>\n",
       "      <th>Businessweek</th>\n",
       "      <td>118</td>\n",
       "    </tr>\n",
       "    <tr>\n",
       "      <th>Contactmusic.com</th>\n",
       "      <td>10</td>\n",
       "    </tr>\n",
       "    <tr>\n",
       "      <th>Daily Mail</th>\n",
       "      <td>229</td>\n",
       "    </tr>\n",
       "    <tr>\n",
       "      <th>Huffington Post</th>\n",
       "      <td>296</td>\n",
       "    </tr>\n",
       "    <tr>\n",
       "      <th>Reuters</th>\n",
       "      <td>169</td>\n",
       "    </tr>\n",
       "    <tr>\n",
       "      <th rowspan=\"5\" valign=\"top\">t</th>\n",
       "      <th>Businessweek</th>\n",
       "      <td>311</td>\n",
       "    </tr>\n",
       "    <tr>\n",
       "      <th>Contactmusic.com</th>\n",
       "      <td>10</td>\n",
       "    </tr>\n",
       "    <tr>\n",
       "      <th>Daily Mail</th>\n",
       "      <td>285</td>\n",
       "    </tr>\n",
       "    <tr>\n",
       "      <th>Huffington Post</th>\n",
       "      <td>406</td>\n",
       "    </tr>\n",
       "    <tr>\n",
       "      <th>Reuters</th>\n",
       "      <td>344</td>\n",
       "    </tr>\n",
       "  </tbody>\n",
       "</table>\n",
       "</div>"
      ],
      "text/plain": [
       "                             ID\n",
       "CATEGORY PUBLISHER             \n",
       "b        Businessweek      1649\n",
       "         Contactmusic.com     2\n",
       "         Daily Mail         186\n",
       "         Huffington Post    385\n",
       "         Reuters           2843\n",
       "e        Businessweek        78\n",
       "         Contactmusic.com  2087\n",
       "         Daily Mail        1323\n",
       "         Huffington Post   1113\n",
       "         Reuters            162\n",
       "m        Businessweek       118\n",
       "         Contactmusic.com    10\n",
       "         Daily Mail         229\n",
       "         Huffington Post    296\n",
       "         Reuters            169\n",
       "t        Businessweek       311\n",
       "         Contactmusic.com    10\n",
       "         Daily Mail         285\n",
       "         Huffington Post    406\n",
       "         Reuters            344"
      ]
     },
     "execution_count": 29,
     "metadata": {
      "tags": []
     },
     "output_type": "execute_result"
    }
   ],
   "source": [
    "category_count"
   ]
  },
  {
   "cell_type": "code",
   "execution_count": 30,
   "metadata": {
    "colab": {
     "base_uri": "https://localhost:8080/",
     "height": 382
    },
    "colab_type": "code",
    "id": "8mdVanUZM35E",
    "outputId": "b13baa9b-7335-4501-efe8-e9819a536b8f"
   },
   "outputs": [
    {
     "data": {
      "text/plain": [
       "<matplotlib.axes._subplots.AxesSubplot at 0x7fc245bba3c8>"
      ]
     },
     "execution_count": 30,
     "metadata": {
      "tags": []
     },
     "output_type": "execute_result"
    },
    {
     "data": {
      "image/png": "[encoded data removed]",
      "text/plain": [
       "<Figure size 432x288 with 1 Axes>"
      ]
     },
     "metadata": {
      "tags": []
     },
     "output_type": "display_data"
    }
   ],
   "source": [
    "category_count.unstack(level=0).plot(kind='bar')"
   ]
  },
  {
   "cell_type": "markdown",
   "metadata": {
    "colab_type": "text",
    "id": "0eQHhcXyM35L"
   },
   "source": [
    "## 使う特徴量\n",
    "* Title\n",
    "* HOSTNAME(ロイターに二種類あるから)"
   ]
  },
  {
   "cell_type": "code",
   "execution_count": 0,
   "metadata": {
    "colab": {},
    "colab_type": "code",
    "id": "mBpMqNfFM35M"
   },
   "outputs": [],
   "source": [
    "features=[\"TITLE\",\"HOSTNAME\"]"
   ]
  },
  {
   "cell_type": "code",
   "execution_count": 0,
   "metadata": {
    "colab": {},
    "colab_type": "code",
    "id": "v6oly8P5M35R"
   },
   "outputs": [],
   "source": [
    "train_feature = train_data[features]"
   ]
  },
  {
   "cell_type": "code",
   "execution_count": 0,
   "metadata": {
    "colab": {},
    "colab_type": "code",
    "id": "VKQKelatM35U"
   },
   "outputs": [],
   "source": [
    "train_target = train_data[\"CATEGORY\"]"
   ]
  },
  {
   "cell_type": "markdown",
   "metadata": {
    "colab_type": "text",
    "id": "Wm3mIe5AM35Z"
   },
   "source": [
    "### PUBLISHER\n",
    "* publisherをdummy変数にする"
   ]
  },
  {
   "cell_type": "markdown",
   "metadata": {
    "colab_type": "text",
    "id": "POx6GipvM35e"
   },
   "source": [
    "### HOSTNAME"
   ]
  },
  {
   "cell_type": "code",
   "execution_count": 0,
   "metadata": {
    "colab": {},
    "colab_type": "code",
    "id": "EjXy3RJmM35f"
   },
   "outputs": [],
   "source": [
    "def dummy_hostname(df):\n",
    "    ret_df = pd.get_dummies(df,columns=['HOSTNAME'])\n",
    "    return ret_df"
   ]
  },
  {
   "cell_type": "markdown",
   "metadata": {
    "colab_type": "text",
    "id": "q65z22KPM35k"
   },
   "source": [
    "### TITLE"
   ]
  },
  {
   "cell_type": "code",
   "execution_count": 0,
   "metadata": {
    "colab": {},
    "colab_type": "code",
    "id": "1-NeEM9tM35n"
   },
   "outputs": [],
   "source": [
    "def remove_num(s):\n",
    "    return re.sub(r'\\d+','',s)"
   ]
  },
  {
   "cell_type": "code",
   "execution_count": 36,
   "metadata": {
    "colab": {
     "base_uri": "https://localhost:8080/",
     "height": 34
    },
    "colab_type": "code",
    "id": "vFDuzVRCM35s",
    "outputId": "93101625-38f5-4dcb-c968-f2b22e052330"
   },
   "outputs": [
    {
     "data": {
      "text/plain": [
       "'highlights from the  costume institute gal...'"
      ]
     },
     "execution_count": 36,
     "metadata": {
      "tags": []
     },
     "output_type": "execute_result"
    }
   ],
   "source": [
    "remove_num('highlights from the 2014 costume institute gal...')"
   ]
  },
  {
   "cell_type": "code",
   "execution_count": 0,
   "metadata": {
    "colab": {},
    "colab_type": "code",
    "id": "7VsC0BTHM35y"
   },
   "outputs": [],
   "source": [
    "import string\n",
    "def remove_punc(s):\n",
    "    punct = [',', '.', '\"', ':', ')', '(', '-', '!', '?', '|', ';', \"'\", '$', '&', '/', '[', ']',\n",
    "          '>', '%', '=', '#', '*', '+', '\\\\', '•', '~', '@', '£', '·', '_', '{', '}', '©', '^','\\n'\n",
    "          '®', '`', '<', '→', '°', '€', '™', '›', '♥', '←', '×', '§', '″', '′', 'Â', '█',\n",
    "          '½', 'à', '…', '“', '★', '”', '–', '●', 'â', '►', '−', '¢', '²', '¬', '░', '¶',\n",
    "          '↑', '±', '¿', '▾', '═', '¦', '║', '―', '¥', '▓', '—', '‹', '─', '▒', '：', '¼',\n",
    "          '⊕', '▼', '▪', '†', '■', '’', '▀', '¨', '▄', '♫', '☆', 'é', '¯', '♦', '¤', '▲',\n",
    "          'è', '¸', '¾', 'Ã', '⋅', '‘', '∞', '∙', '）', '↓', '、', '│', '（', '»', '，', '♪',\n",
    "          '╩', '╚', '³', '・', '╦', '╣', '╔', '╗', '▬', '❤', 'ï', 'Ø', '¹', '≤', '‡', '√']\n",
    "    \n",
    "    for p in punct:\n",
    "        s = s.replace(p,\"\")\n",
    "    return s"
   ]
  },
  {
   "cell_type": "code",
   "execution_count": 38,
   "metadata": {
    "colab": {
     "base_uri": "https://localhost:8080/",
     "height": 51
    },
    "colab_type": "code",
    "id": "DkddJ7TBM36L",
    "outputId": "3a4f08ab-559c-4ab1-a9c2-25a2494deb65"
   },
   "outputs": [
    {
     "name": "stdout",
     "output_type": "stream",
     "text": [
      "[nltk_data] Downloading package stopwords to /root/nltk_data...\n",
      "[nltk_data]   Unzipping corpora/stopwords.zip.\n"
     ]
    }
   ],
   "source": [
    "import nltk\n",
    "from nltk.corpus import stopwords\n",
    "nltk.download('stopwords')\n",
    "stopWords = stopwords.words('english')\n",
    "stop_words = stopwords.words('english')"
   ]
  },
  {
   "cell_type": "code",
   "execution_count": 0,
   "metadata": {
    "colab": {},
    "colab_type": "code",
    "id": "wHYp3SoMM36P"
   },
   "outputs": [],
   "source": [
    "def remove_stop_word(s)->list:\n",
    "        ret=[c for c in s.split(\" \") if c and  not c in stop_words ]\n",
    "        return \" \".join(ret)"
   ]
  },
  {
   "cell_type": "code",
   "execution_count": 0,
   "metadata": {
    "colab": {},
    "colab_type": "code",
    "id": "ADmv49RXM36U"
   },
   "outputs": [],
   "source": [
    "def stem_word(s_l):\n",
    "    ps = PS()\n",
    "    return \" \".join([ps.stem(word) for word in s_l.split(\" \")])"
   ]
  },
  {
   "cell_type": "code",
   "execution_count": 0,
   "metadata": {
    "colab": {},
    "colab_type": "code",
    "id": "QtGAmIOqM36a"
   },
   "outputs": [],
   "source": [
    "def preprocess_str(s):\n",
    "    s = remove_num(s)\n",
    "    s = remove_punc(s)\n",
    "    s = s.lower()\n",
    "    s = remove_stop_word(s)\n",
    "    s = stem_word(s)\n",
    "    return s"
   ]
  },
  {
   "cell_type": "code",
   "execution_count": 0,
   "metadata": {
    "colab": {},
    "colab_type": "code",
    "id": "BtxKQCL0M36f"
   },
   "outputs": [],
   "source": [
    "def preprocess_title(df):\n",
    "    df[\"TITLE\"] = df[\"TITLE\"].apply(preprocess_str)\n",
    "    return df"
   ]
  },
  {
   "cell_type": "code",
   "execution_count": 0,
   "metadata": {
    "colab": {},
    "colab_type": "code",
    "id": "G42pqUv1M36h"
   },
   "outputs": [],
   "source": [
    "def add_len_col(df):\n",
    "    df['LEN'] = df['TITLE'].apply(len)\n",
    "    return df"
   ]
  },
  {
   "cell_type": "markdown",
   "metadata": {
    "colab_type": "text",
    "id": "ltN0jCB2M36i"
   },
   "source": [
    "## PreProcessing to train data"
   ]
  },
  {
   "cell_type": "code",
   "execution_count": 0,
   "metadata": {
    "colab": {},
    "colab_type": "code",
    "id": "_q91LuXYM36j"
   },
   "outputs": [],
   "source": [
    "train_feature = dummy_hostname(train_feature)"
   ]
  },
  {
   "cell_type": "code",
   "execution_count": 0,
   "metadata": {
    "colab": {},
    "colab_type": "code",
    "id": "R9R6e9klM36n"
   },
   "outputs": [],
   "source": [
    "train_feature = preprocess_title(train_feature)"
   ]
  },
  {
   "cell_type": "code",
   "execution_count": 46,
   "metadata": {
    "colab": {
     "base_uri": "https://localhost:8080/",
     "height": 598
    },
    "colab_type": "code",
    "id": "lehLmHEVM37F",
    "outputId": "d5f24be5-de62-4b6f-80d9-b92ee7f731b3"
   },
   "outputs": [
    {
     "data": {
      "text/html": [
       "<div>\n",
       "<style scoped>\n",
       "    .dataframe tbody tr th:only-of-type {\n",
       "        vertical-align: middle;\n",
       "    }\n",
       "\n",
       "    .dataframe tbody tr th {\n",
       "        vertical-align: top;\n",
       "    }\n",
       "\n",
       "    .dataframe thead th {\n",
       "        text-align: right;\n",
       "    }\n",
       "</style>\n",
       "<table border=\"1\" class=\"dataframe\">\n",
       "  <thead>\n",
       "    <tr style=\"text-align: right;\">\n",
       "      <th></th>\n",
       "      <th>TITLE</th>\n",
       "      <th>HOSTNAME_in.reuters.com</th>\n",
       "      <th>HOSTNAME_www.businessweek.com</th>\n",
       "      <th>HOSTNAME_www.contactmusic.com</th>\n",
       "      <th>HOSTNAME_www.dailymail.co.uk</th>\n",
       "      <th>HOSTNAME_www.huffingtonpost.com</th>\n",
       "      <th>HOSTNAME_www.reuters.com</th>\n",
       "    </tr>\n",
       "  </thead>\n",
       "  <tbody>\n",
       "    <tr>\n",
       "      <th>194066</th>\n",
       "      <td>kim kardashian kim kardashian narrow wed gown</td>\n",
       "      <td>0</td>\n",
       "      <td>0</td>\n",
       "      <td>1</td>\n",
       "      <td>0</td>\n",
       "      <td>0</td>\n",
       "      <td>0</td>\n",
       "    </tr>\n",
       "    <tr>\n",
       "      <th>192302</th>\n",
       "      <td>updat emir profit soar higher sale cheaper fuel</td>\n",
       "      <td>0</td>\n",
       "      <td>0</td>\n",
       "      <td>0</td>\n",
       "      <td>0</td>\n",
       "      <td>0</td>\n",
       "      <td>1</td>\n",
       "    </tr>\n",
       "    <tr>\n",
       "      <th>11517</th>\n",
       "      <td>rooney mara cast tiger lili peter pan origin m...</td>\n",
       "      <td>0</td>\n",
       "      <td>0</td>\n",
       "      <td>1</td>\n",
       "      <td>0</td>\n",
       "      <td>0</td>\n",
       "      <td>0</td>\n",
       "    </tr>\n",
       "    <tr>\n",
       "      <th>22752</th>\n",
       "      <td>mick jagger issu singl statement regard lover ...</td>\n",
       "      <td>0</td>\n",
       "      <td>0</td>\n",
       "      <td>1</td>\n",
       "      <td>0</td>\n",
       "      <td>0</td>\n",
       "      <td>0</td>\n",
       "    </tr>\n",
       "    <tr>\n",
       "      <th>201797</th>\n",
       "      <td>kim kardashian kany west yet sign prenup</td>\n",
       "      <td>0</td>\n",
       "      <td>0</td>\n",
       "      <td>1</td>\n",
       "      <td>0</td>\n",
       "      <td>0</td>\n",
       "      <td>0</td>\n",
       "    </tr>\n",
       "  </tbody>\n",
       "</table>\n",
       "</div>"
      ],
      "text/plain": [
       "                                                    TITLE  ...  HOSTNAME_www.reuters.com\n",
       "194066      kim kardashian kim kardashian narrow wed gown  ...                         0\n",
       "192302    updat emir profit soar higher sale cheaper fuel  ...                         1\n",
       "11517   rooney mara cast tiger lili peter pan origin m...  ...                         0\n",
       "22752   mick jagger issu singl statement regard lover ...  ...                         0\n",
       "201797           kim kardashian kany west yet sign prenup  ...                         0\n",
       "\n",
       "[5 rows x 7 columns]"
      ]
     },
     "execution_count": 46,
     "metadata": {
      "tags": []
     },
     "output_type": "execute_result"
    }
   ],
   "source": [
    "train_feature.head()"
   ]
  },
  {
   "cell_type": "markdown",
   "metadata": {
    "colab_type": "text",
    "id": "mm-GHnfoM37U"
   },
   "source": [
    "# tf_idf の高い語を特徴量に"
   ]
  },
  {
   "cell_type": "code",
   "execution_count": 0,
   "metadata": {
    "colab": {},
    "colab_type": "code",
    "id": "vrWZaA3MM37V"
   },
   "outputs": [],
   "source": [
    "count = CountVectorizer()\n",
    "bag = count.fit_transform(train_feature[\"TITLE\"])"
   ]
  },
  {
   "cell_type": "code",
   "execution_count": 0,
   "metadata": {
    "colab": {},
    "colab_type": "code",
    "id": "6Tw97oTkM37Y"
   },
   "outputs": [],
   "source": [
    "# tfidfの設定\n",
    "tfidf = TfidfTransformer(use_idf=True, norm='l2', smooth_idf=True)\n",
    "# 小数点第4位まで表示する．\n",
    "np.set_printoptions(precision=4)\n",
    "cnt_voc = count.vocabulary_\n",
    "tfidf_array = np.array(tfidf.fit_transform(bag).toarray())\n",
    "\n",
    "# ベクトルと単語を対応づけるために必要な処理．\n",
    "vec = DictVectorizer()\n",
    "vec.fit_transform(cnt_voc).toarray()\n",
    "feature = vec.get_feature_names()"
   ]
  },
  {
   "cell_type": "code",
   "execution_count": 0,
   "metadata": {
    "colab": {},
    "colab_type": "code",
    "id": "YeJw7W7KM37b"
   },
   "outputs": [],
   "source": [
    "# tfidfの閾値の設定\n",
    "threshold = 0.5\n",
    "hairetsu = np.where(tfidf_array >= threshold)\n",
    "# np.uniqueで重複する値を削除する．\n",
    "# なぜかnp.whereだと二つの配列が返ってくるので，連結して一つにする．\n",
    "hit_word = np.unique(np.append(hairetsu[0], hairetsu[1]))\n",
    "\n",
    "# tfidfで計算された単語を出力する．\n",
    "key_word=[]\n",
    "for c in hit_word:\n",
    "    if len(feature)>c:\n",
    "        key_word.append(feature[c])\n"
   ]
  },
  {
   "cell_type": "code",
   "execution_count": 0,
   "metadata": {
    "colab": {},
    "colab_type": "code",
    "id": "dBhwHYazM37x"
   },
   "outputs": [],
   "source": [
    "for w in key_word:\n",
    "    train_feature[w]=  train_feature['TITLE'].map(lambda x:1 if w in x.split(\" \") else 0)"
   ]
  },
  {
   "cell_type": "code",
   "execution_count": 51,
   "metadata": {
    "colab": {
     "base_uri": "https://localhost:8080/",
     "height": 627
    },
    "colab_type": "code",
    "id": "NzhjXelmM38C",
    "outputId": "a4e974e5-9faf-4f83-9cfd-18e2ec156732"
   },
   "outputs": [
    {
     "data": {
      "text/html": [
       "<div>\n",
       "<style scoped>\n",
       "    .dataframe tbody tr th:only-of-type {\n",
       "        vertical-align: middle;\n",
       "    }\n",
       "\n",
       "    .dataframe tbody tr th {\n",
       "        vertical-align: top;\n",
       "    }\n",
       "\n",
       "    .dataframe thead th {\n",
       "        text-align: right;\n",
       "    }\n",
       "</style>\n",
       "<table border=\"1\" class=\"dataframe\">\n",
       "  <thead>\n",
       "    <tr style=\"text-align: right;\">\n",
       "      <th></th>\n",
       "      <th>TITLE</th>\n",
       "      <th>HOSTNAME_in.reuters.com</th>\n",
       "      <th>HOSTNAME_www.businessweek.com</th>\n",
       "      <th>HOSTNAME_www.contactmusic.com</th>\n",
       "      <th>HOSTNAME_www.dailymail.co.uk</th>\n",
       "      <th>HOSTNAME_www.huffingtonpost.com</th>\n",
       "      <th>HOSTNAME_www.reuters.com</th>\n",
       "      <th>aa</th>\n",
       "      <th>aaliyah</th>\n",
       "      <th>aatha</th>\n",
       "      <th>ab</th>\n",
       "      <th>abandon</th>\n",
       "      <th>abbvi</th>\n",
       "      <th>abbvieshir</th>\n",
       "      <th>abdi</th>\n",
       "      <th>abdullah</th>\n",
       "      <th>abe</th>\n",
       "      <th>abercrombi</th>\n",
       "      <th>abil</th>\n",
       "      <th>abl</th>\n",
       "      <th>aboard</th>\n",
       "      <th>abram</th>\n",
       "      <th>abroad</th>\n",
       "      <th>absenc</th>\n",
       "      <th>abu</th>\n",
       "      <th>abus</th>\n",
       "      <th>abyss</th>\n",
       "      <th>acb</th>\n",
       "      <th>acceler</th>\n",
       "      <th>accentu</th>\n",
       "      <th>access</th>\n",
       "      <th>accommod</th>\n",
       "      <th>accord</th>\n",
       "      <th>account</th>\n",
       "      <th>acdc</th>\n",
       "      <th>acid</th>\n",
       "      <th>ackman</th>\n",
       "      <th>acl</th>\n",
       "      <th>acm</th>\n",
       "      <th>acquisit</th>\n",
       "      <th>...</th>\n",
       "      <th>yeah</th>\n",
       "      <th>year</th>\n",
       "      <th>yearago</th>\n",
       "      <th>yearend</th>\n",
       "      <th>yearonyear</th>\n",
       "      <th>yellen</th>\n",
       "      <th>yelp</th>\n",
       "      <th>yoga</th>\n",
       "      <th>york</th>\n",
       "      <th>young</th>\n",
       "      <th>your</th>\n",
       "      <th>youth</th>\n",
       "      <th>youv</th>\n",
       "      <th>yovanna</th>\n",
       "      <th>yr</th>\n",
       "      <th>yryr</th>\n",
       "      <th>yuan</th>\n",
       "      <th>yuppi</th>\n",
       "      <th>yy</th>\n",
       "      <th>zac</th>\n",
       "      <th>zach</th>\n",
       "      <th>zaki</th>\n",
       "      <th>zamperini</th>\n",
       "      <th>zap</th>\n",
       "      <th>zayn</th>\n",
       "      <th>zebra</th>\n",
       "      <th>zendaya</th>\n",
       "      <th>zeppelin</th>\n",
       "      <th>zero</th>\n",
       "      <th>zeu</th>\n",
       "      <th>zew</th>\n",
       "      <th>zier</th>\n",
       "      <th>zillow</th>\n",
       "      <th>zimmerman</th>\n",
       "      <th>zion</th>\n",
       "      <th>zip</th>\n",
       "      <th>zoe</th>\n",
       "      <th>zooey</th>\n",
       "      <th>zoosk</th>\n",
       "      <th>zuckerberg</th>\n",
       "    </tr>\n",
       "  </thead>\n",
       "  <tbody>\n",
       "    <tr>\n",
       "      <th>194066</th>\n",
       "      <td>kim kardashian kim kardashian narrow wed gown</td>\n",
       "      <td>0</td>\n",
       "      <td>0</td>\n",
       "      <td>1</td>\n",
       "      <td>0</td>\n",
       "      <td>0</td>\n",
       "      <td>0</td>\n",
       "      <td>0</td>\n",
       "      <td>0</td>\n",
       "      <td>0</td>\n",
       "      <td>0</td>\n",
       "      <td>0</td>\n",
       "      <td>0</td>\n",
       "      <td>0</td>\n",
       "      <td>0</td>\n",
       "      <td>0</td>\n",
       "      <td>0</td>\n",
       "      <td>0</td>\n",
       "      <td>0</td>\n",
       "      <td>0</td>\n",
       "      <td>0</td>\n",
       "      <td>0</td>\n",
       "      <td>0</td>\n",
       "      <td>0</td>\n",
       "      <td>0</td>\n",
       "      <td>0</td>\n",
       "      <td>0</td>\n",
       "      <td>0</td>\n",
       "      <td>0</td>\n",
       "      <td>0</td>\n",
       "      <td>0</td>\n",
       "      <td>0</td>\n",
       "      <td>0</td>\n",
       "      <td>0</td>\n",
       "      <td>0</td>\n",
       "      <td>0</td>\n",
       "      <td>0</td>\n",
       "      <td>0</td>\n",
       "      <td>0</td>\n",
       "      <td>0</td>\n",
       "      <td>...</td>\n",
       "      <td>0</td>\n",
       "      <td>0</td>\n",
       "      <td>0</td>\n",
       "      <td>0</td>\n",
       "      <td>0</td>\n",
       "      <td>0</td>\n",
       "      <td>0</td>\n",
       "      <td>0</td>\n",
       "      <td>0</td>\n",
       "      <td>0</td>\n",
       "      <td>0</td>\n",
       "      <td>0</td>\n",
       "      <td>0</td>\n",
       "      <td>0</td>\n",
       "      <td>0</td>\n",
       "      <td>0</td>\n",
       "      <td>0</td>\n",
       "      <td>0</td>\n",
       "      <td>0</td>\n",
       "      <td>0</td>\n",
       "      <td>0</td>\n",
       "      <td>0</td>\n",
       "      <td>0</td>\n",
       "      <td>0</td>\n",
       "      <td>0</td>\n",
       "      <td>0</td>\n",
       "      <td>0</td>\n",
       "      <td>0</td>\n",
       "      <td>0</td>\n",
       "      <td>0</td>\n",
       "      <td>0</td>\n",
       "      <td>0</td>\n",
       "      <td>0</td>\n",
       "      <td>0</td>\n",
       "      <td>0</td>\n",
       "      <td>0</td>\n",
       "      <td>0</td>\n",
       "      <td>0</td>\n",
       "      <td>0</td>\n",
       "      <td>0</td>\n",
       "    </tr>\n",
       "    <tr>\n",
       "      <th>192302</th>\n",
       "      <td>updat emir profit soar higher sale cheaper fuel</td>\n",
       "      <td>0</td>\n",
       "      <td>0</td>\n",
       "      <td>0</td>\n",
       "      <td>0</td>\n",
       "      <td>0</td>\n",
       "      <td>1</td>\n",
       "      <td>0</td>\n",
       "      <td>0</td>\n",
       "      <td>0</td>\n",
       "      <td>0</td>\n",
       "      <td>0</td>\n",
       "      <td>0</td>\n",
       "      <td>0</td>\n",
       "      <td>0</td>\n",
       "      <td>0</td>\n",
       "      <td>0</td>\n",
       "      <td>0</td>\n",
       "      <td>0</td>\n",
       "      <td>0</td>\n",
       "      <td>0</td>\n",
       "      <td>0</td>\n",
       "      <td>0</td>\n",
       "      <td>0</td>\n",
       "      <td>0</td>\n",
       "      <td>0</td>\n",
       "      <td>0</td>\n",
       "      <td>0</td>\n",
       "      <td>0</td>\n",
       "      <td>0</td>\n",
       "      <td>0</td>\n",
       "      <td>0</td>\n",
       "      <td>0</td>\n",
       "      <td>0</td>\n",
       "      <td>0</td>\n",
       "      <td>0</td>\n",
       "      <td>0</td>\n",
       "      <td>0</td>\n",
       "      <td>0</td>\n",
       "      <td>0</td>\n",
       "      <td>...</td>\n",
       "      <td>0</td>\n",
       "      <td>0</td>\n",
       "      <td>0</td>\n",
       "      <td>0</td>\n",
       "      <td>0</td>\n",
       "      <td>0</td>\n",
       "      <td>0</td>\n",
       "      <td>0</td>\n",
       "      <td>0</td>\n",
       "      <td>0</td>\n",
       "      <td>0</td>\n",
       "      <td>0</td>\n",
       "      <td>0</td>\n",
       "      <td>0</td>\n",
       "      <td>0</td>\n",
       "      <td>0</td>\n",
       "      <td>0</td>\n",
       "      <td>0</td>\n",
       "      <td>0</td>\n",
       "      <td>0</td>\n",
       "      <td>0</td>\n",
       "      <td>0</td>\n",
       "      <td>0</td>\n",
       "      <td>0</td>\n",
       "      <td>0</td>\n",
       "      <td>0</td>\n",
       "      <td>0</td>\n",
       "      <td>0</td>\n",
       "      <td>0</td>\n",
       "      <td>0</td>\n",
       "      <td>0</td>\n",
       "      <td>0</td>\n",
       "      <td>0</td>\n",
       "      <td>0</td>\n",
       "      <td>0</td>\n",
       "      <td>0</td>\n",
       "      <td>0</td>\n",
       "      <td>0</td>\n",
       "      <td>0</td>\n",
       "      <td>0</td>\n",
       "    </tr>\n",
       "    <tr>\n",
       "      <th>11517</th>\n",
       "      <td>rooney mara cast tiger lili peter pan origin m...</td>\n",
       "      <td>0</td>\n",
       "      <td>0</td>\n",
       "      <td>1</td>\n",
       "      <td>0</td>\n",
       "      <td>0</td>\n",
       "      <td>0</td>\n",
       "      <td>0</td>\n",
       "      <td>0</td>\n",
       "      <td>0</td>\n",
       "      <td>0</td>\n",
       "      <td>0</td>\n",
       "      <td>0</td>\n",
       "      <td>0</td>\n",
       "      <td>0</td>\n",
       "      <td>0</td>\n",
       "      <td>0</td>\n",
       "      <td>0</td>\n",
       "      <td>0</td>\n",
       "      <td>0</td>\n",
       "      <td>0</td>\n",
       "      <td>0</td>\n",
       "      <td>0</td>\n",
       "      <td>0</td>\n",
       "      <td>0</td>\n",
       "      <td>0</td>\n",
       "      <td>0</td>\n",
       "      <td>0</td>\n",
       "      <td>0</td>\n",
       "      <td>0</td>\n",
       "      <td>0</td>\n",
       "      <td>0</td>\n",
       "      <td>0</td>\n",
       "      <td>0</td>\n",
       "      <td>0</td>\n",
       "      <td>0</td>\n",
       "      <td>0</td>\n",
       "      <td>0</td>\n",
       "      <td>0</td>\n",
       "      <td>0</td>\n",
       "      <td>...</td>\n",
       "      <td>0</td>\n",
       "      <td>0</td>\n",
       "      <td>0</td>\n",
       "      <td>0</td>\n",
       "      <td>0</td>\n",
       "      <td>0</td>\n",
       "      <td>0</td>\n",
       "      <td>0</td>\n",
       "      <td>0</td>\n",
       "      <td>0</td>\n",
       "      <td>0</td>\n",
       "      <td>0</td>\n",
       "      <td>0</td>\n",
       "      <td>0</td>\n",
       "      <td>0</td>\n",
       "      <td>0</td>\n",
       "      <td>0</td>\n",
       "      <td>0</td>\n",
       "      <td>0</td>\n",
       "      <td>0</td>\n",
       "      <td>0</td>\n",
       "      <td>0</td>\n",
       "      <td>0</td>\n",
       "      <td>0</td>\n",
       "      <td>0</td>\n",
       "      <td>0</td>\n",
       "      <td>0</td>\n",
       "      <td>0</td>\n",
       "      <td>0</td>\n",
       "      <td>0</td>\n",
       "      <td>0</td>\n",
       "      <td>0</td>\n",
       "      <td>0</td>\n",
       "      <td>0</td>\n",
       "      <td>0</td>\n",
       "      <td>0</td>\n",
       "      <td>0</td>\n",
       "      <td>0</td>\n",
       "      <td>0</td>\n",
       "      <td>0</td>\n",
       "    </tr>\n",
       "    <tr>\n",
       "      <th>22752</th>\n",
       "      <td>mick jagger issu singl statement regard lover ...</td>\n",
       "      <td>0</td>\n",
       "      <td>0</td>\n",
       "      <td>1</td>\n",
       "      <td>0</td>\n",
       "      <td>0</td>\n",
       "      <td>0</td>\n",
       "      <td>0</td>\n",
       "      <td>0</td>\n",
       "      <td>0</td>\n",
       "      <td>0</td>\n",
       "      <td>0</td>\n",
       "      <td>0</td>\n",
       "      <td>0</td>\n",
       "      <td>0</td>\n",
       "      <td>0</td>\n",
       "      <td>0</td>\n",
       "      <td>0</td>\n",
       "      <td>0</td>\n",
       "      <td>0</td>\n",
       "      <td>0</td>\n",
       "      <td>0</td>\n",
       "      <td>0</td>\n",
       "      <td>0</td>\n",
       "      <td>0</td>\n",
       "      <td>0</td>\n",
       "      <td>0</td>\n",
       "      <td>0</td>\n",
       "      <td>0</td>\n",
       "      <td>0</td>\n",
       "      <td>0</td>\n",
       "      <td>0</td>\n",
       "      <td>0</td>\n",
       "      <td>0</td>\n",
       "      <td>0</td>\n",
       "      <td>0</td>\n",
       "      <td>0</td>\n",
       "      <td>0</td>\n",
       "      <td>0</td>\n",
       "      <td>0</td>\n",
       "      <td>...</td>\n",
       "      <td>0</td>\n",
       "      <td>0</td>\n",
       "      <td>0</td>\n",
       "      <td>0</td>\n",
       "      <td>0</td>\n",
       "      <td>0</td>\n",
       "      <td>0</td>\n",
       "      <td>0</td>\n",
       "      <td>0</td>\n",
       "      <td>0</td>\n",
       "      <td>0</td>\n",
       "      <td>0</td>\n",
       "      <td>0</td>\n",
       "      <td>0</td>\n",
       "      <td>0</td>\n",
       "      <td>0</td>\n",
       "      <td>0</td>\n",
       "      <td>0</td>\n",
       "      <td>0</td>\n",
       "      <td>0</td>\n",
       "      <td>0</td>\n",
       "      <td>0</td>\n",
       "      <td>0</td>\n",
       "      <td>0</td>\n",
       "      <td>0</td>\n",
       "      <td>0</td>\n",
       "      <td>0</td>\n",
       "      <td>0</td>\n",
       "      <td>0</td>\n",
       "      <td>0</td>\n",
       "      <td>0</td>\n",
       "      <td>0</td>\n",
       "      <td>0</td>\n",
       "      <td>0</td>\n",
       "      <td>0</td>\n",
       "      <td>0</td>\n",
       "      <td>0</td>\n",
       "      <td>0</td>\n",
       "      <td>0</td>\n",
       "      <td>0</td>\n",
       "    </tr>\n",
       "    <tr>\n",
       "      <th>201797</th>\n",
       "      <td>kim kardashian kany west yet sign prenup</td>\n",
       "      <td>0</td>\n",
       "      <td>0</td>\n",
       "      <td>1</td>\n",
       "      <td>0</td>\n",
       "      <td>0</td>\n",
       "      <td>0</td>\n",
       "      <td>0</td>\n",
       "      <td>0</td>\n",
       "      <td>0</td>\n",
       "      <td>0</td>\n",
       "      <td>0</td>\n",
       "      <td>0</td>\n",
       "      <td>0</td>\n",
       "      <td>0</td>\n",
       "      <td>0</td>\n",
       "      <td>0</td>\n",
       "      <td>0</td>\n",
       "      <td>0</td>\n",
       "      <td>0</td>\n",
       "      <td>0</td>\n",
       "      <td>0</td>\n",
       "      <td>0</td>\n",
       "      <td>0</td>\n",
       "      <td>0</td>\n",
       "      <td>0</td>\n",
       "      <td>0</td>\n",
       "      <td>0</td>\n",
       "      <td>0</td>\n",
       "      <td>0</td>\n",
       "      <td>0</td>\n",
       "      <td>0</td>\n",
       "      <td>0</td>\n",
       "      <td>0</td>\n",
       "      <td>0</td>\n",
       "      <td>0</td>\n",
       "      <td>0</td>\n",
       "      <td>0</td>\n",
       "      <td>0</td>\n",
       "      <td>0</td>\n",
       "      <td>...</td>\n",
       "      <td>0</td>\n",
       "      <td>0</td>\n",
       "      <td>0</td>\n",
       "      <td>0</td>\n",
       "      <td>0</td>\n",
       "      <td>0</td>\n",
       "      <td>0</td>\n",
       "      <td>0</td>\n",
       "      <td>0</td>\n",
       "      <td>0</td>\n",
       "      <td>0</td>\n",
       "      <td>0</td>\n",
       "      <td>0</td>\n",
       "      <td>0</td>\n",
       "      <td>0</td>\n",
       "      <td>0</td>\n",
       "      <td>0</td>\n",
       "      <td>0</td>\n",
       "      <td>0</td>\n",
       "      <td>0</td>\n",
       "      <td>0</td>\n",
       "      <td>0</td>\n",
       "      <td>0</td>\n",
       "      <td>0</td>\n",
       "      <td>0</td>\n",
       "      <td>0</td>\n",
       "      <td>0</td>\n",
       "      <td>0</td>\n",
       "      <td>0</td>\n",
       "      <td>0</td>\n",
       "      <td>0</td>\n",
       "      <td>0</td>\n",
       "      <td>0</td>\n",
       "      <td>0</td>\n",
       "      <td>0</td>\n",
       "      <td>0</td>\n",
       "      <td>0</td>\n",
       "      <td>0</td>\n",
       "      <td>0</td>\n",
       "      <td>0</td>\n",
       "    </tr>\n",
       "  </tbody>\n",
       "</table>\n",
       "<p>5 rows × 4942 columns</p>\n",
       "</div>"
      ],
      "text/plain": [
       "                                                    TITLE  ...  zuckerberg\n",
       "194066      kim kardashian kim kardashian narrow wed gown  ...           0\n",
       "192302    updat emir profit soar higher sale cheaper fuel  ...           0\n",
       "11517   rooney mara cast tiger lili peter pan origin m...  ...           0\n",
       "22752   mick jagger issu singl statement regard lover ...  ...           0\n",
       "201797           kim kardashian kany west yet sign prenup  ...           0\n",
       "\n",
       "[5 rows x 4942 columns]"
      ]
     },
     "execution_count": 51,
     "metadata": {
      "tags": []
     },
     "output_type": "execute_result"
    }
   ],
   "source": [
    "train_feature.head()"
   ]
  },
  {
   "cell_type": "code",
   "execution_count": 0,
   "metadata": {
    "colab": {},
    "colab_type": "code",
    "id": "ETP7sKRjM38N"
   },
   "outputs": [],
   "source": [
    "train_feature = train_feature.drop(\"TITLE\",axis=1)"
   ]
  },
  {
   "cell_type": "code",
   "execution_count": 53,
   "metadata": {
    "colab": {
     "base_uri": "https://localhost:8080/",
     "height": 136
    },
    "colab_type": "code",
    "id": "HLVyoJbVM38U",
    "outputId": "e2b5a8bc-ab91-48e3-ab4f-79a33bba499d"
   },
   "outputs": [
    {
     "data": {
      "text/plain": [
       "array([[0, 0, 1, ..., 0, 0, 0],\n",
       "       [0, 0, 0, ..., 0, 0, 0],\n",
       "       [0, 0, 1, ..., 0, 0, 0],\n",
       "       ...,\n",
       "       [0, 0, 0, ..., 0, 0, 0],\n",
       "       [0, 0, 0, ..., 0, 0, 0],\n",
       "       [1, 0, 0, ..., 0, 0, 0]])"
      ]
     },
     "execution_count": 53,
     "metadata": {
      "tags": []
     },
     "output_type": "execute_result"
    }
   ],
   "source": [
    "train_feature.values"
   ]
  },
  {
   "cell_type": "markdown",
   "metadata": {
    "colab_type": "text",
    "id": "SgLGrSmOM38Z"
   },
   "source": [
    "## process test data"
   ]
  },
  {
   "cell_type": "code",
   "execution_count": 0,
   "metadata": {
    "colab": {},
    "colab_type": "code",
    "id": "hvGqeEmYM38c"
   },
   "outputs": [],
   "source": [
    "test_target = test_data[\"CATEGORY\"]\n",
    "test_feature = test_data[features]"
   ]
  },
  {
   "cell_type": "code",
   "execution_count": 0,
   "metadata": {
    "colab": {},
    "colab_type": "code",
    "id": "AA9aWtnfM38d"
   },
   "outputs": [],
   "source": [
    "test_feature = dummy_hostname(test_feature)"
   ]
  },
  {
   "cell_type": "code",
   "execution_count": 0,
   "metadata": {
    "colab": {},
    "colab_type": "code",
    "id": "6qaQ4lRVM38g"
   },
   "outputs": [],
   "source": [
    "test_feature = preprocess_title(test_feature)"
   ]
  },
  {
   "cell_type": "code",
   "execution_count": 0,
   "metadata": {
    "colab": {},
    "colab_type": "code",
    "id": "wbTI7VofM38j"
   },
   "outputs": [],
   "source": [
    "for w in key_word:\n",
    "    test_feature[w]=  test_feature['TITLE'].map(lambda x:1 if w in x.split(\" \") else 0)"
   ]
  },
  {
   "cell_type": "code",
   "execution_count": 0,
   "metadata": {
    "colab": {},
    "colab_type": "code",
    "id": "s6U3CWBlM38p"
   },
   "outputs": [],
   "source": [
    "test_feature = test_feature.drop(\"TITLE\",axis=1)"
   ]
  },
  {
   "cell_type": "code",
   "execution_count": 0,
   "metadata": {
    "colab": {},
    "colab_type": "code",
    "id": "SuYRmoo75gyn"
   },
   "outputs": [],
   "source": [
    "#train_feature.to_csv(TRAIN_FEATURE_FILE,sep=\"\\t\")\n",
    "#test_feature.to_csv(TEST_FEATURE_FILE,sep=\"\\t\")"
   ]
  },
  {
   "cell_type": "markdown",
   "metadata": {
    "colab_type": "text",
    "id": "1BPJiPzVM381"
   },
   "source": [
    "# 52 学習"
   ]
  },
  {
   "cell_type": "code",
   "execution_count": 0,
   "metadata": {
    "colab": {},
    "colab_type": "code",
    "id": "sYtBoMUUM382"
   },
   "outputs": [],
   "source": [
    "train_target = train_target.replace({\"e\":1,\"b\":2,\"t\":3,\"m\":4}) # 1つずつ個別に指定"
   ]
  },
  {
   "cell_type": "code",
   "execution_count": 0,
   "metadata": {
    "colab": {},
    "colab_type": "code",
    "id": "F8OmoFLxM385"
   },
   "outputs": [],
   "source": [
    "test_target = test_target.replace({\"e\":1,\"b\":2,\"t\":3,\"m\":4}) # 1つずつ個別に指定"
   ]
  },
  {
   "cell_type": "code",
   "execution_count": 0,
   "metadata": {
    "colab": {},
    "colab_type": "code",
    "id": "8mrLnaeEM39F"
   },
   "outputs": [],
   "source": [
    "import sklearn.linear_model"
   ]
  },
  {
   "cell_type": "code",
   "execution_count": 64,
   "metadata": {
    "colab": {
     "base_uri": "https://localhost:8080/",
     "height": 190
    },
    "colab_type": "code",
    "id": "wm7ms0UAM39H",
    "outputId": "a135b27e-918d-4382-9200-73319ef3dc79"
   },
   "outputs": [
    {
     "name": "stderr",
     "output_type": "stream",
     "text": [
      "/usr/local/lib/python3.6/dist-packages/sklearn/linear_model/logistic.py:432: FutureWarning: Default solver will be changed to 'lbfgs' in 0.22. Specify a solver to silence this warning.\n",
      "  FutureWarning)\n",
      "/usr/local/lib/python3.6/dist-packages/sklearn/linear_model/logistic.py:469: FutureWarning: Default multi_class will be changed to 'auto' in 0.22. Specify the multi_class option to silence this warning.\n",
      "  \"this warning.\", FutureWarning)\n"
     ]
    },
    {
     "data": {
      "text/plain": [
       "LogisticRegression(C=100, class_weight=None, dual=False, fit_intercept=True,\n",
       "                   intercept_scaling=1, l1_ratio=None, max_iter=100,\n",
       "                   multi_class='warn', n_jobs=None, penalty='l2',\n",
       "                   random_state=None, solver='warn', tol=0.0001, verbose=0,\n",
       "                   warm_start=False)"
      ]
     },
     "execution_count": 64,
     "metadata": {
      "tags": []
     },
     "output_type": "execute_result"
    }
   ],
   "source": [
    "clf = sklearn.linear_model.LogisticRegression(C=100)\n",
    "clf.fit(train_feature,train_target)"
   ]
  },
  {
   "cell_type": "code",
   "execution_count": 65,
   "metadata": {
    "colab": {
     "base_uri": "https://localhost:8080/",
     "height": 153
    },
    "colab_type": "code",
    "id": "aGYhnwQ0M39N",
    "outputId": "f578c309-4b6d-4db3-9678-d21647dfd608"
   },
   "outputs": [
    {
     "data": {
      "text/plain": [
       "array([[-3.8402e+00, -3.2123e+00,  6.4011e+00, ...,  5.8027e-03,\n",
       "        -3.7893e+00, -5.0508e+00],\n",
       "       [ 2.8756e+00,  2.5149e+00, -7.8465e+00, ..., -3.8009e-02,\n",
       "         8.8909e-01, -2.6659e+00],\n",
       "       [ 5.7460e-03, -3.2379e-03, -3.9055e+00, ..., -7.0221e-04,\n",
       "        -6.8910e-03,  6.2437e+00],\n",
       "       [-1.4654e+00, -1.2687e-01, -3.3269e+00, ..., -1.1069e-03,\n",
       "        -1.6346e-03, -1.7687e+00]])"
      ]
     },
     "execution_count": 65,
     "metadata": {
      "tags": []
     },
     "output_type": "execute_result"
    }
   ],
   "source": [
    "clf.coef_"
   ]
  },
  {
   "cell_type": "markdown",
   "metadata": {
    "colab_type": "text",
    "id": "NXF--sWoM39S"
   },
   "source": [
    "# 53 予測"
   ]
  },
  {
   "cell_type": "code",
   "execution_count": 66,
   "metadata": {
    "colab": {
     "base_uri": "https://localhost:8080/",
     "height": 34
    },
    "colab_type": "code",
    "id": "qoa96aPKM39Z",
    "outputId": "c01c2eb7-d3bb-46df-8472-81a4bffd0257"
   },
   "outputs": [
    {
     "data": {
      "text/plain": [
       "array([2, 2, 2, ..., 1, 1, 2])"
      ]
     },
     "execution_count": 66,
     "metadata": {
      "tags": []
     },
     "output_type": "execute_result"
    }
   ],
   "source": [
    "clf.predict(test_feature)"
   ]
  },
  {
   "cell_type": "markdown",
   "metadata": {
    "colab_type": "text",
    "id": "V6xSLDr6O778"
   },
   "source": [
    "# 正解率の計測"
   ]
  },
  {
   "cell_type": "code",
   "execution_count": 67,
   "metadata": {
    "colab": {
     "base_uri": "https://localhost:8080/",
     "height": 34
    },
    "colab_type": "code",
    "id": "lMlBjulCM39s",
    "outputId": "48939747-4a61-401f-a25c-5f314e8d5feb"
   },
   "outputs": [
    {
     "data": {
      "text/plain": [
       "0.876311844077961"
      ]
     },
     "execution_count": 67,
     "metadata": {
      "tags": []
     },
     "output_type": "execute_result"
    }
   ],
   "source": [
    "clf.score(test_feature,test_target)"
   ]
  },
  {
   "cell_type": "markdown",
   "metadata": {
    "colab_type": "text",
    "id": "J2BXmNnCPC6W"
   },
   "source": [
    "# 55　混同行列の作成"
   ]
  },
  {
   "cell_type": "code",
   "execution_count": 0,
   "metadata": {
    "colab": {},
    "colab_type": "code",
    "id": "yr7sqoESPXoN"
   },
   "outputs": [],
   "source": [
    "from sklearn.metrics import confusion_matrix"
   ]
  },
  {
   "cell_type": "markdown",
   "metadata": {
    "colab_type": "text",
    "id": "MFngUyCkQxES"
   },
   "source": [
    "### train_data"
   ]
  },
  {
   "cell_type": "code",
   "execution_count": 0,
   "metadata": {
    "colab": {},
    "colab_type": "code",
    "id": "MlDsotREQwdu"
   },
   "outputs": [],
   "source": [
    "train_pred = clf.predict(train_feature)\n",
    "train_true = train_target"
   ]
  },
  {
   "cell_type": "code",
   "execution_count": 70,
   "metadata": {
    "colab": {
     "base_uri": "https://localhost:8080/",
     "height": 85
    },
    "colab_type": "code",
    "id": "qDKDYvp4Q_Rt",
    "outputId": "8e015a01-cb50-4d63-fc5e-c0aaefa6976d"
   },
   "outputs": [
    {
     "data": {
      "text/plain": [
       "array([[4747,    8,    8,    8],\n",
       "       [  12, 5001,   63,   19],\n",
       "       [   2,   48, 1283,    3],\n",
       "       [   2,    8,    2,  792]])"
      ]
     },
     "execution_count": 70,
     "metadata": {
      "tags": []
     },
     "output_type": "execute_result"
    }
   ],
   "source": [
    "cfm_data=confusion_matrix(train_pred,train_true)\n",
    "cfm_data"
   ]
  },
  {
   "cell_type": "code",
   "execution_count": 0,
   "metadata": {
    "colab": {},
    "colab_type": "code",
    "id": "7zrz4JkCeAkv"
   },
   "outputs": [],
   "source": [
    "labels=[\"e\",\"b\",\"t\",\"m\"]"
   ]
  },
  {
   "cell_type": "code",
   "execution_count": 102,
   "metadata": {
    "colab": {
     "base_uri": "https://localhost:8080/",
     "height": 269
    },
    "colab_type": "code",
    "id": "kH5RvlmRQ_I4",
    "outputId": "e217c728-9105-42bc-f6bf-721f2f94ded1"
   },
   "outputs": [
    {
     "data": {
      "image/png": "[encoded data removed]",
      "text/plain": [
       "<Figure size 432x288 with 2 Axes>"
      ]
     },
     "metadata": {
      "tags": []
     },
     "output_type": "display_data"
    }
   ],
   "source": [
    "df_cfm = pd.DataFrame(cfm_data,index=labels,columns=labels)\n",
    "df_cfm= df_cfm.astype('float') / df_cfm.sum(axis=1)[:, np.newaxis]\n",
    "sns.heatmap(df_cfm,fmt=\"g\",annot=True)\n",
    "plt.show()"
   ]
  },
  {
   "cell_type": "markdown",
   "metadata": {
    "colab_type": "text",
    "id": "hmq_jQ6RPP8s"
   },
   "source": [
    "### test_data"
   ]
  },
  {
   "cell_type": "code",
   "execution_count": 0,
   "metadata": {
    "colab": {},
    "colab_type": "code",
    "id": "fAXJhdwWQMZ4"
   },
   "outputs": [],
   "source": [
    "labels=[\"e\",\"b\",\"t\",\"m\"]"
   ]
  },
  {
   "cell_type": "code",
   "execution_count": 0,
   "metadata": {
    "colab": {},
    "colab_type": "code",
    "id": "rt1SUgrsPAwD"
   },
   "outputs": [],
   "source": [
    "y_pred = clf.predict(test_feature)\n",
    "y_true = test_target"
   ]
  },
  {
   "cell_type": "code",
   "execution_count": 100,
   "metadata": {
    "colab": {
     "base_uri": "https://localhost:8080/",
     "height": 85
    },
    "colab_type": "code",
    "id": "ZH4nbRRHPi-m",
    "outputId": "d7388d42-5f22-4173-bdfa-0e7f5a5759bc"
   },
   "outputs": [
    {
     "data": {
      "text/plain": [
       "array([[0.8424, 0.035 , 0.0681, 0.0545],\n",
       "       [0.0523, 0.7818, 0.1166, 0.0493],\n",
       "       [0.2842, 0.1368, 0.4737, 0.1053],\n",
       "       [0.375 , 0.1429, 0.1786, 0.3036]])"
      ]
     },
     "execution_count": 100,
     "metadata": {
      "tags": []
     },
     "output_type": "execute_result"
    }
   ],
   "source": [
    "cfm_data=confusion_matrix(y_pred,y_true)\n",
    "cfm_data= cfm_data.astype('float') / cfm_data.sum(axis=1)[:, np.newaxis]\n",
    "cfm_data"
   ]
  },
  {
   "cell_type": "code",
   "execution_count": 101,
   "metadata": {
    "colab": {
     "base_uri": "https://localhost:8080/",
     "height": 269
    },
    "colab_type": "code",
    "id": "UQR-Gg8XPnjT",
    "outputId": "2bcbc6b0-f44f-47ad-f8d3-1068735ef9ca"
   },
   "outputs": [
    {
     "data": {
      "image/png": "[encoded data removed]",
      "text/plain": [
       "<Figure size 432x288 with 2 Axes>"
      ]
     },
     "metadata": {
      "tags": []
     },
     "output_type": "display_data"
    }
   ],
   "source": [
    "df_cfm = pd.DataFrame(cfm_data,index=labels,columns=labels)\n",
    "sns.heatmap(df_cfm,fmt=\"g\",annot=True)\n",
    "plt.show()"
   ]
  },
  {
   "cell_type": "markdown",
   "metadata": {
    "colab_type": "text",
    "id": "feG1MoqFRN8I"
   },
   "source": [
    "# 56 適合率、再現率、F1"
   ]
  },
  {
   "cell_type": "markdown",
   "metadata": {
    "colab_type": "text",
    "id": "k3qAI84DTUnJ"
   },
   "source": [
    "macro クラスごと　　\n",
    "micro　全体"
   ]
  },
  {
   "cell_type": "code",
   "execution_count": 0,
   "metadata": {
    "colab": {},
    "colab_type": "code",
    "id": "V-Rmjiw4SBsf"
   },
   "outputs": [],
   "source": [
    "from sklearn.metrics import precision_score\n",
    "from sklearn.metrics import recall_score\n",
    "from sklearn.metrics import f1_score"
   ]
  },
  {
   "cell_type": "markdown",
   "metadata": {
    "colab_type": "text",
    "id": "sLGLo3tBRiBu"
   },
   "source": [
    "## 適合率\n",
    "$$\n",
    "    accuracy = \\frac{TP}{TP+FP}\n",
    "$$\n",
    " "
   ]
  },
  {
   "cell_type": "code",
   "execution_count": 78,
   "metadata": {
    "colab": {
     "base_uri": "https://localhost:8080/",
     "height": 34
    },
    "colab_type": "code",
    "id": "72JW2jd3RyPH",
    "outputId": "65983ebe-e02a-4181-e092-d0b9ac0e722f"
   },
   "outputs": [
    {
     "data": {
      "text/plain": [
       "0.8308519659035123"
      ]
     },
     "execution_count": 78,
     "metadata": {
      "tags": []
     },
     "output_type": "execute_result"
    }
   ],
   "source": [
    "precision_macro = precision_score(y_true,y_pred,average=\"macro\")\n",
    "precision_macro"
   ]
  },
  {
   "cell_type": "code",
   "execution_count": 79,
   "metadata": {
    "colab": {
     "base_uri": "https://localhost:8080/",
     "height": 34
    },
    "colab_type": "code",
    "id": "VxpNiUBzRNnV",
    "outputId": "7c47e10e-26c4-477c-bc9a-27704778f6e8"
   },
   "outputs": [
    {
     "data": {
      "text/plain": [
       "0.876311844077961"
      ]
     },
     "execution_count": 79,
     "metadata": {
      "tags": []
     },
     "output_type": "execute_result"
    }
   ],
   "source": [
    "precision_micro = precision_score(y_true,y_pred,average=\"micro\")\n",
    "precision_micro"
   ]
  },
  {
   "cell_type": "markdown",
   "metadata": {
    "colab_type": "text",
    "id": "7GzggWIkS4hV"
   },
   "source": [
    "## 再現率"
   ]
  },
  {
   "cell_type": "code",
   "execution_count": 80,
   "metadata": {
    "colab": {
     "base_uri": "https://localhost:8080/",
     "height": 34
    },
    "colab_type": "code",
    "id": "1fNOaIEjQdh7",
    "outputId": "18dce2c5-cef8-47f9-ec51-883afd80e4a6"
   },
   "outputs": [
    {
     "data": {
      "text/plain": [
       "0.7883080204989085"
      ]
     },
     "execution_count": 80,
     "metadata": {
      "tags": []
     },
     "output_type": "execute_result"
    }
   ],
   "source": [
    "recall_macro = recall_score(y_true,y_pred,average=\"macro\")\n",
    "recall_macro"
   ]
  },
  {
   "cell_type": "code",
   "execution_count": 81,
   "metadata": {
    "colab": {
     "base_uri": "https://localhost:8080/",
     "height": 34
    },
    "colab_type": "code",
    "id": "baCQXnyeS0Up",
    "outputId": "820605a5-6e6b-4bcc-f67b-caa24714c6e3"
   },
   "outputs": [
    {
     "data": {
      "text/plain": [
       "0.876311844077961"
      ]
     },
     "execution_count": 81,
     "metadata": {
      "tags": []
     },
     "output_type": "execute_result"
    }
   ],
   "source": [
    "recall_micro = recall_score(y_true,y_pred,average=\"micro\")\n",
    "recall_micro"
   ]
  },
  {
   "cell_type": "markdown",
   "metadata": {
    "colab_type": "text",
    "id": "GqKdKMs7TBr_"
   },
   "source": [
    "## F1"
   ]
  },
  {
   "cell_type": "code",
   "execution_count": 82,
   "metadata": {
    "colab": {
     "base_uri": "https://localhost:8080/",
     "height": 34
    },
    "colab_type": "code",
    "id": "REq7gm8DS3IW",
    "outputId": "779bb22b-78e3-4736-b35d-f35883dface1"
   },
   "outputs": [
    {
     "data": {
      "text/plain": [
       "0.8068265309727649"
      ]
     },
     "execution_count": 82,
     "metadata": {
      "tags": []
     },
     "output_type": "execute_result"
    }
   ],
   "source": [
    "f1_macro = f1_score(y_true,y_pred,average=\"macro\")\n",
    "f1_macro"
   ]
  },
  {
   "cell_type": "code",
   "execution_count": 83,
   "metadata": {
    "colab": {
     "base_uri": "https://localhost:8080/",
     "height": 34
    },
    "colab_type": "code",
    "id": "HmYsJ-zqTG7d",
    "outputId": "6c57c653-b6d9-404a-96d0-4996b4f01abc"
   },
   "outputs": [
    {
     "data": {
      "text/plain": [
       "0.876311844077961"
      ]
     },
     "execution_count": 83,
     "metadata": {
      "tags": []
     },
     "output_type": "execute_result"
    }
   ],
   "source": [
    "f1_micro = f1_score(y_true,y_pred,average=\"micro\")\n",
    "f1_micro"
   ]
  },
  {
   "cell_type": "markdown",
   "metadata": {
    "colab_type": "text",
    "id": "TWrDGrrpTcLa"
   },
   "source": [
    "# 57 特徴量の重み"
   ]
  },
  {
   "cell_type": "code",
   "execution_count": 0,
   "metadata": {
    "colab": {},
    "colab_type": "code",
    "id": "TivEKDVBTypW"
   },
   "outputs": [],
   "source": [
    "weight_data = pd.DataFrame(clf.coef_,index=labels,columns=train_feature.columns).T"
   ]
  },
  {
   "cell_type": "code",
   "execution_count": 85,
   "metadata": {
    "colab": {
     "base_uri": "https://localhost:8080/",
     "height": 204
    },
    "colab_type": "code",
    "id": "ZDttDXzOlBOr",
    "outputId": "205f1b54-8804-4b6f-b5cc-55918e4e4c1b"
   },
   "outputs": [
    {
     "data": {
      "text/html": [
       "<div>\n",
       "<style scoped>\n",
       "    .dataframe tbody tr th:only-of-type {\n",
       "        vertical-align: middle;\n",
       "    }\n",
       "\n",
       "    .dataframe tbody tr th {\n",
       "        vertical-align: top;\n",
       "    }\n",
       "\n",
       "    .dataframe thead th {\n",
       "        text-align: right;\n",
       "    }\n",
       "</style>\n",
       "<table border=\"1\" class=\"dataframe\">\n",
       "  <thead>\n",
       "    <tr style=\"text-align: right;\">\n",
       "      <th></th>\n",
       "      <th>e</th>\n",
       "      <th>b</th>\n",
       "      <th>t</th>\n",
       "      <th>m</th>\n",
       "    </tr>\n",
       "  </thead>\n",
       "  <tbody>\n",
       "    <tr>\n",
       "      <th>HOSTNAME_in.reuters.com</th>\n",
       "      <td>-3.840169</td>\n",
       "      <td>2.875627</td>\n",
       "      <td>0.005746</td>\n",
       "      <td>-1.465449</td>\n",
       "    </tr>\n",
       "    <tr>\n",
       "      <th>HOSTNAME_www.businessweek.com</th>\n",
       "      <td>-3.212257</td>\n",
       "      <td>2.514901</td>\n",
       "      <td>-0.003238</td>\n",
       "      <td>-0.126873</td>\n",
       "    </tr>\n",
       "    <tr>\n",
       "      <th>HOSTNAME_www.contactmusic.com</th>\n",
       "      <td>6.401100</td>\n",
       "      <td>-7.846454</td>\n",
       "      <td>-3.905499</td>\n",
       "      <td>-3.326907</td>\n",
       "    </tr>\n",
       "    <tr>\n",
       "      <th>HOSTNAME_www.dailymail.co.uk</th>\n",
       "      <td>1.059947</td>\n",
       "      <td>-0.828911</td>\n",
       "      <td>0.662807</td>\n",
       "      <td>1.382643</td>\n",
       "    </tr>\n",
       "    <tr>\n",
       "      <th>HOSTNAME_www.huffingtonpost.com</th>\n",
       "      <td>0.756075</td>\n",
       "      <td>-0.386162</td>\n",
       "      <td>0.663963</td>\n",
       "      <td>1.306557</td>\n",
       "    </tr>\n",
       "  </tbody>\n",
       "</table>\n",
       "</div>"
      ],
      "text/plain": [
       "                                        e         b         t         m\n",
       "HOSTNAME_in.reuters.com         -3.840169  2.875627  0.005746 -1.465449\n",
       "HOSTNAME_www.businessweek.com   -3.212257  2.514901 -0.003238 -0.126873\n",
       "HOSTNAME_www.contactmusic.com    6.401100 -7.846454 -3.905499 -3.326907\n",
       "HOSTNAME_www.dailymail.co.uk     1.059947 -0.828911  0.662807  1.382643\n",
       "HOSTNAME_www.huffingtonpost.com  0.756075 -0.386162  0.663963  1.306557"
      ]
     },
     "execution_count": 85,
     "metadata": {
      "tags": []
     },
     "output_type": "execute_result"
    }
   ],
   "source": [
    "weight_data.head()"
   ]
  },
  {
   "cell_type": "markdown",
   "metadata": {
    "colab_type": "text",
    "id": "AH4VNG67WMk4"
   },
   "source": [
    "## top10"
   ]
  },
  {
   "cell_type": "code",
   "execution_count": 0,
   "metadata": {
    "colab": {},
    "colab_type": "code",
    "id": "GlRulLReWMWU"
   },
   "outputs": [],
   "source": [
    "cate_e = weight_data[\"e\"].map(abs).sort_values().index"
   ]
  },
  {
   "cell_type": "code",
   "execution_count": 0,
   "metadata": {
    "colab": {},
    "colab_type": "code",
    "id": "tWhhfDmVnNrw"
   },
   "outputs": [],
   "source": [
    "cate_data = pd.DataFrame()"
   ]
  },
  {
   "cell_type": "code",
   "execution_count": 0,
   "metadata": {
    "colab": {},
    "colab_type": "code",
    "id": "w7ojyAdfmhH9"
   },
   "outputs": [],
   "source": [
    "for col in weight_data.columns:\n",
    "    cate_data[col] = weight_data[col].map(abs).sort_values().index"
   ]
  },
  {
   "cell_type": "code",
   "execution_count": 89,
   "metadata": {
    "colab": {
     "base_uri": "https://localhost:8080/",
     "height": 359
    },
    "colab_type": "code",
    "id": "trSVFv3Snzkn",
    "outputId": "55e96e27-2489-4213-ba29-a5ae763eab23"
   },
   "outputs": [
    {
     "data": {
      "text/html": [
       "<div>\n",
       "<style scoped>\n",
       "    .dataframe tbody tr th:only-of-type {\n",
       "        vertical-align: middle;\n",
       "    }\n",
       "\n",
       "    .dataframe tbody tr th {\n",
       "        vertical-align: top;\n",
       "    }\n",
       "\n",
       "    .dataframe thead th {\n",
       "        text-align: right;\n",
       "    }\n",
       "</style>\n",
       "<table border=\"1\" class=\"dataframe\">\n",
       "  <thead>\n",
       "    <tr style=\"text-align: right;\">\n",
       "      <th></th>\n",
       "      <th>e</th>\n",
       "      <th>b</th>\n",
       "      <th>t</th>\n",
       "      <th>m</th>\n",
       "    </tr>\n",
       "  </thead>\n",
       "  <tbody>\n",
       "    <tr>\n",
       "      <th>4940</th>\n",
       "      <td>waterloo</td>\n",
       "      <td>amedisi</td>\n",
       "      <td>neutral</td>\n",
       "      <td>amedisi</td>\n",
       "    </tr>\n",
       "    <tr>\n",
       "      <th>4939</th>\n",
       "      <td>captain</td>\n",
       "      <td>unshaken</td>\n",
       "      <td>croak</td>\n",
       "      <td>actor</td>\n",
       "    </tr>\n",
       "    <tr>\n",
       "      <th>4938</th>\n",
       "      <td>maureen</td>\n",
       "      <td>neutral</td>\n",
       "      <td>activis</td>\n",
       "      <td>petco</td>\n",
       "    </tr>\n",
       "    <tr>\n",
       "      <th>4937</th>\n",
       "      <td>apart</td>\n",
       "      <td>nearmiss</td>\n",
       "      <td>throne</td>\n",
       "      <td>fda</td>\n",
       "    </tr>\n",
       "    <tr>\n",
       "      <th>4936</th>\n",
       "      <td>harrison</td>\n",
       "      <td>twitch</td>\n",
       "      <td>havent</td>\n",
       "      <td>schumach</td>\n",
       "    </tr>\n",
       "    <tr>\n",
       "      <th>4935</th>\n",
       "      <td>emmi</td>\n",
       "      <td>wire</td>\n",
       "      <td>seismic</td>\n",
       "      <td>gulp</td>\n",
       "    </tr>\n",
       "    <tr>\n",
       "      <th>4934</th>\n",
       "      <td>festiv</td>\n",
       "      <td>realiti</td>\n",
       "      <td>xiaomi</td>\n",
       "      <td>alzheim</td>\n",
       "    </tr>\n",
       "    <tr>\n",
       "      <th>4933</th>\n",
       "      <td>powder</td>\n",
       "      <td>denni</td>\n",
       "      <td>na</td>\n",
       "      <td>mer</td>\n",
       "    </tr>\n",
       "    <tr>\n",
       "      <th>4932</th>\n",
       "      <td>kim</td>\n",
       "      <td>presenc</td>\n",
       "      <td>respons</td>\n",
       "      <td>glass</td>\n",
       "    </tr>\n",
       "    <tr>\n",
       "      <th>4931</th>\n",
       "      <td>katherin</td>\n",
       "      <td>aereo</td>\n",
       "      <td>heartble</td>\n",
       "      <td>laps</td>\n",
       "    </tr>\n",
       "  </tbody>\n",
       "</table>\n",
       "</div>"
      ],
      "text/plain": [
       "             e         b         t         m\n",
       "4940  waterloo   amedisi   neutral   amedisi\n",
       "4939   captain  unshaken     croak     actor\n",
       "4938   maureen   neutral   activis     petco\n",
       "4937     apart  nearmiss    throne       fda\n",
       "4936  harrison    twitch    havent  schumach\n",
       "4935      emmi      wire   seismic      gulp\n",
       "4934    festiv   realiti    xiaomi   alzheim\n",
       "4933    powder     denni        na       mer\n",
       "4932       kim   presenc   respons     glass\n",
       "4931  katherin     aereo  heartble      laps"
      ]
     },
     "execution_count": 89,
     "metadata": {
      "tags": []
     },
     "output_type": "execute_result"
    }
   ],
   "source": [
    "cate_data.tail(10)[::-1]"
   ]
  },
  {
   "cell_type": "code",
   "execution_count": 90,
   "metadata": {
    "colab": {
     "base_uri": "https://localhost:8080/",
     "height": 379
    },
    "colab_type": "code",
    "id": "dnMTAeWtnZy5",
    "outputId": "567bf23d-ee0b-4b1f-9f05-59d53b35002c"
   },
   "outputs": [
    {
     "data": {
      "text/html": [
       "<div>\n",
       "<style scoped>\n",
       "    .dataframe tbody tr th:only-of-type {\n",
       "        vertical-align: middle;\n",
       "    }\n",
       "\n",
       "    .dataframe tbody tr th {\n",
       "        vertical-align: top;\n",
       "    }\n",
       "\n",
       "    .dataframe thead th {\n",
       "        text-align: right;\n",
       "    }\n",
       "</style>\n",
       "<table border=\"1\" class=\"dataframe\">\n",
       "  <thead>\n",
       "    <tr style=\"text-align: right;\">\n",
       "      <th></th>\n",
       "      <th>e</th>\n",
       "      <th>b</th>\n",
       "      <th>t</th>\n",
       "      <th>m</th>\n",
       "    </tr>\n",
       "  </thead>\n",
       "  <tbody>\n",
       "    <tr>\n",
       "      <th>0</th>\n",
       "      <td>wwwentertainmentwisecom</td>\n",
       "      <td>httpradaronlinecomphotossolangeattackjayzbeyon...</td>\n",
       "      <td>on</td>\n",
       "      <td>httpwwwentertainmentwisecomnewsnotsodrunkinlov...</td>\n",
       "    </tr>\n",
       "    <tr>\n",
       "      <th>1</th>\n",
       "      <td>httpradaronlinecomphotossolangeattackjayzbeyon...</td>\n",
       "      <td>wwwentertainmentwisecom</td>\n",
       "      <td>wwwentertainmentwisecom</td>\n",
       "      <td>httpradaronlinecomphotossolangeattackjayzbeyon...</td>\n",
       "    </tr>\n",
       "    <tr>\n",
       "      <th>2</th>\n",
       "      <td>on</td>\n",
       "      <td>radaronlinecom</td>\n",
       "      <td>httpwwwentertainmentwisecomnewsnotsodrunkinlov...</td>\n",
       "      <td>httpwwwcrushablecomentertainmentsolangeattackm...</td>\n",
       "    </tr>\n",
       "    <tr>\n",
       "      <th>3</th>\n",
       "      <td>httpwwwcrushablecomentertainmentsolangeattackm...</td>\n",
       "      <td>httpwwwcrushablecomentertainmentsolangeattackm...</td>\n",
       "      <td>httpwwwcrushablecomentertainmentsolangeattackm...</td>\n",
       "      <td>wwwentertainmentwisecom</td>\n",
       "    </tr>\n",
       "    <tr>\n",
       "      <th>4</th>\n",
       "      <td>httpwwwentertainmentwisecomnewsnotsodrunkinlov...</td>\n",
       "      <td>on</td>\n",
       "      <td>httpradaronlinecomphotossolangeattackjayzbeyon...</td>\n",
       "      <td>radaronlinecom</td>\n",
       "    </tr>\n",
       "    <tr>\n",
       "      <th>5</th>\n",
       "      <td>radaronlinecom</td>\n",
       "      <td>httpwwwentertainmentwisecomnewsnotsodrunkinlov...</td>\n",
       "      <td>radaronlinecom</td>\n",
       "      <td>on</td>\n",
       "    </tr>\n",
       "    <tr>\n",
       "      <th>6</th>\n",
       "      <td>bonaroo</td>\n",
       "      <td>omara</td>\n",
       "      <td>blige</td>\n",
       "      <td>blige</td>\n",
       "    </tr>\n",
       "    <tr>\n",
       "      <th>7</th>\n",
       "      <td>blige</td>\n",
       "      <td>destini</td>\n",
       "      <td>bonaroo</td>\n",
       "      <td>meme</td>\n",
       "    </tr>\n",
       "    <tr>\n",
       "      <th>8</th>\n",
       "      <td>unwittingli</td>\n",
       "      <td>burglari</td>\n",
       "      <td>rebelli</td>\n",
       "      <td>pinewood</td>\n",
       "    </tr>\n",
       "    <tr>\n",
       "      <th>9</th>\n",
       "      <td>meme</td>\n",
       "      <td>sinatra</td>\n",
       "      <td>starpack</td>\n",
       "      <td>bonaroo</td>\n",
       "    </tr>\n",
       "  </tbody>\n",
       "</table>\n",
       "</div>"
      ],
      "text/plain": [
       "                                                   e  ...                                                  m\n",
       "0                            wwwentertainmentwisecom  ...  httpwwwentertainmentwisecomnewsnotsodrunkinlov...\n",
       "1  httpradaronlinecomphotossolangeattackjayzbeyon...  ...  httpradaronlinecomphotossolangeattackjayzbeyon...\n",
       "2                                                 on  ...  httpwwwcrushablecomentertainmentsolangeattackm...\n",
       "3  httpwwwcrushablecomentertainmentsolangeattackm...  ...                            wwwentertainmentwisecom\n",
       "4  httpwwwentertainmentwisecomnewsnotsodrunkinlov...  ...                                     radaronlinecom\n",
       "5                                     radaronlinecom  ...                                                 on\n",
       "6                                            bonaroo  ...                                              blige\n",
       "7                                              blige  ...                                               meme\n",
       "8                                        unwittingli  ...                                           pinewood\n",
       "9                                               meme  ...                                            bonaroo\n",
       "\n",
       "[10 rows x 4 columns]"
      ]
     },
     "execution_count": 90,
     "metadata": {
      "tags": []
     },
     "output_type": "execute_result"
    }
   ],
   "source": [
    "cate_data.head(10)"
   ]
  },
  {
   "cell_type": "markdown",
   "metadata": {
    "colab_type": "text",
    "id": "HvECFVJkWrxn"
   },
   "source": [
    " # 58 正則化パラメータの変更"
   ]
  },
  {
   "cell_type": "code",
   "execution_count": 0,
   "metadata": {
    "colab": {},
    "colab_type": "code",
    "id": "5teZ3WeAWeER"
   },
   "outputs": [],
   "source": [
    "res_train=[]\n",
    "res_test=[]"
   ]
  },
  {
   "cell_type": "code",
   "execution_count": 0,
   "metadata": {
    "colab": {},
    "colab_type": "code",
    "id": "dcLzZWdXZWVb"
   },
   "outputs": [],
   "source": [
    "wid = 10**3\n",
    "range_list = range(wid,wid*10,wid)"
   ]
  },
  {
   "cell_type": "code",
   "execution_count": 0,
   "metadata": {
    "colab": {},
    "colab_type": "code",
    "id": "haJE4riJW6B5"
   },
   "outputs": [],
   "source": [
    "res_train=[]\n",
    "res_test=[]\n",
    "for c in range_list:\n",
    "    clf = sklearn.linear_model.LogisticRegression(C=c)\n",
    "    clf.fit(train_feature,train_target)\n",
    "    res_train.append(clf.score(train_feature,train_target))\n",
    "    res_test.append(clf.score(test_feature,test_target))"
   ]
  },
  {
   "cell_type": "markdown",
   "metadata": {
    "colab_type": "text",
    "id": "XGtUoSYKZf5x"
   },
   "source": [
    "\n",
    "\n",
    "*   リスト項目\n",
    "*   リスト項目\n",
    "\n"
   ]
  },
  {
   "cell_type": "code",
   "execution_count": 94,
   "metadata": {
    "colab": {
     "base_uri": "https://localhost:8080/",
     "height": 283
    },
    "colab_type": "code",
    "id": "5QDFeceLXwL7",
    "outputId": "5ed988c7-c8f7-4205-db04-673f0fa003c9"
   },
   "outputs": [
    {
     "data": {
      "image/png": "[encoded data removed]",
      "text/plain": [
       "<Figure size 432x288 with 1 Axes>"
      ]
     },
     "metadata": {
      "tags": []
     },
     "output_type": "display_data"
    }
   ],
   "source": [
    "plt.plot(range_list,res_train,label=\"train\")\n",
    "plt.plot(range_list,res_test,label=\"test\")\n",
    "plt.xlabel(\"param\")\n",
    "plt.ylabel(\"accuracy\")\n",
    "plt.legend()\n",
    "plt.show()"
   ]
  },
  {
   "cell_type": "markdown",
   "metadata": {
    "colab_type": "text",
    "id": "6Nv5OBiYZ21n"
   },
   "source": [
    "# 59 ハイパーパラメータの探索"
   ]
  },
  {
   "cell_type": "code",
   "execution_count": 0,
   "metadata": {
    "colab": {},
    "colab_type": "code",
    "id": "YNJNN2sqon1l"
   },
   "outputs": [],
   "source": [
    "# K nearest neighbors法"
   ]
  },
  {
   "cell_type": "code",
   "execution_count": 0,
   "metadata": {
    "colab": {},
    "colab_type": "code",
    "id": "PkZ1hMZSYVxs"
   },
   "outputs": [],
   "source": [
    "from sklearn.neighbors import KNeighborsClassifier\n",
    "from sklearn.metrics import accuracy_score"
   ]
  },
  {
   "cell_type": "code",
   "execution_count": 0,
   "metadata": {
    "colab": {},
    "colab_type": "code",
    "id": "i5ueL4A2aHeF"
   },
   "outputs": [],
   "source": [
    "knn = KNeighborsClassifier(n_neighbors=6) # インスタンス生成。n_neighbors:Kの数\n",
    "knn.fit(train_feature, train_target)                 # モデル作成実行\n",
    "y_pred = knn.predict(test_feature)              # 予測実行"
   ]
  },
  {
   "cell_type": "code",
   "execution_count": 98,
   "metadata": {
    "colab": {
     "base_uri": "https://localhost:8080/",
     "height": 34
    },
    "colab_type": "code",
    "id": "I3xRVsLSaQwF",
    "outputId": "ef4e0142-03ae-4340-ce1a-3550dffb50b8"
   },
   "outputs": [
    {
     "data": {
      "text/plain": [
       "0.7728635682158921"
      ]
     },
     "execution_count": 98,
     "metadata": {
      "tags": []
     },
     "output_type": "execute_result"
    }
   ],
   "source": [
    "accuracy_score(y_pred,test_target)"
   ]
  },
  {
   "cell_type": "code",
   "execution_count": 99,
   "metadata": {
    "colab": {
     "base_uri": "https://localhost:8080/",
     "height": 170
    },
    "colab_type": "code",
    "id": "SZ_ny07-afo8",
    "outputId": "23941cc0-4236-41e2-e6e5-346a2caefaad"
   },
   "outputs": [
    {
     "name": "stdout",
     "output_type": "stream",
     "text": [
      "k= 1 acc- 0.7586206896551724\n",
      "k= 2 acc- 0.7623688155922039\n",
      "k= 3 acc- 0.7706146926536732\n",
      "k= 4 acc- 0.7781109445277361\n",
      "k= 5 acc- 0.7758620689655172\n",
      "k= 6 acc- 0.7728635682158921\n",
      "k= 7 acc- 0.7683658170914542\n",
      "k= 8 acc- 0.7766116941529235\n",
      "k= 9 acc- 0.7631184407796102\n"
     ]
    }
   ],
   "source": [
    "for k in range(1,10):\n",
    "    knn = KNeighborsClassifier(n_neighbors=k) # インスタンス生成。n_neighbors:Kの数\n",
    "    knn.fit(train_feature, train_target)                 # モデル作成実行\n",
    "    y_pred = knn.predict(test_feature)              # 予測実行\n",
    "    print(\"k=\",k,\"acc-\",accuracy_score(y_pred,test_target))"
   ]
  },
  {
   "cell_type": "code",
   "execution_count": 0,
   "metadata": {
    "colab": {},
    "colab_type": "code",
    "id": "lk_FFobt8YAh"
   },
   "outputs": [],
   "source": []
  }
 ],
 "metadata": {
  "accelerator": "GPU",
  "colab": {
   "collapsed_sections": [],
   "name": "Chapter06.ipynb",
   "provenance": [],
   "version": "0.3.2"
  },
  "kernelspec": {
   "display_name": "Python 3",
   "language": "python",
   "name": "python3"
  },
  "language_info": {
   "codemirror_mode": {
    "name": "ipython",
    "version": 3
   },
   "file_extension": ".py",
   "mimetype": "text/x-python",
   "name": "python",
   "nbconvert_exporter": "python",
   "pygments_lexer": "ipython3",
   "version": "3.7.3"
  }
 },
 "nbformat": 4,
 "nbformat_minor": 1
}
