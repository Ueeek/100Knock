{
 "cells": [
  {
   "cell_type": "code",
   "execution_count": 45,
   "metadata": {},
   "outputs": [],
   "source": [
    "def openFile(path,mode=\"r\"):\n",
    "    with open (path,mode,encoding=\"utf-8\") as file:\n",
    "        text = file.read()\n",
    "    return text"
   ]
  },
  {
   "cell_type": "code",
   "execution_count": null,
   "metadata": {},
   "outputs": [],
   "source": []
  },
  {
   "cell_type": "code",
   "execution_count": 46,
   "metadata": {},
   "outputs": [
    {
     "name": "stdout",
     "output_type": "stream",
     "text": [
      "高知県\t江川崎\t41\t2013-08-12\n",
      "埼玉県\t熊谷\t40.9\t2007-08-16\n",
      "岐阜県\t多治見\t40.9\t2007-08-16\n",
      "山形県\t山形\t40.8\t1933-07-25\n",
      "山梨県\t甲府\t40.7\t2013-08-10\n",
      "和歌山県\tかつらぎ\t40.6\t1994-08-08\n",
      "静岡県\t天竜\t40.6\t1994-08-04\n",
      "山梨県\t勝沼\t40.5\t2013-08-10\n",
      "埼玉県\t越谷\t40.4\t2007-08-16\n",
      "群馬県\t館林\t40.3\t2007-08-16\n",
      "群馬県\t上里見\t40.3\t1998-07-04\n",
      "愛知県\t愛西\t40.3\t1994-08-05\n",
      "千葉県\t牛久\t40.2\t2004-07-20\n",
      "静岡県\t佐久間\t40.2\t2001-07-24\n",
      "愛媛県\t宇和島\t40.2\t1927-07-22\n",
      "山形県\t酒田\t40.1\t1978-08-03\n",
      "岐阜県\t美濃\t40\t2007-08-16\n",
      "群馬県\t前橋\t40\t2001-07-24\n",
      "千葉県\t茂原\t39.9\t2013-08-11\n",
      "埼玉県\t鳩山\t39.9\t1997-07-05\n",
      "大阪府\t豊中\t39.9\t1994-08-08\n",
      "山梨県\t大月\t39.9\t1990-07-19\n",
      "山形県\t鶴岡\t39.9\t1978-08-03\n",
      "愛知県\t名古屋\t39.9\t1942-08-02\n",
      "\n"
     ]
    }
   ],
   "source": [
    "text=openFile(\"./Chapter2.txt\")\n",
    "print(text)"
   ]
  },
  {
   "cell_type": "markdown",
   "metadata": {},
   "source": [
    "## 10.行数"
   ]
  },
  {
   "cell_type": "markdown",
   "metadata": {},
   "source": [
    "### python"
   ]
  },
  {
   "cell_type": "code",
   "execution_count": 24,
   "metadata": {},
   "outputs": [],
   "source": [
    "def wc_L(text):\n",
    "    return text.count(\"\\n\")"
   ]
  },
  {
   "cell_type": "code",
   "execution_count": 25,
   "metadata": {},
   "outputs": [
    {
     "data": {
      "text/plain": [
       "24"
      ]
     },
     "execution_count": 25,
     "metadata": {},
     "output_type": "execute_result"
    }
   ],
   "source": [
    "wc_L(text)"
   ]
  },
  {
   "cell_type": "markdown",
   "metadata": {},
   "source": [
    "### Unix"
   ]
  },
  {
   "cell_type": "code",
   "execution_count": 11,
   "metadata": {},
   "outputs": [
    {
     "name": "stdout",
     "output_type": "stream",
     "text": [
      "      24 Chapter2.txt\r\n"
     ]
    }
   ],
   "source": [
    "! wc -l Chapter2.txt"
   ]
  },
  {
   "cell_type": "markdown",
   "metadata": {},
   "source": [
    "## 11.タブ"
   ]
  },
  {
   "cell_type": "markdown",
   "metadata": {},
   "source": [
    "### python"
   ]
  },
  {
   "cell_type": "code",
   "execution_count": 26,
   "metadata": {},
   "outputs": [],
   "source": [
    "def myExpand(text):\n",
    "    return text.replace(\"\\t\",\" \")"
   ]
  },
  {
   "cell_type": "code",
   "execution_count": 29,
   "metadata": {},
   "outputs": [
    {
     "name": "stdout",
     "output_type": "stream",
     "text": [
      "高知県 江川崎 41 2013-08-12\n",
      "埼玉県 熊谷 40.9 2007-08-16\n",
      "岐阜県 多治見 40.9 2007-08-16\n",
      "山形県 山形 40.8 1933-07-25\n",
      "山梨県 甲府 40.7 2013-08-10\n",
      "和歌山県 かつらぎ 40.6 1994-08-08\n",
      "静岡県 天竜 40.6 1994-08-04\n",
      "山梨県 勝沼 40.5 2013-08-10\n",
      "埼玉県 越谷 40.4 2007-08-16\n",
      "群馬県 館林 40.3 2007-08-16\n",
      "群馬県 上里見 40.3 1998-07-04\n",
      "愛知県 愛西 40.3 1994-08-05\n",
      "千葉県 牛久 40.2 2004-07-20\n",
      "静岡県 佐久間 40.2 2001-07-24\n",
      "愛媛県 宇和島 40.2 1927-07-22\n",
      "山形県 酒田 40.1 1978-08-03\n",
      "岐阜県 美濃 40 2007-08-16\n",
      "群馬県 前橋 40 2001-07-24\n",
      "千葉県 茂原 39.9 2013-08-11\n",
      "埼玉県 鳩山 39.9 1997-07-05\n",
      "大阪府 豊中 39.9 1994-08-08\n",
      "山梨県 大月 39.9 1990-07-19\n",
      "山形県 鶴岡 39.9 1978-08-03\n",
      "愛知県 名古屋 39.9 1942-08-02\n",
      "\n"
     ]
    }
   ],
   "source": [
    "print(myExpand(text))"
   ]
  },
  {
   "cell_type": "code",
   "execution_count": 35,
   "metadata": {},
   "outputs": [],
   "source": [
    "! expand -t 1 Chapter2.txt  > chap2_new.txt"
   ]
  },
  {
   "cell_type": "code",
   "execution_count": 36,
   "metadata": {},
   "outputs": [
    {
     "name": "stdout",
     "output_type": "stream",
     "text": [
      "高知県 江川崎 41 2013-08-12\r\n",
      "埼玉県 熊谷 40.9 2007-08-16\r\n",
      "岐阜県 多治見 40.9 2007-08-16\r\n",
      "山形県 山形 40.8 1933-07-25\r\n",
      "山梨県 甲府 40.7 2013-08-10\r\n",
      "和歌山県 かつらぎ 40.6 1994-08-08\r\n",
      "静岡県 天竜 40.6 1994-08-04\r\n",
      "山梨県 勝沼 40.5 2013-08-10\r\n",
      "埼玉県 越谷 40.4 2007-08-16\r\n",
      "群馬県 館林 40.3 2007-08-16\r\n",
      "群馬県 上里見 40.3 1998-07-04\r\n",
      "愛知県 愛西 40.3 1994-08-05\r\n",
      "千葉県 牛久 40.2 2004-07-20\r\n",
      "静岡県 佐久間 40.2 2001-07-24\r\n",
      "愛媛県 宇和島 40.2 1927-07-22\r\n",
      "山形県 酒田 40.1 1978-08-03\r\n",
      "岐阜県 美濃 40 2007-08-16\r\n",
      "群馬県 前橋 40 2001-07-24\r\n",
      "千葉県 茂原 39.9 2013-08-11\r\n",
      "埼玉県 鳩山 39.9 1997-07-05\r\n",
      "大阪府 豊中 39.9 1994-08-08\r\n",
      "山梨県 大月 39.9 1990-07-19\r\n",
      "山形県 鶴岡 39.9 1978-08-03\r\n",
      "愛知県 名古屋 39.9 1942-08-02\r\n"
     ]
    }
   ],
   "source": [
    "! cat chap2_new.txt"
   ]
  },
  {
   "cell_type": "code",
   "execution_count": 19,
   "metadata": {},
   "outputs": [
    {
     "name": "stdout",
     "output_type": "stream",
     "text": [
      "Chapter2.ipynb Chapter2.txt   chap2_new.txt\r\n"
     ]
    }
   ],
   "source": [
    "! ls"
   ]
  },
  {
   "cell_type": "markdown",
   "metadata": {},
   "source": [
    "### 12.cut"
   ]
  },
  {
   "cell_type": "code",
   "execution_count": 52,
   "metadata": {},
   "outputs": [],
   "source": [
    "def myCut(text):\n",
    "    col1=[]\n",
    "    col2=[]\n",
    "    for l in text.split(\"\\n\")[:-1]:\n",
    "        tmp = l.split(\"\\t\")\n",
    "        col1.append(tmp[0])\n",
    "        col2.append(tmp[1])\n",
    "\n",
    "    with open(\"./col1.txt\",\"w\") as file:\n",
    "        file.write(\"\\n\".join(col1))\n",
    "    with open(\"./col2.txt\",\"w\") as file:\n",
    "        file.write(\"\\n\".join(col2))        \n",
    "    \n",
    "        "
   ]
  },
  {
   "cell_type": "code",
   "execution_count": 53,
   "metadata": {},
   "outputs": [],
   "source": [
    "myCut(text)"
   ]
  },
  {
   "cell_type": "code",
   "execution_count": 56,
   "metadata": {},
   "outputs": [
    {
     "name": "stdout",
     "output_type": "stream",
     "text": [
      "高知県\r\n",
      "埼玉県\r\n",
      "岐阜県\r\n",
      "山形県\r\n",
      "山梨県\r\n",
      "和歌山県\r\n",
      "静岡県\r\n",
      "山梨県\r\n",
      "埼玉県\r\n",
      "群馬県\r\n",
      "群馬県\r\n",
      "愛知県\r\n",
      "千葉県\r\n",
      "静岡県\r\n",
      "愛媛県\r\n",
      "山形県\r\n",
      "岐阜県\r\n",
      "群馬県\r\n",
      "千葉県\r\n",
      "埼玉県\r\n",
      "大阪府\r\n",
      "山梨県\r\n",
      "山形県\r\n",
      "愛知県"
     ]
    }
   ],
   "source": [
    "cat col1.txt"
   ]
  },
  {
   "cell_type": "code",
   "execution_count": 66,
   "metadata": {},
   "outputs": [
    {
     "name": "stdout",
     "output_type": "stream",
     "text": [
      "江川崎\r\n",
      "熊谷\r\n",
      "多治見\r\n",
      "山形\r\n",
      "甲府\r\n",
      "かつらぎ\r\n",
      "天竜\r\n",
      "勝沼\r\n",
      "越谷\r\n",
      "館林\r\n",
      "上里見\r\n",
      "愛西\r\n",
      "牛久\r\n",
      "佐久間\r\n",
      "宇和島\r\n",
      "酒田\r\n",
      "美濃\r\n",
      "前橋\r\n",
      "茂原\r\n",
      "鳩山\r\n",
      "豊中\r\n",
      "大月\r\n",
      "鶴岡\r\n",
      "名古屋"
     ]
    }
   ],
   "source": [
    "cat col2.txt"
   ]
  },
  {
   "cell_type": "markdown",
   "metadata": {},
   "source": [
    "### Unix"
   ]
  },
  {
   "cell_type": "code",
   "execution_count": 63,
   "metadata": {},
   "outputs": [
    {
     "name": "stdout",
     "output_type": "stream",
     "text": [
      "高知県\r\n",
      "埼玉県\r\n",
      "岐阜県\r\n",
      "山形県\r\n",
      "山梨県\r\n",
      "和歌山県\r\n",
      "静岡県\r\n",
      "山梨県\r\n",
      "埼玉県\r\n",
      "群馬県\r\n",
      "群馬県\r\n",
      "愛知県\r\n",
      "千葉県\r\n",
      "静岡県\r\n",
      "愛媛県\r\n",
      "山形県\r\n",
      "岐阜県\r\n",
      "群馬県\r\n",
      "千葉県\r\n",
      "埼玉県\r\n",
      "大阪府\r\n",
      "山梨県\r\n",
      "山形県\r\n",
      "愛知県\r\n"
     ]
    }
   ],
   "source": [
    "! cut -f 1  Chapter2.txt"
   ]
  },
  {
   "cell_type": "code",
   "execution_count": 65,
   "metadata": {},
   "outputs": [
    {
     "name": "stdout",
     "output_type": "stream",
     "text": [
      "江川崎\r\n",
      "熊谷\r\n",
      "多治見\r\n",
      "山形\r\n",
      "甲府\r\n",
      "かつらぎ\r\n",
      "天竜\r\n",
      "勝沼\r\n",
      "越谷\r\n",
      "館林\r\n",
      "上里見\r\n",
      "愛西\r\n",
      "牛久\r\n",
      "佐久間\r\n",
      "宇和島\r\n",
      "酒田\r\n",
      "美濃\r\n",
      "前橋\r\n",
      "茂原\r\n",
      "鳩山\r\n",
      "豊中\r\n",
      "大月\r\n",
      "鶴岡\r\n",
      "名古屋\r\n"
     ]
    }
   ],
   "source": [
    "! cut -f 2 Chapter2.txt"
   ]
  },
  {
   "cell_type": "code",
   "execution_count": null,
   "metadata": {},
   "outputs": [],
   "source": []
  }
 ],
 "metadata": {
  "kernelspec": {
   "display_name": "Python 3",
   "language": "python",
   "name": "python3"
  },
  "language_info": {
   "codemirror_mode": {
    "name": "ipython",
    "version": 3
   },
   "file_extension": ".py",
   "mimetype": "text/x-python",
   "name": "python",
   "nbconvert_exporter": "python",
   "pygments_lexer": "ipython3",
   "version": "3.6.1"
  }
 },
 "nbformat": 4,
 "nbformat_minor": 2
}
